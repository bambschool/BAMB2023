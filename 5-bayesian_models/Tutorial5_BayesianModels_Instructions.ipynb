{
  "cells": [
    {
      "cell_type": "markdown",
      "metadata": {
        "id": "z3bkcStgj37A"
      },
      "source": [
        "# **BAYESIAN MODELS**"
      ]
    },
    {
      "cell_type": "code",
      "execution_count": null,
      "metadata": {
        "id": "ObtAcirQEinz"
      },
      "outputs": [],
      "source": [
        "import numpy as np\n",
        "import pandas as pd\n",
        "\n",
        "import scipy.stats as sps\n",
        "import scipy.integrate as spi\n",
        "import scipy.special as spsc\n",
        "import scipy.optimize as spo\n",
        "\n",
        "import matplotlib.pyplot as plt\n"
      ]
    },
    {
      "cell_type": "markdown",
      "metadata": {
        "id": "rUFHA2h7l2hP"
      },
      "source": [
        "## **Contents**\n",
        "\n",
        "1. Basic bayes\n",
        "\n",
        "      a. Bayes theorem\n",
        "\n",
        "      b. Bayesian statistics\n",
        "\n",
        "      c. Using prior knowledge\n",
        "\n",
        "\n",
        "2. Bayesian observers\n",
        "\n",
        "      a. Neural orientation likelihoods\n",
        "\n",
        "      b. Cardinal prior\n",
        "\n",
        "      c. Biological implementation\n",
        "\n",
        "\n",
        "3. Bayesian cognition\n",
        "\n",
        "      a. Tomorrow's prior\n",
        "\n",
        "      b. Optimal vs Human\n",
        "\n",
        "      c. Estimating suboptimalities"
      ]
    },
    {
      "cell_type": "markdown",
      "metadata": {
        "id": "LXFCxjmCm8rR"
      },
      "source": [
        "## Part 1: Basic Bayes"
      ]
    },
    {
      "cell_type": "markdown",
      "metadata": {
        "id": "6jBkgFM3nIDY"
      },
      "source": [
        "### 1a. Bayes Theorem"
      ]
    },
    {
      "cell_type": "markdown",
      "metadata": {
        "id": "9K7NQd8cncFI"
      },
      "source": [
        "Bayes' theorem looks rather simple:\n",
        "\n",
        "\\begin{align}\n",
        " p(A|B) = \\frac{p(B|A) p(A)} {p(B)}\n",
        "\\end{align}\n",
        "\n",
        "\\\\\n",
        "The probability of A given B is equal to the probability of B given A multiplied by the probability of A, divided by the probability of B. But many people find this unintuitive, generating what's known as base-rate neglect (Kahneman & Tversky, 1973). The typical example is:\n",
        "\n",
        "*Suppose that 0.1% of all people in a population carry a virus. A\n",
        "diagnostic test for this virus detects it in 100% of the people who have the virus, but also gives false alarms on 5% of the people who do not have the virus. What is the chance that a person with a positive test result actually has the virus?*\n",
        "\n",
        "In a recent experiment (Stengard et al., Cognition, 2022) found the modal response was \"95%\" (~20% of participants).\n",
        "\n",
        "Calculate the correct response using Bayes Theorem. Use A = \"having the virus\" and B = \"testing positive\""
      ]
    },
    {
      "cell_type": "code",
      "execution_count": null,
      "metadata": {
        "id": "oM2i0H4jqdG8"
      },
      "outputs": [],
      "source": [
        "# Define pA, the probability of having the virus\n",
        "\n",
        "# Define pBA, the probability of testing positive given you have the virus\n",
        "\n",
        "# Define pB, the probability of testing positive\n",
        "# This is the sum of the 0.1% of the population who have the virus and will\n",
        "# test positive, plus the 99.9% of the population who have a 5% chance of\n",
        "# testing positive\n",
        "\n",
        "# Apply Bayes theorem, pAB = (pBA*pA)/pB and print the result\n"
      ]
    },
    {
      "cell_type": "markdown",
      "metadata": {
        "id": "EJk6wrZcqj3d"
      },
      "source": [
        "Stengard et al., found just 9% of participants gave an answer between 1.8% and 2.2%, in line with previous studies, where the correct answer is given less than 20% of the time.\n",
        "\n",
        "If you found that unintuitive, try another (Based on Bar-Hillel, 1980):\n",
        "\n",
        "*In the city, 85% of cabs are blue and 15% are green. In a hit and run accident, an eye-witness identifies a green cab. The accident happened at night, and when tested, it was found the witness confuses blue and green at night 20% of the time. What is the chance the cab was green?*\n",
        "\n",
        "A = \"cab is green\", B = \"witness sees green\""
      ]
    },
    {
      "cell_type": "code",
      "execution_count": null,
      "metadata": {
        "id": "hq656PP_q-2Q"
      },
      "outputs": [],
      "source": [
        "# Define pA, the probability that the cab is green\n",
        "\n",
        "# Define pBA, the probability that the witness reports a green cab is green\n",
        "\n",
        "# Define pB, the probability that the witness reports a green cab, given either\n",
        "# a green or a blue cab\n",
        "\n",
        "# Apply Bayes and print the result\n"
      ]
    },
    {
      "cell_type": "markdown",
      "source": [
        "Correct answer: 41.38%"
      ],
      "metadata": {
        "id": "jtwL4PXInqV-"
      }
    },
    {
      "cell_type": "markdown",
      "metadata": {
        "id": "w2VGshiDrDGZ"
      },
      "source": [
        "### 1b. Bayesian Statistics"
      ]
    },
    {
      "cell_type": "markdown",
      "metadata": {
        "id": "m5zQIByOrMLK"
      },
      "source": [
        "The terms of Bayes theorem are often referred to as:\n",
        "- the posterior $p(A|B)$,\n",
        "- the likelihood $p(B|A)$,\n",
        "- the prior $p(A)$, and\n",
        "- the marginal likelihood $p(B)$.\n",
        "\n",
        "Here we use the term 'likelihood'.\n",
        "\n",
        "Note that probabilities have to add to 1: $p(A) = 1 - p({\\displaystyle \\neg }A)$, likelihoods do not.\n",
        "\n",
        "In Bayesian statistics, we think about this in terms of data (e.g., a random variable $\\boldsymbol{x}$) and model parameters $\\theta$: We ask, *what is the probability of the model parameter, given the data, $p(\\theta | \\boldsymbol{x})$?*\n",
        "\n",
        "For example, what is the probability of the null hypothesis that the mean is 0? Which is calculated as the probability of the data given the model parameter $p(\\boldsymbol{x}|\\theta)$, multiplied by the prior probability of model parameter $p(\\theta)$. Therefore, Bayes theorem in the context of parameter estimation is\n",
        "\n",
        "\\begin{align}\n",
        " p(\\theta|\\boldsymbol{x}) = \\frac{p(\\boldsymbol{x}|\\theta) p(\\theta)} {p(\\boldsymbol{x})}\n",
        "\\end{align}\n",
        "\n",
        "\n",
        "\\\\\n",
        "\n",
        "\n",
        "Simple example: We observe N = 20 samples of data $\\boldsymbol{x}$, which have been sampled from a Gaussian with a true mean $\\mu = 0$ and standard deviation $\\sigma = 1$: $\\boldsymbol{x} \\sim \\mathcal{N}(0, 1)$. Our parameters are $\\theta = \\{\\mu, \\sigma \\}$.\n",
        "\n",
        "\\\\\n",
        "\n",
        "Use `sps.norm.rvs(loc=mu, scale=sigma, size=N)` to take 20 samples of data."
      ]
    },
    {
      "cell_type": "code",
      "execution_count": null,
      "metadata": {
        "id": "mv6MCtQZsrqQ"
      },
      "outputs": [],
      "source": [
        "# take 20 random samples from a Normal distribution\n"
      ]
    },
    {
      "cell_type": "markdown",
      "metadata": {
        "id": "WQtRISB0tGJU"
      },
      "source": [
        " Assume we know the true standard deviation is 1, but we're unsure about  the true mean: it could be anywhere between -1 and 1, with equal likelihood (uniform/uninformative prior)."
      ]
    },
    {
      "cell_type": "code",
      "execution_count": null,
      "metadata": {
        "id": "71p5O968tMDJ"
      },
      "outputs": [],
      "source": [
        "\n",
        "# Prior function: A function of mu that uses sps.uniform.pdf to calculate the\n",
        "# likelihood of mu under the prior uniform distribution; location = -1, scale = 2\n",
        "def uniform_prior(mu):\n",
        "\n",
        "    prior = sps.uniform.pdf(x=mu, loc=-1, scale=2)\n",
        "\n",
        "    return prior\n",
        "\n",
        "\n",
        "# Likelihood function: returns the likelihood of the data given mu. The input\n",
        "# The likelihood function is a normal distribution: sps.norm.pdf with scale\n",
        "# (sigma) fixed to 1 (because we are assuming we know the true standard deviation)\n",
        "def likelihood(data, mu):\n",
        "\n",
        "    lh = sps.norm.pdf(x=data, loc=mu, scale=1)\n",
        "\n",
        "    return lh\n",
        "\n",
        "\n"
      ]
    },
    {
      "cell_type": "markdown",
      "metadata": {
        "id": "pb_CFJ1xt5_7"
      },
      "source": [
        "The posterior can be defined as proportional to the prior multiplied by the likelihood: $p(\\theta | \\boldsymbol{x}) \\propto p(\\theta) p(\\boldsymbol{x} | \\theta)$.\n",
        "\n",
        "For now, ignore the marginal likelihood $p(\\boldsymbol{x})$."
      ]
    },
    {
      "cell_type": "code",
      "execution_count": null,
      "metadata": {
        "id": "FiKcFFTJuEUs"
      },
      "outputs": [],
      "source": [
        "# A function to return the posterior:\n",
        "# uniform_prior(mu) * likelihood(data, mu)\n",
        "# The posterior is the product over the data samples\n",
        "\n",
        "def posterior_prod(mu, data):\n",
        "\n",
        "    post = uniform_prior(mu) * likelihood(data, mu)\n",
        "\n",
        "    return np.prod(post)\n"
      ]
    },
    {
      "cell_type": "markdown",
      "metadata": {
        "id": "oxLJAsT-wvGK"
      },
      "source": [
        "To visualise, make a histogram of the data and overlay distributions with 10 possible means."
      ]
    },
    {
      "cell_type": "code",
      "execution_count": null,
      "metadata": {
        "id": "No1JAk8Uxb1W"
      },
      "outputs": [],
      "source": [
        "# Use np.linspace to take 5 possible means between -1 and 1\n",
        "\n",
        "\n",
        "# For the x-axis, take 100 possible values between -4 and 4\n",
        "\n",
        "\n",
        "# Plot a histogram of the observed data (use density=True)\n",
        "plt.figure(figsize=(3,2), dpi=100)\n",
        "\n",
        "\n",
        "\n",
        "\n",
        "# Overlay the expected distributions for each of the 5 possible mus\n",
        "# You can use the likelihood function with data=xs (the x-axis values)\n",
        "\n",
        "\n",
        "\n",
        "plt.xlabel('Data value')\n",
        "plt.ylabel('Density')"
      ]
    },
    {
      "cell_type": "markdown",
      "metadata": {
        "id": "gg3wzRI8z-2S"
      },
      "source": [
        "Plot the prior, the likelihood, and the posterior, over 100 discrete possible means."
      ]
    },
    {
      "cell_type": "code",
      "execution_count": null,
      "metadata": {
        "id": "-aASSpLH0LIb"
      },
      "outputs": [],
      "source": [
        "# Define a new x-axis, which is 100 possible mus evenly spaced between -1 and 1\n",
        "\n",
        "\n",
        "fig = plt.figure(figsize=(6,6))\n",
        "ax = fig.subplots(3, 1)\n",
        "# On subplot 1, plot the uniform prior function of mu\n",
        "\n",
        "\n",
        "ax[0].set(xlabel='mu', ylabel='prior')\n",
        "\n",
        "# On a second subplot, plot the likelihood of the data as a function of mu\n",
        "# The likelihood is the product across data samples, so take the output of the\n",
        "# likelihood function as a numpy array\n",
        "\n",
        "\n",
        "ax[1].set(xlabel='mu', ylabel='likelihood')\n",
        "\n",
        "# Calculate the posterior, using the functions, for each possible mu\n",
        "\n",
        "\n",
        "\n",
        "ax[2].set(xlabel='mu', ylabel='posterior')\n",
        "plt.tight_layout()"
      ]
    },
    {
      "cell_type": "markdown",
      "metadata": {
        "id": "DqIvPZz91q2b"
      },
      "source": [
        "What is the posterior probability of the null hypothesis that the mean\n",
        "is 0?\n"
      ]
    },
    {
      "cell_type": "code",
      "execution_count": null,
      "metadata": {
        "id": "fgMMO3Z41yX6"
      },
      "outputs": [],
      "source": [
        "# Define pH0, the value of the posterior at mean = 0 and print the value\n",
        "\n"
      ]
    },
    {
      "cell_type": "markdown",
      "metadata": {
        "id": "XIkGNaAS2AXO"
      },
      "source": [
        "What is the posterior probability of alternative hypothesis 1: the mean is greater than 0 (up to 1)?\n",
        "\n",
        "For this, we could do some math (integrate over values from 0 to 1), but in reality we're often faced with more complicated problems that don't have simple mathematical solutions... We can use numerical integration to estimate the probability density under the posterior from 0 to 1. Use the function `spi.quad(function, a, b)` to integrate the posterior from a=0 to b=1. An easy way to pass the function"
      ]
    },
    {
      "cell_type": "code",
      "execution_count": null,
      "metadata": {
        "id": "NkPiIN152fPe"
      },
      "outputs": [],
      "source": [
        "# Calculate pH1 using spi.quad, and the posterior function we already defined\n",
        "\n"
      ]
    },
    {
      "cell_type": "markdown",
      "metadata": {
        "id": "4KEg7N2E2q7s"
      },
      "source": [
        "Model comparison can be performed using Bayes factor:\n",
        "\n",
        "\\begin{align}\n",
        "BF = \\frac{p(H_0)}{p(H_1)}\n",
        "\\end{align}"
      ]
    },
    {
      "cell_type": "code",
      "execution_count": null,
      "metadata": {
        "id": "mEirbATz3QDs"
      },
      "outputs": [],
      "source": [
        "# Calculate BF and print the result\n",
        "\n"
      ]
    },
    {
      "cell_type": "markdown",
      "metadata": {
        "id": "SkD2l0nD3UCH"
      },
      "source": [
        "If this kind of comparison is our goal, we can safely ignore the\n",
        "marginal likelihood term, probability of the data $p(\\boldsymbol{x})$, because it is the same for $p(H_0)$ and $p(H_1)$.\n"
      ]
    },
    {
      "cell_type": "markdown",
      "metadata": {
        "id": "-c-G0MMh3q9Y"
      },
      "source": [
        "### 1c. Using Prior Knowledge"
      ]
    },
    {
      "cell_type": "markdown",
      "metadata": {
        "id": "2yAEVlUd302X"
      },
      "source": [
        "What if we have some idea that the mean should be close to 0?\n",
        "\n",
        "We can set the prior to a normal distribution, with a mean of 0 and a stantard deviation of 0.2\n"
      ]
    },
    {
      "cell_type": "code",
      "execution_count": null,
      "metadata": {
        "id": "Fc622V_X397F"
      },
      "outputs": [],
      "source": [
        "# Define a new function for the prior, which is a gaussian distribution\n",
        "# over possible mus, with location = 0 and scale = 0.2\n",
        "\n",
        "\n",
        "\n",
        "# Define a new function for the prosterior, which is the same as before,\n",
        "# but uses the new gaussian prior\n",
        "\n"
      ]
    },
    {
      "cell_type": "markdown",
      "metadata": {
        "id": "EQp52qio4FdZ"
      },
      "source": [
        "To visualise, plot the two priors, likelihood, and the two different posteriors in the same manner as before"
      ]
    },
    {
      "cell_type": "code",
      "execution_count": null,
      "metadata": {
        "id": "hykBjJpW4HYz"
      },
      "outputs": [],
      "source": [
        "# Make a new figure with 3 subplots\n",
        "fig = plt.figure(figsize=(6,6))\n",
        "ax = fig.subplots(3, 1)\n",
        "\n",
        "\n",
        "\n",
        "# On the first subplot, plot the uniform prior as before, and the new gaussian prior\n",
        "# (Use different colours)\n",
        "\n",
        "\n",
        "ax[0].set(xlabel='mu', ylabel='prior')\n",
        "\n",
        "# On the second subplot, plot the likelihood as before\n",
        "\n",
        "\n",
        "ax[1].set(xlabel='mu', ylabel='likelihood')\n",
        "\n",
        "# On the third subplot, plot the previous posterior,\n",
        "\n",
        "\n",
        "# and overlay the new posterior\n",
        "# use the right-hand y-axis, as there is a big difference in the posterior\n",
        "# (twinx().plot)\n",
        "\n",
        "\n",
        "\n",
        "ax[2].set(xlabel='mu', ylabel='posterior')\n",
        "plt.tight_layout()"
      ]
    },
    {
      "cell_type": "markdown",
      "source": [
        "Re-calculate the likelihood of the null, the alternative, and Bayes Factor, using the new prior"
      ],
      "metadata": {
        "id": "LF45LB3K4buI"
      }
    },
    {
      "cell_type": "code",
      "execution_count": null,
      "metadata": {
        "id": "SThHEMzjEin-"
      },
      "outputs": [],
      "source": [
        "# The likelihood of the null hypothesis that the mean is 0\n",
        "\n",
        "\n",
        "\n",
        "# Use spi.quad to estimate the likelihood of the alternative hypothesis as before\n",
        "\n",
        "\n",
        "# Print Bayes Factor\n"
      ]
    },
    {
      "cell_type": "markdown",
      "metadata": {
        "id": "9XrAzOp652-c"
      },
      "source": [
        "You should see that the posterior is now closer to 0 and has a tighter range: using a more specific prior increases accuracy and decreases uncertainty (so long as the prior is valid).\n",
        "\n",
        "Bayes Factor is also much larger, indicating greater evidence in favour of the null hypothesis.\n",
        "\n",
        "\\\\\n",
        "\n",
        "Things can get more complicated: we're often dealing with uncertainty across multiple parameters. Say we didn't know the standard deviation, then we would have to marginalise this out to look at the posterior mean. Marginalising is another integral, we would end up with:\n",
        "\n",
        "\\begin{align}\n",
        "p(H_1|\\boldsymbol{x}) = \\int{ \\int{ p(\\boldsymbol{x}|\\mu,\\sigma)p(\\sigma)p(\\mu)d\\sigma} d\\mu}\n",
        "\\end{align}\n",
        "\n",
        "As things get more complicated, we can switch the MCMC to estimate the integral. This is a problem for another day.\n",
        "\n",
        "A great introduction to the MCMC approach:\n",
        "van de Schoot, R., Depaoli, S., King, R., Kramer, B., Märtens, K., Tadesse, M. G., ... & Yau, C. (2021). Bayesian statistics and modelling. Nature Reviews Methods Primers, 1(1), 1.\n",
        "\n",
        "More on Bayesian hypothesis testing:\n",
        "Kruschke, J. (2014). Doing Bayesian data analysis. A tutorial with R:\n",
        "JAGS, and Stan. Elsevier Science.\n",
        "AKA \"The puppy book\"\n"
      ]
    },
    {
      "cell_type": "markdown",
      "metadata": {
        "id": "rKLpamKTEZDE"
      },
      "source": [
        "## Part 2: Bayesian Observers"
      ]
    },
    {
      "cell_type": "markdown",
      "metadata": {
        "id": "FfG-hDKLEh-b"
      },
      "source": [
        "### 2a. Neual Orientation Likelihoods"
      ]
    },
    {
      "cell_type": "markdown",
      "metadata": {
        "id": "8aiz2l8zEo2s"
      },
      "source": [
        "Bayes is the ***'optimal'*** way to use what we know about previous 'states of the world' to have better estimates of current 'states of the world', as well as reducing our uncertainty.\n",
        "\n",
        "Perception is a fundamental example of a useful application of Bayes: we do not have direct access to any 'truth' of the world around us, only noisy estimates from indirect measures (light, sound, et cetera).\n",
        "\n",
        "Perception is the result of a decision about the most likely cause of the noisy and ambigous sensory evidence, which is additionally disrupted by our own noisy perceptual processes.\n",
        "\n",
        "Using Bayes, this can be framed as taking the maximum likelihood of our\n",
        "posterior estimate of the cause of our sensations:\n",
        "\n",
        "\\\\\n",
        "\n",
        "\\begin{align}\n",
        "p(cause | sensations) = \\frac{p(sensations | cause)p(cause)} { p(sensations)}\n",
        "\\end{align}\n",
        "\n",
        "\\\\\n",
        "\n",
        "A basic example is in perceiving the orientation of a line.\n",
        "\n",
        "V1, the first cortical step of visual processing, contains neurons whose firing rates are a function of orientation. Specifically, firing rate is modulated according to a circular gaussian (Von Mises) distribution, with a certain mean, mu, and concentration, kappa (~ inverse variance).\n",
        "\n",
        "\n"
      ]
    },
    {
      "cell_type": "code",
      "execution_count": null,
      "metadata": {
        "id": "ih57f082Ein_"
      },
      "outputs": [],
      "source": [
        "# Von Mises Distribution:\n",
        "def vmdist(x, kappa, mu):\n",
        "\n",
        "    pdf = (1 / (np.pi * spsc.i0(kappa))) * np.exp(kappa * np.cos(2 * (x - mu)))\n",
        "\n",
        "    return pdf"
      ]
    },
    {
      "cell_type": "markdown",
      "source": [
        "Let's pretend V1 has 18 neurons, whose firing rates are tuned according to distributions with means equidistant across the full 180 degrees of possible orientations.\n",
        "\n",
        "Plot the firing rates of the 18 neurons as a function of presented orientation"
      ],
      "metadata": {
        "id": "t41CFdrS6KmV"
      }
    },
    {
      "cell_type": "code",
      "execution_count": null,
      "metadata": {
        "id": "UXnshJCQFkGu"
      },
      "outputs": [],
      "source": [
        "nneurons = 18\n",
        "\n",
        "# Define v1mus as linearly spaced between 0 and pi\n",
        "\n",
        "\n",
        "# Von Mises concentration parameter\n",
        "kappa = 3.65  # estimating fwhm of about 70 deg, similar to real V1 neurons\n",
        "\n",
        "# To plot, use an even sampling of possible presented orientations, 180 between 0 and pi\n",
        "# Define oris, the samples of possible presented orientations\n",
        "\n",
        "\n",
        "\n",
        "# Create an array of the firing rates as a function of presented orientations\n",
        "# for the 18 neurons, where each row is a neuron\n",
        "# Use the Von Mises distribution function defined above\n",
        "\n",
        "\n",
        "\n",
        "# Plot the firing rate of each neuron as a function of presented orientation\n",
        "fig, ax = plt.subplots()\n",
        "\n",
        "\n",
        "\n",
        "ax.set(xlabel='Presented Orientation', ylabel='Firing rate')"
      ]
    },
    {
      "cell_type": "markdown",
      "metadata": {
        "id": "keTLhpwvGxsC"
      },
      "source": [
        "Neuron spike counts tend to be poisson distributed, the plot shows something proportional to mean firing rate (in response to each presented orientation), the mean is also proportional to the variance (because it's a poisson).\n",
        "\n",
        "You should see from the plot that the firing rate of any one neuron is ambiguous with respect to which orientation was presented. For example, if the neuron maximally tuned to 90 degrees (cyan if using default colours) were firing at 0.8 of its maximal rate, this could be due to a presented orientation of either ~80 degrees or ~110 degrees.\n",
        "\n",
        "\n"
      ]
    },
    {
      "cell_type": "markdown",
      "source": [
        "The log-likelihood of the stimulus orientation given the neuron's spike count can be estimated as the spike count multiplied by the log of the firing rate function (Seung & Sompolinsky, 1993; Jazayeri & Movshon, 2006).\n",
        "\n",
        "The estimate of the orientation will be the maximum a posteriori likelihood (**MAP**).\n",
        "\n",
        "\n",
        "\\\\\n",
        "\n",
        "\n",
        "Note: working with log probability is easier than working with probability\n",
        "\n",
        "Reminder:\n",
        "\n",
        "$log(p(A)p(B)) = log(p(A)) + log(p(B))$\n",
        "\n",
        "$log(p(A)/p(B)) = log(p(A)) - log(p(B))$\n",
        "\n",
        "\\\\\n",
        "\n",
        "So if we want to calculate the log-likelihood of the presented orientation given the response of all neurons we can *sum* the log likelihoods across all neurons.\n"
      ],
      "metadata": {
        "id": "0McBJEeN-plO"
      }
    },
    {
      "cell_type": "code",
      "execution_count": null,
      "metadata": {
        "id": "9t218clKEioI"
      },
      "outputs": [],
      "source": [
        "# We are going to estimate the average MAP orientation based on the average\n",
        "# firing rates of our 18 neurons, in response to 15 test orientations\n",
        "ntest = 15\n",
        "\n",
        "# Define the test orientations as linearly spaced between 0 and pi\n",
        "\n",
        "\n",
        "\n",
        "# The average posterior log likelihood is the log of the firing rate function\n",
        "# multiplied by the firing rate, summed over the neurons\n",
        "# Calculate the averate posterior log likelihood for each presented test orientation\n",
        "# (the posterior log likelihood distributed over the possible orientations defined above)\n",
        "\n",
        "\n",
        "\n",
        "# Find the location of the maximum posterior log likelihood for each test orientation\n",
        "# using np.argmax\n",
        "\n",
        "\n",
        "\n",
        "# The average MAP orientation is the possible orientation corresponding to\n",
        "# the location of the MAP\n",
        "\n"
      ]
    },
    {
      "cell_type": "markdown",
      "metadata": {
        "id": "XNXrX2D4MuwT"
      },
      "source": [
        "Plot the average posterior log likelihood for each test orientation and scatter the maximum a posteriori"
      ]
    },
    {
      "cell_type": "code",
      "execution_count": null,
      "metadata": {
        "id": "ChBvz7y8NEzK"
      },
      "outputs": [],
      "source": [
        "# Create a figure\n",
        "fig, ax = plt.subplots()\n",
        "\n",
        "# For each test orientation\n",
        "\n",
        "\n",
        "    # Plot the average posterior log likelihood across possible orientations\n",
        "\n",
        "\n",
        "    # scatter the average MAP orientation by max post log likelihood\n",
        "\n",
        "\n",
        "    # for comparison, plot lines showing the test orientations\n",
        "\n",
        "\n",
        "\n",
        "\n",
        "ax.set(xlabel='Orientation', ylabel='Log posterior')"
      ]
    },
    {
      "cell_type": "markdown",
      "metadata": {
        "id": "VhQq4M7eP6PQ"
      },
      "source": [
        "The is the expected average MAP, given the firing rate functions.\n",
        "\n",
        "We can also simulate the neuron firing rates, to examine variability in the MAP orientation over the multiple presentations of the test orientations.\n"
      ]
    },
    {
      "cell_type": "code",
      "execution_count": null,
      "metadata": {
        "id": "lhbK9sr0sYCW"
      },
      "outputs": [],
      "source": [
        "# General function to get simulated neural MAP\n",
        "def simMAP(test_oris,possible_oris,v1mus,kappa,v1fr,prior,nsim):\n",
        "\n",
        "    nneurons = v1mus.shape[0] # the number of neurons\n",
        "    ntest = test_oris.shape[0] # the number of test orientation\n",
        "\n",
        "    MAP = np.zeros((ntest,nsim))\n",
        "\n",
        "    # for each test orientation\n",
        "    for ti in range(ntest):\n",
        "\n",
        "      # posterior log likelihood is summed over all neurons\n",
        "      post = np.zeros((nsim, 180))\n",
        "\n",
        "      for ni in range(nneurons):\n",
        "\n",
        "          # the mean firing rate in response to the test orientation\n",
        "          fr = vmdist(test_oris[ti], kappa, v1mus[ni])\n",
        "\n",
        "          # The simulated firing rates, drawn from a poisson with mean = fr\n",
        "          post += sps.poisson.rvs(fr, size=(nsim, 1)) * np.log(v1fr[ni]) + np.log(prior)\n",
        "\n",
        "      # get the MAP orientations for each test orientation\n",
        "      MAP[ti] = oris[np.argmax(post, axis=1)]\n",
        "\n",
        "\n",
        "    return MAP"
      ]
    },
    {
      "cell_type": "markdown",
      "source": [
        "Use this function, assuming a uniform prior over the possible orientations, to generate 100 simulated MAP orientations."
      ],
      "metadata": {
        "id": "06d7YIBnSPk0"
      }
    },
    {
      "cell_type": "code",
      "execution_count": null,
      "metadata": {
        "id": "PTdYK3eHQcSc"
      },
      "outputs": [],
      "source": [
        "# Define the prior as equiprobable across the 180 possible orientations\n",
        "\n",
        "\n",
        "# use the function above to generate 100 simulate MAP orientations for each\n",
        "# test orientation\n",
        "\n",
        "\n",
        "\n",
        "# Create a scatterplot of the actual test orientations against the simulated MAP\n",
        "# orientations\n",
        "fig, ax = plt.subplots()\n",
        "\n",
        "\n",
        "# also plot the average of the simulated MAP orientations\n",
        "\n",
        "\n",
        "\n",
        "ax.set(xlabel='True orientation', ylabel='Inferred orientation')"
      ]
    },
    {
      "cell_type": "markdown",
      "metadata": {
        "id": "l7x6TmLjSg7a"
      },
      "source": [
        "### 2b. Cardinal Prior"
      ]
    },
    {
      "cell_type": "markdown",
      "metadata": {
        "id": "ltogQHmCTE9n"
      },
      "source": [
        "In the real world, we are more likely to encounter orientations close vertical and horizontal (the 'Cardinal' orientations; Girshick, Landy, & Simoncelli, 2011).\n",
        "\n",
        "\n",
        "This prior can be roughly described by:"
      ]
    },
    {
      "cell_type": "code",
      "execution_count": null,
      "metadata": {
        "id": "W1T4aqXdTPo3"
      },
      "outputs": [],
      "source": [
        "# Linear spacing of possible orientations\n",
        "oris = np.linspace(0, np.pi, 180)\n",
        "# The prior peaks at 0, 90, and 180 degrees (horizontal and vertical)\n",
        "prior_ori = (1 - np.abs(np.sin(2*oris)) * 0.3) + 0.01\n",
        "\n",
        "plt.figure(figsize=(3,2), dpi=100)\n",
        "plt.plot(prior_ori, 'k')"
      ]
    },
    {
      "cell_type": "markdown",
      "metadata": {
        "id": "8jpDYQpMTW4t"
      },
      "source": [
        "We can look at the effect of this prior on the average estimate by adding it to the mean posterior (multiplied by the number of neurons)\n",
        "since $log(p(A)*p(B)) = log(p(A)) + log(p(B))$\n",
        "\n",
        "Add the prior, recalculate the average MAP and plot.\n"
      ]
    },
    {
      "cell_type": "code",
      "execution_count": null,
      "metadata": {
        "id": "OQtm27JVEioI"
      },
      "outputs": [],
      "source": [
        "# Define a second average posterior log likelihood by adding the log of the\n",
        "# prior likelihood (x nneurons) to the average posterior calculated earlier\n",
        "\n",
        "\n",
        "# Calculate the new MAP orientation, using the argmax location of the MAP as before\n",
        "\n"
      ]
    },
    {
      "cell_type": "markdown",
      "source": [
        "Plot the new posterior likelihood functions for each test orientation as before, scattering the MAP and marking the true test orientations.\n",
        "\n",
        "It might help to visualise the log prior and the firing rates in subplots above this."
      ],
      "metadata": {
        "id": "TG2EwrOkUR42"
      }
    },
    {
      "cell_type": "code",
      "execution_count": null,
      "metadata": {
        "id": "cNGKjjBBTeDG"
      },
      "outputs": [],
      "source": [
        "# Optional: plot the log prior in the first subplot\n",
        "# and the firing rates in the second\n",
        "\n",
        "\n",
        "\n",
        "# plot log posterior for each test orientation,\n",
        "\n",
        "    # plot the posterior log likelihood\n",
        "\n",
        "\n",
        "    # scatter the MAP orientation\n",
        "\n",
        "\n",
        "    # plot the true test orientations for comparison\n",
        ""
      ]
    },
    {
      "cell_type": "markdown",
      "metadata": {
        "id": "YeLEhYH4T_Hw"
      },
      "source": [
        "You should see that the estimated orientations are pulled toward the cardinal orientations. Why would this be helpful?\n",
        "\n",
        "Simulate again, and plot the estimated against the true orientation\n"
      ]
    },
    {
      "cell_type": "code",
      "execution_count": null,
      "metadata": {
        "id": "NPiVGeJqEioJ"
      },
      "outputs": [],
      "source": [
        "# Use the simMAP function again to simulate 100 MAP orientations resulting the\n",
        "# test orientations with this new prior\n",
        "\n",
        "\n",
        "\n",
        "# Scatter the simulations against the true orientation\n",
        "fig, ax = plt.subplots()\n",
        "\n",
        "\n",
        "\n",
        "ax.set(xlabel='True orientation', ylabel='Inferred orientation')"
      ]
    },
    {
      "cell_type": "markdown",
      "metadata": {
        "id": "POfll9L3UtZu"
      },
      "source": [
        "You should see both a bias toward horizontal/vertical, as well as the estimates being more precise around horizontal/vertical. This means that perception is more precise for orientations we encounter more often.\n",
        "\n",
        "These are both properties reflected in human behavioural responses to\n",
        "orientations (Wei & Stocker, 2015) and in BOLD responses to orientations (Patten, Mannion, & Clifford, 2017). (These two references also point to a more complex implementation via principles of 'efficient encoding', for those interested to read further).\n"
      ]
    },
    {
      "cell_type": "markdown",
      "metadata": {
        "id": "Zey5chTzU1SZ"
      },
      "source": [
        "### 2c. Biological implementation"
      ]
    },
    {
      "cell_type": "markdown",
      "metadata": {
        "id": "Z4eAmW_xU7aD"
      },
      "source": [
        "**Save this part for after you have finished the tutorial**"
      ]
    },
    {
      "cell_type": "markdown",
      "metadata": {
        "id": "kVpkPRKfVDKI"
      },
      "source": [
        "How is this implemented in the brain? Do we actually track and represent priors? Or is there some way this can\n",
        "be implemented in a feedforward manner?\n",
        "\n",
        "Re-arrange the neurons so that they are spaced according to the prior (a bit more dramatic than the current prior), and plot the firing rate functions\n"
      ]
    },
    {
      "cell_type": "code",
      "execution_count": null,
      "metadata": {
        "id": "LAI89yZxVLhV"
      },
      "outputs": [],
      "source": [
        "# To space the neurons according to the prior, we can create a cumulative probability function of the prior\n",
        "thisp = np.cumsum((1 - np.abs(np.sin(2*oris)) * 0.8)) / np.sum((1 - np.abs(np.sin(2*oris)) * 0.8))\n",
        "\n",
        "# And find samples equidistant in cumulative probability\n",
        "ip = np.linspace(0.001, 0.999, nneurons)\n",
        "\n",
        "# Place the prior means about there\n",
        "v1mus_prior = np.zeros(nneurons)\n",
        "for ni in range(nneurons):\n",
        "    thisi = np.where(thisp >= ip[ni])[0][0]\n",
        "    v1mus_prior[ni] = oris[thisi]\n",
        "\n",
        "# Create a new array of firing rates for these neurons (using the vmdist function as before)\n",
        "\n",
        "\n",
        "\n",
        "# plot the firing rate over possible orientations for each neuron\n",
        "fig, ax = plt.subplots()\n",
        "\n",
        "\n",
        "\n",
        "ax.set(xlabel='Orientation', ylabel='Firing rate')"
      ]
    },
    {
      "cell_type": "markdown",
      "metadata": {
        "id": "zYsjLyh5WhWe"
      },
      "source": [
        "Recalculate the average posterior log likelihood in  response to the test orientations, and plot the average MAP orientation as above"
      ]
    },
    {
      "cell_type": "code",
      "execution_count": null,
      "metadata": {
        "id": "3Cp9xRkgEioK"
      },
      "outputs": [],
      "source": [
        "# The average posterior log likelihood is the log firing rate (of the prior\n",
        "# distributed neurons) multiplied by the average firing rate in response to the\n",
        "# test orientations, summed across neurons\n",
        "\n",
        "\n",
        "\n",
        "# The MAP orientations, based on the location of the max posterior\n",
        "\n",
        "\n",
        "\n",
        "# plot the postior log likelihood and MAP orientations as before\n",
        "fig, ax = plt.subplots()\n",
        "\n",
        "\n",
        "\n",
        "\n",
        "ax.set(xlabel='orientation', ylabel='log posterior')"
      ]
    },
    {
      "cell_type": "code",
      "execution_count": null,
      "metadata": {
        "id": "SteWrxXrEioK"
      },
      "outputs": [],
      "source": [
        "# Use the simMAP function again to simulate 100 MAP orientations resulting the\n",
        "# test orientations with the neurons distributed this way, but inputting a\n",
        "# uniform / uninformative prior\n",
        "\n",
        "\n",
        "\n",
        "# scatter the MAP orientations against the true orientations as before\n",
        "fig, ax = plt.subplots()\n",
        "\n",
        "\n",
        "ax.set(xlabel='True orientation', ylabel='Inferred orientation')"
      ]
    },
    {
      "cell_type": "markdown",
      "metadata": {
        "id": "dBnRFMeWXR7o"
      },
      "source": [
        "You should see that having more neurons with tuning functions closer to horizontal/vertical has the same effect as the cardinal prior. The prior is now already built-in to the neural response.\n",
        "\n",
        "Early work examining cat visual cortex has demonstrated a profound impact of early visual experience on the distribution of neuronal orientation tuning functions as well as sensitivity to orientations (Blackmore & Cooper,\n",
        "1970; Hirsch & Spinelli, 1970; Hubel & Weisel, 1961).\n",
        "\n",
        "An oversimplification: the brain builds priors into the neural tuning functions naturally, by developing more neural resources for operations that are used more often (\"neurons that fire together wire together\").\n"
      ]
    },
    {
      "cell_type": "markdown",
      "metadata": {
        "id": "HMxVOSSfXVRG"
      },
      "source": [
        "## Part 3: Bayesian cognition"
      ]
    },
    {
      "cell_type": "markdown",
      "metadata": {
        "id": "Dxy1epbaXZQ3"
      },
      "source": [
        "### 3a. Tomorrow's Prior"
      ]
    },
    {
      "cell_type": "markdown",
      "metadata": {
        "id": "9-fF9dcHa3Vf"
      },
      "source": [
        "In addition to having built-in priors at the level of sensory processing, a large body of work has examined bayesian computations at higher levels of cognitive processing.\n",
        "\n",
        "Humans have been shown to implement Bayes-optimal inferences, but with\n",
        "suboptimalities largely arising from imprecise likelihood estimates\n",
        "(Drugowitsch, Wyart, et al., 2016).\n",
        "\n",
        "This can be demonstrated using a task which requires bayesian inference.\n",
        "\n",
        "In the task, participants are shown a sequence of visual orientation\n",
        "stimuli (Gabor patches). The orientations of the entire sequence are\n",
        "drawn from one of two circular gaussian (Von Mises) distributions, and\n",
        "the observer is tasked with deciding which distribution the orientations were drawn from. (There is a 'colour guide' which is present throughout to help the observer visualise the distributions)\n",
        "\n"
      ]
    },
    {
      "cell_type": "markdown",
      "metadata": {
        "id": "6Sh82pLDc2na"
      },
      "source": [
        "![figOrientationStimulus.jpg](data:image/jpeg;base64,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)"
      ]
    },
    {
      "cell_type": "markdown",
      "metadata": {
        "id": "96Keu-PebLt8"
      },
      "source": [
        "The distributions A (blue) and B (orange) are overlapping, with means at $\\mu_A = \\frac{-\\pi}{4}$ and $\\mu_B = \\frac{\\pi}{4}$ (assuming\n",
        "vertical is at 0) and concentration parameter $\\kappa_A = \\kappa_B = 0.5$.\n",
        "\n",
        "Because of the overlap, a single 'sample' (one Gabor patch) provides uncertain evidence for which distribution is the true generating distribution. For example, an orientation at 45 degrees is most likely drawn from the orange distribution (p ~= 0.5), but could also be drawn from the blue distribution with a lower likelihood (p ~= 0.2).\n",
        "\n",
        "\\\\\n",
        "\n",
        "According to Bayes theorem, the posterior probability of distribution A, given the orientation, $\\theta$, is proportional to the likelihood times the prior:\n",
        "\n",
        "\n",
        "\\begin{align}\n",
        "p(A | \\theta) \\propto  p(\\theta | A)p(A)\n",
        "\\end{align}\n",
        "\n",
        "(proportional, as we ignore $p(\\theta)$ which will become irrelevant as we compare $p(A | \\theta)$ with  $p(B | \\theta)$ )\n",
        "\n",
        "\\\\\n",
        "\n",
        "\n",
        "With an equal prior for A and B ($p(A) = p(B) = 0.5$), and given the Von Mises we can see that\n",
        "\n",
        "\\begin{align}\n",
        "p(A | \\theta) \\propto p(\\theta | A)\n",
        "= \\frac{\\exp(\\kappa \\cos (2(\\theta-\\mu_A)))}{\\pi I_0(\\kappa)}\n",
        "\\end{align}\n",
        "\n",
        "the log is:\n",
        "\n",
        "\\begin{align}\n",
        "\\log(p(A | \\theta)) \\propto \\kappa cos(2(\\theta-\\mu_A)) + \\text{const.}\n",
        "\\end{align}\n",
        "\n",
        "\\\\\n",
        "\n",
        "The evidence from each sample can be summarised as\n",
        "\n",
        "\\begin{align}\n",
        "evidence = \\log(p(A | \\theta)) - \\log(p(B | \\theta))\n",
        "\\end{align}\n",
        "\n",
        "\n",
        "\\\\\n",
        "\n",
        "\n",
        "Remember: $\\exp(\\log(p(A | \\theta)) - \\log(p(B | \\theta)) = \\frac{p(A | \\theta)}{p(B | \\theta)}$\n",
        "\n",
        "\\\\\n",
        "\n",
        "**\"today’s posterior is tomorrow’s prior”** (Lindley, Bayesian statistics, a review. 1972, p. 2). This suggests at sample 2, we use the evidence from sample 1 as the prior: effectively multiplying the p's over consecutive samples\n",
        "(adding the logs).\n",
        "\n",
        "This is comparable to evidence accumulation frameworks, such as the DDM, where the observer is thought to accumulate noisy samples of evidence over time. Here, the evidence is the log-likelihood, and accumulation is the Bayes-optimal solution."
      ]
    },
    {
      "cell_type": "markdown",
      "metadata": {
        "id": "zBa4yty_hKj7"
      },
      "source": [
        "\n",
        "Now we will look at some data from an experiment using this task design.\n",
        "\n",
        "\n",
        "This data is from Balsdon, Mamassian, & Wyart, 2021. The experiment was designed to examine how humans know how much evidence to accumulate before committing to a decision. The example data is from one participant in the 'replay' task. In this task, the participant is shown sequences of oriented Gabors (samples), and can only respond when the sequence 'finishes' (the fixation mark turns red and no more Gabors are presented). The number of samples shown (sequence length) is specified relative to the number the human chose to respond to when viewing that same sequence, but in a different setting where they could respond after any number of samples (as soon as they 'felt ready').\n",
        "\n",
        "Here we will look at how the human performs based on how many samples they were shown.\n",
        "\n",
        "Load the example stimulus evidence and the example participant data."
      ]
    },
    {
      "cell_type": "code",
      "execution_count": null,
      "metadata": {
        "id": "h3QEOeJqiWKv"
      },
      "outputs": [],
      "source": [
        "T = pd.read_csv('../Downloads/SUB001_stopExp_replay.csv', header=None)\n",
        "data = T.values\n",
        "\n",
        "T = pd.read_csv('../Downloads/SUB001_stopExp_evidence.csv', header=None)\n",
        "evidence = T.values\n",
        "\n",
        "# T = pd.read_csv('SUB001_stopExp_replay.csv',header=None)\n",
        "# data = T.values\n",
        "# T = pd.read_csv('SUB001_stopExp_evidence.csv',header=None)\n",
        "# evidence = T.values\n",
        "print(evidence.shape, data.shape)"
      ]
    },
    {
      "cell_type": "markdown",
      "metadata": {
        "id": "lOHd-VaCijgw"
      },
      "source": [
        "Ignore the variable 'data' for now, we will get to this later.\n",
        "\n",
        "The variable 'evidence' is a matrix (100x40).\n",
        "This is not really the evidence, it is 100 prespecified sequences of 40 orientations (in degrees). For the first 50 sequences, the orientations were drawn from distribution A (correct response = 0) and the second 50 sequences, from distribution B (correct response = 1).\n",
        "\n",
        "On each trial, one of these sequences is selected and the human is shown the first N samples (sequence length = N). Each sequence is shown 3 times (300 trials in total), and each time with a different sequence length.\n",
        "\n",
        "The optimal observer accumulates evidence from each sample, and so should be more likely choose the correct generating distribution when shown more samples.\n",
        "\n",
        "Transform the evidence into the log likelihood of A vs B and visualise"
      ]
    },
    {
      "cell_type": "code",
      "execution_count": null,
      "metadata": {
        "id": "s1AArIrXi3Xs"
      },
      "outputs": [],
      "source": [
        "# The log likelihood of Distribution A, given the orientation evidence is:\n",
        "logpA = 0.5 * np.cos(2 * ((evidence * np.pi / 180) + (np.pi / 4)))\n",
        "\n",
        "# Define the log likelihood of Distribution B given the orientation evidence\n",
        "\n",
        "\n",
        "# Summarise the sample evidence as the difference in log likelihoods\n",
        "\n",
        "\n",
        "# visualise the sample evidence of each sample in each sequence (using imshow)\n",
        "\n",
        "plt.xlabel('Orientation N')\n",
        "plt.ylabel('Sequence')\n",
        "plt.colorbar(label='Sample evidence')"
      ]
    },
    {
      "cell_type": "markdown",
      "metadata": {
        "id": "gRrFy47ei-4b"
      },
      "source": [
        "You should see the first 50 sequences the evidence is more likely to be greater than 0, the second 50 is is more likely to be less than 0.\n",
        "\n",
        "How would an optimal observer perform, as a function of sequence length?\n",
        "\n",
        "The optimal observer should accumulate the evidence from each sample, and decide based on whether the accumulated evidence is greater than 0.\n",
        "\n",
        "Plot the evidence, accumulating (summing) each consecutive sample."
      ]
    },
    {
      "cell_type": "code",
      "execution_count": null,
      "metadata": {
        "id": "wXec0jRdEioT"
      },
      "outputs": [],
      "source": [
        "# Use imshow again, with np.cumsum to accumulate the evidence from each sample\n",
        "\n",
        "\n",
        "\n",
        "plt.xlabel('Accumulated orientation N')\n",
        "plt.ylabel('Sequence')\n",
        "plt.colorbar(label='Accumulated evidence')"
      ]
    },
    {
      "cell_type": "markdown",
      "metadata": {
        "id": "JPxEOHXtOBKR"
      },
      "source": [
        "You should see that, as the sequence length increases, the evidence is more likely to favour the correct generating distribution: The first 50 sequences are more likely to be greater than 0 (and increasing away from 0); the second 50 are more likely to be less than 0 (and decreasing away from 0).\n",
        "\n",
        "The optimal observer chooses distribution A if the accumulated evidence is greater than 0 and distribution B is it is less than 0. Code this as a response of 0 (choosing distribution A) accumulated evidence greater than 0 and 1 (choosing distribution B) for less than 0.\n",
        "\n",
        "Examine how the proportion of correct responses increases as a function of sequence length.\n"
      ]
    },
    {
      "cell_type": "code",
      "execution_count": null,
      "metadata": {
        "id": "xu6F2eGUjQ7A"
      },
      "outputs": [],
      "source": [
        "# Define the response for each sequence length, for each sequence,\n",
        "# determined by whether the accumulated evidence is less than 0\n",
        "\n",
        "\n",
        "# is response correct for each sequence and each sequence length?\n",
        "\n",
        "\n",
        "# Calculate the percentage correct over all sequences, for each sequence length\n",
        "\n"
      ]
    },
    {
      "cell_type": "markdown",
      "metadata": {
        "id": "Zj4vdFwQjWjJ"
      },
      "source": [
        "Plot proportion correct by number of samples accumulated (sequence length)"
      ]
    },
    {
      "cell_type": "code",
      "execution_count": null,
      "metadata": {
        "id": "jIcG8F1ejdvR"
      },
      "outputs": [],
      "source": [
        "# For the x-axis, range from 1 to 40\n",
        "\n",
        "\n",
        "\n",
        "plt.xlabel('Sequence Length')\n",
        "plt.ylabel('Proportion correct')"
      ]
    },
    {
      "cell_type": "markdown",
      "source": [
        "You should see that if the optimal observer were only shown 1 sample (sequence length = 1) they would only achieve just over 60% correct. This increases rapidly: if they were shown 5 samples (sequence length = 5), performance is around 80% correct.\n",
        "\n",
        "The performance of the optimal observer is limited by the uncertainty of the generating distributions. If the distributions had a lower concentration (kappa), that is, they overlap more, then the performance of the optimal observer would be worse. Inversely, a greater concentration, less overlap, better performance."
      ],
      "metadata": {
        "id": "UB5xMlflynCk"
      }
    },
    {
      "cell_type": "markdown",
      "metadata": {
        "id": "4YEE-tFHlCAD"
      },
      "source": [
        "# **3b. Optimal vs Human**"
      ]
    },
    {
      "cell_type": "markdown",
      "metadata": {
        "id": "eWSTfIYulGly"
      },
      "source": [
        "How does our human participant compare?\n",
        "\n",
        "The data is made up of 300 rows (trials) with 11 columns:\n",
        "\n",
        "  0. **Block number** 1 to 3 (three blocks of 100 trials)\n",
        "  1. **Trial number** 1 to 300\n",
        "  2. **Condition** -2, 0, 4 (this is related to how many stimuli the participant was shown)\n",
        "  3. $\\color{blue}{Trial Index}$ 1 to 100 - what row of the evidence matrix defines the orientations presented on that trial\n",
        "  4. **Distribution** 1 or 2 - the true generating distribution\n",
        "  5. $\\color{blue}{Sequence Length}$ the number of stimuli presented on that trial\n",
        "  6. **Old Stop** the number of stimuli the observer chose to respond after in a different version of the task (Sequence length + Condition = Old Stop)\n",
        "  7. $\\color{blue}{Response}$ 1 or 2 the distribution the participant chose\n",
        "  8. $\\color{blue}{Correct}$ whether the response was correct (1) or not (0)\n",
        "  9. **Confidence** 1 to 4, a rating by the participant of how confidence they were that they were correct\n",
        "  10. **RT** response time, in seconds, from the beginning of the trial (stimuli were presented at a rate of 4 Hz (4 per second))\n",
        "\n",
        "In blue are the columns important for the analysis below: columns 3, 5, 7, and 8.\n",
        "\n",
        "Calculate the participant's proportion correct by the sequence length."
      ]
    },
    {
      "cell_type": "code",
      "execution_count": null,
      "metadata": {
        "id": "xNF0KfZNEioU"
      },
      "outputs": [],
      "source": [
        "# Extract the sequence length for each trial shown to the human participant\n",
        "# (column 5)\n",
        "\n",
        "\n",
        "# Extract whether the participant responded correctly (1/0) (column 8)\n",
        "\n"
      ]
    },
    {
      "cell_type": "code",
      "execution_count": null,
      "metadata": {
        "id": "-Det2WenEioU"
      },
      "outputs": [],
      "source": [
        "# Calculate proportion correct over 20 bins of sequence length\n",
        "\n",
        "\n",
        "# Use sps.binned_statistic, returning the participant proportion correct,\n",
        "# the bin edges, and the bin id for each trial\n",
        "\n",
        "\n",
        "\n",
        "# Calculate the mean bin location (the left edge + half the difference in bin width)\n",
        "\n",
        "\n",
        "\n",
        "# Calculate the number of trials per bin (for visualisation)\n",
        "\n"
      ]
    },
    {
      "cell_type": "markdown",
      "metadata": {
        "id": "Ne_S-vG1mT7b"
      },
      "source": [
        "Scatter the human proportion correct compared to the plot of the optimal proportion correct"
      ]
    },
    {
      "cell_type": "code",
      "execution_count": null,
      "metadata": {
        "id": "YtzhXZMvmc06"
      },
      "outputs": [],
      "source": [
        "\n",
        "# plot the optimal proportion correct by sequence length again\n",
        "\n",
        "# scatter the human proportion correct\n",
        "# Tip: use alpha=ntrials_perbin/ntrials_perbin.max() to help visualise\n",
        "\n",
        "\n",
        "\n",
        "plt.xlabel('Sequence Length')\n",
        "plt.ylabel('Proportion correct')\n",
        "plt.ylim(.5,1.1)"
      ]
    },
    {
      "cell_type": "markdown",
      "metadata": {
        "id": "JIzdwU7Jo3mM"
      },
      "source": [
        "The plot for the optimal observer actually shows performance by sequence length across all predefined sequences. The scatter for the human observer shows performance by sequence length for the specific sequences that were shown with that sequence length. A better comparison would be to take the same sequences for the optimal observer as were shown to the human."
      ]
    },
    {
      "cell_type": "code",
      "execution_count": null,
      "metadata": {
        "id": "zLPIobfFEioV"
      },
      "outputs": [],
      "source": [
        "# Each of the 300 trials has a reference to the row corresponding to the\n",
        "# sequence shown on that trial (column 3)\n",
        "\n",
        "\n",
        "# For each trial, would the optimal observer be correct for that sequence length\n",
        "# tip: use for i,l in zip(exp_evmat_id, pt_seq_len) to index\n",
        "\n",
        "\n",
        "# Get the binned proportion correct as we did for the human participant\n",
        "\n"
      ]
    },
    {
      "cell_type": "code",
      "execution_count": null,
      "metadata": {
        "id": "QQB7pjVZo61T"
      },
      "outputs": [],
      "source": [
        "\n",
        "# Scatter the human compared to the optimal proportion correct\n",
        "\n",
        "\n",
        "plt.ylim(.5,1.1)\n",
        "plt.xlim(.5,1.1)\n",
        "\n",
        "plt.xlabel('Human proportion correct')\n",
        "plt.ylabel('Optimal proportion correct')\n",
        "plt.tight_layout()"
      ]
    },
    {
      "cell_type": "markdown",
      "metadata": {
        "id": "3q7xnzpIq2h_"
      },
      "source": [
        "# **3c. Estimating Suboptimalities**"
      ]
    },
    {
      "cell_type": "markdown",
      "metadata": {
        "id": "o-pnDITOq6-y"
      },
      "source": [
        "The human is clearly doing less well than the bayes-optimal observer.\n",
        "\n",
        "We can describe two sources of suboptimality:\n",
        "\n",
        "1. **Inference noise**, where the human has a noisy estimate of the loglikelihood. We parameterise this as sigma, the standard deviation of additive gaussian noise\n",
        "\n",
        "2. **Temporal bias**, where the human might weight more strongly the recent samples, or the initial samples. We parameterise this as alpha, an exponential weighting function.\n",
        "\n",
        "To estimate these suboptimalities, we create a numerical description of\n",
        "the underlying inference process (computational model).\n"
      ]
    },
    {
      "cell_type": "code",
      "execution_count": null,
      "metadata": {
        "id": "EpUf0_N5UAUo"
      },
      "outputs": [],
      "source": [
        "def probabilityOfResponse(params, xsamp):\n",
        "\n",
        "    sigma = params[0]\n",
        "    alpha = np.exp(params[1]) # take the exponential\n",
        "\n",
        "    xpost = np.zeros((len(xsamp), 2))\n",
        "    spost = np.zeros((len(xsamp), 2))\n",
        "\n",
        "    # loop over trials: xsamp is zip object of evA and evB, so each x will be (trial-specific) seq_len x 2\n",
        "    for ti,x in enumerate(xsamp):\n",
        "\n",
        "        # loop over orientations\n",
        "        for si in range(len(x)):\n",
        "            xpost[ti] = xpost[ti]*alpha + x[si]\n",
        "            spost[ti] = spost[ti]*alpha + sigma\n",
        "\n",
        "    # units of sd\n",
        "    xpost = xpost*np.pi/np.sqrt(6)/spost\n",
        "\n",
        "    # e-softmax\n",
        "    ppost = np.exp(xpost)/np.sum(np.exp(xpost),axis=1)[:,np.newaxis]\n",
        "    ppost = np.maximum(ppost,0.001)\n",
        "\n",
        "    return ppost\n",
        "\n",
        "\n",
        "def resp_nLL(params, xsamp, resp):\n",
        "\n",
        "    ppost = probabilityOfResponse(params, xsamp)\n",
        "    nll = -np.sum(np.log([p[r] for p,r in zip(ppost, resp)]))\n",
        "\n",
        "    return nll"
      ]
    },
    {
      "cell_type": "markdown",
      "metadata": {
        "id": "Pp1ReRY5ZAmU"
      },
      "source": [
        "The first function calculates the probability of choosing distribution A and B for each trial.\n",
        "\n",
        "`xsamp` is the evidence from the presented orientations for each sequence (separately for A and B).\n",
        "\n",
        "The second function calculates the negative log likelihood of the human's choices.\n",
        "\n",
        "`resp` is the id of the response for each trial\n",
        "\n",
        "Next, we find the values of the parameters (`params`) that gives the smallest `nLL`\n",
        "\n",
        "\\\\\n",
        "\n",
        "Note: by finding the smallest negative log likelihood, we are effectively finding the maximum log likelihood. If we had some prior uncertainty over parameter values, this model fitting exercise could be performed using a bayesian approach."
      ]
    },
    {
      "cell_type": "code",
      "execution_count": null,
      "metadata": {
        "id": "EpQYS5mrxZxC"
      },
      "outputs": [],
      "source": [
        "# Define the log evidence, separately for A and B, for each sequence shown (in order)\n",
        "# stack evA and evB for each trial into sequence length for that trial x 2\n",
        "xsamp = [np.stack([logpA[i], logpB[i]])[:,:pt_seq_len[ii]].T\n",
        "         for ii,i in enumerate(exp_evmat_id)]\n",
        "\n",
        "# To take only the log probabilities corresponding to the human response\n",
        "response = data[:,7].astype(int)-1"
      ]
    },
    {
      "cell_type": "markdown",
      "metadata": {
        "id": "hblAXB7CwBRI"
      },
      "source": [
        "Fit the model by minimising the negative log likelihood of the responses\n"
      ]
    },
    {
      "cell_type": "code",
      "execution_count": null,
      "metadata": {
        "id": "ojApHK6owHKe"
      },
      "outputs": [],
      "source": [
        "# the model has two parameters, sigma and alpha\n",
        "# initialise these at sigma = 1 and alpha 0\n",
        "\n",
        "\n",
        "# the variable pfit_ini should be numpy array of [sigma, alpha]\n",
        "\n",
        "\n",
        "# sigma cannot be less than 0, so create bounds on the parameter values\n",
        "# 0.01 < sigma < 10 and -10 < alpha < 10 should do\n",
        "# similar to pfit_ini create pfit_min and pfit_max describing the lower and upper bounds\n",
        "\n",
        "# Function to minimise\n",
        "result = spo.minimize(fun=resp_nLL,\n",
        "                      x0=pfit_ini,\n",
        "                      args=(xsamp, response),# all the other arguments that are not parameters to be estimated, i.e., xsamps, seq_len, iresp,\n",
        "                      bounds=list(zip(pfit_min, pfit_max)),\n",
        "                      options={'disp': True})\n",
        "\n",
        "params = result.x\n",
        "\n",
        "print(result)"
      ]
    },
    {
      "cell_type": "markdown",
      "metadata": {
        "id": "qSxBW4oEwVTO"
      },
      "source": [
        "Simulate the model responses and summarise proportion correct over bins of sequence length in the same way as before\n"
      ]
    },
    {
      "cell_type": "code",
      "execution_count": null,
      "metadata": {
        "id": "TPh3Sgxowb_0"
      },
      "outputs": [],
      "source": [
        "# Use the function probabilityOfResponse with the parameters fit above\n",
        "\n",
        "\n",
        "# Extract the probability of making the same response as the participant\n",
        "# (see the code in the resp_nLL function for a hint)\n",
        "\n",
        "\n",
        "# The probability of making the same response as the participant is the\n",
        "# probability correct, when the participant is correct\n",
        "# On trials where the participant was incorrect, take 1- to get probability correct\n",
        "\n",
        "\n",
        "# get bins of proportion correct as before\n",
        "\n",
        "\n",
        "# Scatter the human against the model proportion correct\n",
        "\n",
        "\n",
        "plt.ylim(.5,1.1)\n",
        "plt.xlim(.5,1.1)\n",
        "\n",
        "plt.xlabel('Human proportion correct')\n",
        "plt.ylabel('Suboptimal proportion correct')\n",
        "plt.tight_layout()"
      ]
    },
    {
      "cell_type": "markdown",
      "metadata": {
        "id": "ooqYEfsHxJat"
      },
      "source": [
        "The model isn't perfect.\n",
        "\n",
        "This exercise should demonstrate the usefulness of defining an optimal\n",
        "way to solve a task (maximise accuracy) and comparing specific ways\n",
        "humans might differ from this optimal solution\n"
      ]
    }
  ],
  "metadata": {
    "colab": {
      "provenance": []
    },
    "kernelspec": {
      "display_name": "Python 3 (ipykernel)",
      "language": "python",
      "name": "python3"
    },
    "language_info": {
      "codemirror_mode": {
        "name": "ipython",
        "version": 3
      },
      "file_extension": ".py",
      "mimetype": "text/x-python",
      "name": "python",
      "nbconvert_exporter": "python",
      "pygments_lexer": "ipython3",
      "version": "3.8.12"
    }
  },
  "nbformat": 4,
  "nbformat_minor": 0
}