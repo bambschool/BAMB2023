{
  "cells": [
    {
      "cell_type": "markdown",
      "metadata": {
        "id": "kT1-9O8v2vgy"
      },
      "source": [
        "### RL tutorial. Part 2."
      ]
    },
    {
      "cell_type": "markdown",
      "metadata": {
        "id": "ykxvnX172vg1"
      },
      "source": [
        "In this tutorial we will learn how implement different agents that keep track of the value of their actions and the state they are in. We will use 4 different agents:\n",
        "- Random agent.\n",
        "- SARSA agent.\n",
        "- Q-learning agent.\n",
        "- Q-learning agent with eligibility traces."
      ]
    },
    {
      "attachments": {},
      "cell_type": "markdown",
      "metadata": {},
      "source": [
        "### 0. Setting things up"
      ]
    },
    {
      "attachments": {},
      "cell_type": "markdown",
      "metadata": {},
      "source": [
        "Import the necessary libraries and define the functions we will use to plot the results.\n",
        "\n",
        "JUST RUN THE CELL BELOW."
      ]
    },
    {
      "cell_type": "code",
      "execution_count": 54,
      "metadata": {
        "id": "6tUcGXS2Z-g0"
      },
      "outputs": [],
      "source": [
        "import numpy as np\n",
        "from gym import spaces\n",
        "import matplotlib.pyplot as plt\n",
        "from IPython.display import display, clear_output\n",
        "\n",
        "def plot_reward_per_episode(reward_per_episode, ax=None):\n",
        "    \"\"\"Plot the reward per episode\"\"\"\n",
        "    # Plot rewards\n",
        "    if ax is None:\n",
        "        _, ax = plt.subplots(figsize=(6, 6))\n",
        "        ax.set_title(\"Reward per episode\")\n",
        "        ax.set_xlabel(\"Episode\")\n",
        "        ax.set_ylabel(\"Total Reward\")\n",
        "    ax.plot(reward_per_episode)\n",
        "    # plt.show()\n",
        "\n",
        "def plot_q_table(agent, action_space, max=50):\n",
        "    \"\"\"Plot the Q-table\"\"\"\n",
        "    # plot q_table\n",
        "    f, ax = plt.subplots(ncols=2, nrows=2, figsize=(10, 10))\n",
        "    ax = ax.flatten()\n",
        "    # actions\n",
        "    titles = ['Up', 'Right', 'Down', 'Left']\n",
        "    for i_a, a in enumerate(ax):\n",
        "        if i_a < len(action_space):\n",
        "            # plot the q-table for each action with values between -50 and 50\n",
        "            im = a.imshow(agent.get_q_table()[:, :, i_a], cmap='hot', vmin=-5, vmax=50)\n",
        "            plt.colorbar(im, ax=a)\n",
        "            a.set_title(titles[i_a])\n",
        "    plt.show()"
      ]
    },
    {
      "attachments": {},
      "cell_type": "markdown",
      "metadata": {
        "id": "167vsArL2vg2"
      },
      "source": [
        "### 1 Explore the Gridworld environment"
      ]
    },
    {
      "cell_type": "markdown",
      "metadata": {
        "id": "lB3gZr562vg2"
      },
      "source": [
        "We will train our agents to navigate a gridworld. The gridworld is a 2D grid of size 8x8. The agent can move in 4 directions: up, down, left and right, or stay. The agent receives a reward of -1 for each step it takes, a reward of 50 if it reaches the goal state and a reward of -2 if it hits an obstacle.\n",
        "\n",
        "The gridworld will be implemented with a class with the following methods:\n",
        "- `__init__`: initializes the gridworld with a given size, a list of obstacles and a goal state (check the other input parameters).\n",
        "- `new_trial`: resets the state of the agent to the start position and the count of steps within the trial.\n",
        "- `step`: takes an action as input and returns the next state, the reward and a dictionary with a boolean indicating if the trial is finished.\n",
        "- `render`: prints the gridworld with the current position of the agent.\n"
      ]
    },
    {
      "cell_type": "code",
      "execution_count": 64,
      "metadata": {},
      "outputs": [],
      "source": [
        "class GridWorld():\n",
        "    \"\"\"\n",
        "     GridWorld task.\n",
        "\n",
        "    Args:\n",
        "        size: int, size of the grid\n",
        "        start: tuple, starting position of the agent\n",
        "        goal: tuple, goal position of the agent\n",
        "        obstacles: list of tuples, positions of the obstacles\n",
        "    \"\"\"\n",
        "    def __init__(self, size=5, start=(0, 0), goal=(4, 4), obstacles=None,\n",
        "                 max_steps_per_trial=50):\n",
        "        # define the task parameters\n",
        "        self.size = size\n",
        "        self.start = start\n",
        "        self.goal = goal\n",
        "        self.obstacles = obstacles or []\n",
        "        self.max_steps_per_trial = max_steps_per_trial\n",
        "        # observation space\n",
        "        self.observation_space = spaces.Box(-np.inf, np.inf,\n",
        "                                            shape=(9,), dtype=np.float32)\n",
        "        # action space\n",
        "        self.action_space = spaces.Discrete(5)\n",
        "        # rewards for reaching the goal (correct), not reaching the goal (fail) and hitting an obstacle\n",
        "        self.rewards = {'correct': 50, 'obstacle': -2, 'fail': -1}\n",
        "        self.position = self.start\n",
        "        # step within the trial\n",
        "        self.t = 0\n",
        "        self.trial = 0\n",
        "\n",
        "    def new_trial(self, **kwargs):\n",
        "        \"\"\"\n",
        "        new_trial() is called when a trial ends to generate the next trial.\n",
        "        kwargs could be used to modify the goal or start positions.\n",
        "        \"\"\"\n",
        "        self.t = 0\n",
        "        self.trial += 1\n",
        "        self.position = self.start\n",
        "\n",
        "    def step(self, action):\n",
        "        \"\"\"\n",
        "        step receives an action and returns:\n",
        "            a new observation, the position of the agent\n",
        "            reward associated with the action, reward\n",
        "            a dictionary with extra information:\n",
        "                boolean indicating the end of the trial, info['new_trial']\n",
        "        \"\"\"\n",
        "        self.t += 1\n",
        "        new_trial = False\n",
        "        # process action\n",
        "        if action == 0:  # Move up\n",
        "            candidate = (max(self.position[0] - 1, 0), self.position[1])\n",
        "        elif action == 1:  # Move right\n",
        "            candidate = (self.position[0], min(self.position[1] + 1, self.size - 1))\n",
        "        elif action == 2:  # Move down\n",
        "            candidate = (min(self.position[0] + 1, self.size - 1), self.position[1])\n",
        "        elif action == 3:  # Move left\n",
        "            candidate = (self.position[0], max(self.position[1] - 1, 0))\n",
        "\n",
        "        # Updtate reward and position\n",
        "        if candidate == self.goal:\n",
        "            reward = self.rewards['correct']\n",
        "            new_trial = True\n",
        "            self.new_trial()\n",
        "        elif candidate in self.obstacles:\n",
        "            reward = self.rewards['obstacle']\n",
        "        else:\n",
        "            self.position = candidate\n",
        "            reward = self.rewards['fail']\n",
        "\n",
        "        # check time limit\n",
        "        if self.t > self.max_steps_per_trial:\n",
        "            new_trial = True\n",
        "            self.new_trial()\n",
        "\n",
        "        return self.position, reward, {'new_trial': new_trial}\n",
        "\n",
        "    def render(self, ax=None):\n",
        "        \"\"\"\n",
        "        Display position of the agent, obstacles and goal in a grid.\n",
        "        \"\"\"\n",
        "        grid = np.zeros((self.size, self.size))\n",
        "        grid[self.position] = 1  # agent's position marked with 1\n",
        "        grid[self.goal] = 2  # goal position marked with 0.5\n",
        "        for obstacle in self.obstacles:\n",
        "            grid[obstacle] = -1\n",
        "        # pad grid with -1\n",
        "        grid = np.pad(grid, pad_width=1, mode='constant', constant_values=-1)\n",
        "        if ax is None:\n",
        "            _, ax = plt.subplots()\n",
        "        ax.imshow(grid, vmin=-1, vmax=2, cmap='hot')\n",
        "        # remove xtiks and yticks\n",
        "        ax.set_xticks([])\n",
        "        ax.set_yticks([])\n",
        "\n"
      ]
    },
    {
      "attachments": {},
      "cell_type": "markdown",
      "metadata": {
        "id": "uX3V9lKt2vg5"
      },
      "source": [
        "#### 1.1. Define gridworld parameters"
      ]
    },
    {
      "attachments": {},
      "cell_type": "markdown",
      "metadata": {},
      "source": [
        "Let's first define the default parameters for the gridworld:\n",
        "- `grid_size`: size of the gridworld.\n",
        "- `start`: initial position of the agent.\n",
        "- `goal`: goal position of the agent.\n",
        "- `obstacles`: list of obstacles.\n",
        "- `max_steps_per_trial`: maximum number of steps per trial."
      ]
    },
    {
      "cell_type": "code",
      "execution_count": 41,
      "metadata": {
        "id": "msLp_IcZ2vg6"
      },
      "outputs": [],
      "source": [
        "grid_size = 5\n",
        "start = (1, 1)\n",
        "goal = (grid_size - 1, grid_size - 1)\n",
        "obstacles = [(x, grid_size//2) for x in range(grid_size-2)]\n",
        "max_steps_per_trial = 20"
      ]
    },
    {
      "attachments": {},
      "cell_type": "markdown",
      "metadata": {
        "id": "CgII5JHM2vg7"
      },
      "source": [
        "#### 1.2. Play with the environment"
      ]
    },
    {
      "cell_type": "markdown",
      "metadata": {},
      "source": [
        "Check you understand the gridworld task. Suggestions:\n",
        "- change the size of the grid and see what happens.\n",
        "- change the start and goal locations.\n",
        "- change the obstacles to be randomly placed blocks.\n",
        "- ..."
      ]
    },
    {
      "cell_type": "code",
      "execution_count": 63,
      "metadata": {
        "colab": {
          "base_uri": "https://localhost:8080/",
          "height": 800
        },
        "id": "eOgdVTnv2vg7",
        "outputId": "8f7185ef-3d32-486c-98d7-5cef130db23e"
      },
      "outputs": [
        {
          "name": "stdout",
          "output_type": "stream",
          "text": [
            "Obstacle hit!\n",
            "Obstacle hit!\n",
            "Obstacle hit!\n",
            "Obstacle hit!\n",
            "Obstacle hit!\n",
            "Obstacle hit!\n",
            "Obstacle hit!\n",
            "Obstacle hit!\n",
            "Obstacle hit!\n"
          ]
        },
        {
          "data": {
            "text/plain": [
              "(0.0, 1.0, 0.0, 1.0)"
            ]
          },
          "execution_count": 63,
          "metadata": {},
          "output_type": "execute_result"
        },
        {
          "data": {
            "image/png": "[encoded data removed]",
            "text/plain": [
              "<Figure size 720x720 with 12 Axes>"
            ]
          },
          "metadata": {
            "needs_background": "light"
          },
          "output_type": "display_data"
        }
      ],
      "source": [
        "# INSTRUCTION 1. Explore the different parameters of the GridWorld task\n",
        "grid_size_test = 5\n",
        "start_test = (0, 0)\n",
        "goal_test = (grid_size_test - 1, grid_size_test - 1)\n",
        "obstacles_test = [(x, grid_size_test//2) for x in range(grid_size_test-2)]\n",
        "max_steps_per_trial_test = 20\n",
        "env = GridWorld(size=grid_size_test, start=start_test, goal=goal_test, obstacles=obstacles_test, max_steps_per_trial=max_steps_per_trial_test)\n",
        "# action names\n",
        "actions = ['up', 'right', 'down', 'left']\n",
        "# INSTRUCTION 2. Define an action plan to reach the goal by hand (Note that the actions correspond to codes 0,1,2,3)\n",
        "good_path = [0, 1, 1, 1, 1, 1, 1, 1, 1, 1, 1]\n",
        "# number of rows and columns is the root of the number of actions\n",
        "nrows = int(np.sqrt(len(good_path)))\n",
        "ncols = nrows+1\n",
        "f, ax = plt.subplots(figsize=(10, 10), nrows=nrows, ncols=ncols)\n",
        "ax = ax.flatten()\n",
        "for i_a, action in enumerate(good_path):\n",
        "    env.step(action)\n",
        "    env.render(ax=ax[i_a])\n",
        "    # remove xtiks and yticks\n",
        "    ax[i_a].set_xticks([])\n",
        "    ax[i_a].set_yticks([])\n",
        "    # add title\n",
        "    ax[i_a].set_title(actions[action])\n",
        "# remove last axis\n",
        "ax[-1].axis('off')"
      ]
    },
    {
      "attachments": {},
      "cell_type": "markdown",
      "metadata": {},
      "source": [
        "### 2. Random Agent"
      ]
    },
    {
      "attachments": {},
      "cell_type": "markdown",
      "metadata": {},
      "source": [
        "We will start by implementing a random agent. As you see, the random agent does not care about the environment and choses a random action from the available ones."
      ]
    },
    {
      "cell_type": "code",
      "execution_count": 43,
      "metadata": {
        "id": "jh6VBysf2vg-"
      },
      "outputs": [],
      "source": [
        "class Random:\n",
        "    \"\"\" \n",
        "    Random agent. \n",
        "    The random agent selects an action at random from the action space and does not try to learn anything (don't be like the random agent!)\n",
        "    \"\"\"\n",
        "    def __init__(self, action_space):\n",
        "        self.action_space = action_space\n",
        "    # Side note: **kwargs is a dictionary of arguments that allows us to pass an arbitrary number of arguments to the function. We use it here\n",
        "    # to make the function compatible with the train_agent function below.\n",
        "    def get_action(self, **kwargs):\n",
        "        return np.random.choice(self.action_space)\n",
        "    def learn(self, **kwargs):\n",
        "        pass"
      ]
    },
    {
      "attachments": {},
      "cell_type": "markdown",
      "metadata": {
        "id": "Q4C_Hbfb2vg9"
      },
      "source": [
        "### 3. Training function"
      ]
    },
    {
      "attachments": {},
      "cell_type": "markdown",
      "metadata": {
        "id": "40wpwrmC2vg9"
      },
      "source": [
        "This is the function we will use to train all our agents. It establishes the communication between the agent and the environment.\n",
        "\n",
        "Think of what the gridworld needs from the agent to update the state and what the agent needs from the gridworld to act and learn to make better decisions."
      ]
    },
    {
      "cell_type": "code",
      "execution_count": 48,
      "metadata": {
        "id": "mQYTLow4Z-g3"
      },
      "outputs": [],
      "source": [
        "def train_agent(agent, grid_size=5, start=(0, 0), goal=(4, 4), obstacles=[(x, 3) for x in range(3)],\n",
        "                max_num_tr=100, verbose=False, max_steps_per_trial=50, render_flag=False, learn_flag=True):\n",
        "    \"\"\"\n",
        "    Create gridWorld and agent, and train agent for a number of trials.\n",
        "\n",
        "    Args:\n",
        "        agent: agent to train\n",
        "        grid_size: int, size of the grid\n",
        "        start: tuple, starting position of the agent\n",
        "        goal: tuple, goal position for the agent\n",
        "        obstacles: list of tuples, positions of the obstacles\n",
        "        max_num_tr: int, maximum number of trials\n",
        "        verbose: bool, whether to display the environment\n",
        "        max_steps_per_trial: int, maximum number of steps per trial\n",
        "        render_flag: bool, whether to render the environment\n",
        "        learn_flag: bool, whether the agent should learn\n",
        "    \"\"\"\n",
        "    # Create grid world\n",
        "    env = GridWorld(size=grid_size, start=start, goal=goal, obstacles=obstacles, max_steps_per_trial=max_steps_per_trial)\n",
        "\n",
        "    # First action of the agent. In order to act the agent needs to know the state of the environment.\n",
        "    action = agent.get_action(state=start)\n",
        "    state, _, _ = env.step(action)\n",
        "    reward_per_episode = []\n",
        "    total_reward = 0\n",
        "    while env.trial < max_num_tr:\n",
        "        # Get the next action from the agent.\n",
        "        action = agent.get_action(state=state)\n",
        "        next_state, reward, info = env.step(action)\n",
        "        # Learn from the experience. In order to learn the agent needs to know the previous state, the action taken,\n",
        "        # the reward obtained and the new state after the action.\n",
        "        if learn_flag:\n",
        "            agent.learn(state=state, action=action, reward=reward, next_state=next_state)\n",
        "        state = next_state\n",
        "        if verbose and env.trial % 100 == 0 and env.t == 0:\n",
        "            print(f\"Trial: {env.trial + 1}, Step: {env.t + 1}, State: {state}, Action: {action}, Next State: {next_state},\\\n",
        "                    Reward: {reward}, Total Reward: {total_reward}, New trial: {info['new_trial']}\")\n",
        "        if render_flag:\n",
        "            clear_output(wait=True)\n",
        "            env.render()\n",
        "            plt.show()\n",
        "        total_reward += reward\n",
        "        if info['new_trial']: # check if the trial has ended\n",
        "            reward_per_episode.append(total_reward)\n",
        "            total_reward = 0\n",
        "    return reward_per_episode"
      ]
    },
    {
      "attachments": {},
      "cell_type": "markdown",
      "metadata": {},
      "source": [
        "#### 3.1. Run the random agent"
      ]
    },
    {
      "attachments": {},
      "cell_type": "markdown",
      "metadata": {},
      "source": [
        "We will now run the random agent and see how it performs. Since this agent does not learn, we will set the number of trials to 10 and visualize what it does in each step."
      ]
    },
    {
      "cell_type": "code",
      "execution_count": 65,
      "metadata": {
        "colab": {
          "base_uri": "https://localhost:8080/",
          "height": 1000
        },
        "id": "tUY2EG2Z2vg-",
        "outputId": "8d2c9c42-7122-4e2c-97a3-f3094ddf1e16"
      },
      "outputs": [
        {
          "data": {
            "image/png": "[encoded data removed]",
            "text/plain": [
              "<Figure size 432x288 with 1 Axes>"
            ]
          },
          "metadata": {},
          "output_type": "display_data"
        },
        {
          "data": {
            "image/png": "[encoded data removed]",
            "text/plain": [
              "<Figure size 432x432 with 1 Axes>"
            ]
          },
          "metadata": {
            "needs_background": "light"
          },
          "output_type": "display_data"
        }
      ],
      "source": [
        "action_space = [0, 1, 2, 3]  # up, right, down, left\n",
        "max_num_tr = 10\n",
        "verbose = True\n",
        "render_flag = True\n",
        "learn_flag = True  # note that this is actually not relevant for the random agent\n",
        "agent = Random(action_space=action_space)\n",
        "reward_per_episode_random =\\\n",
        "      train_agent(agent=agent, grid_size=grid_size, start=start, goal=goal,\n",
        "                  obstacles=obstacles, max_num_tr=max_num_tr, render_flag=render_flag,\n",
        "                  verbose=verbose, max_steps_per_trial=max_steps_per_trial)\n",
        "plot_reward_per_episode(reward_per_episode_random)"
      ]
    },
    {
      "attachments": {},
      "cell_type": "markdown",
      "metadata": {
        "id": "aObDYhup2vg_"
      },
      "source": [
        "As you see, the random agent does not do great and it is a bit frustrating to see it so close to the goal state and not reaching it. If only it could learn...\n",
        "\n",
        "Let's see if we can do better with a SARSA agent!"
      ]
    },
    {
      "attachments": {},
      "cell_type": "markdown",
      "metadata": {
        "id": "gDuZIvux2vg_"
      },
      "source": [
        "### 4. SARSA Agent"
      ]
    },
    {
      "attachments": {},
      "cell_type": "markdown",
      "metadata": {
        "id": "HQpteD7o2vg_"
      },
      "source": [
        "The state-action-reward-state-action (SARSA) agent learns the value of its actions by following the policy it has learned so far. It is an on-policy method. The formula of the learning rule is:\n",
        "$$Q(s_t,a_t) \\leftarrow Q(s_t,a_t) + \\alpha \\left[ r_{t+1} + \\gamma Q(s_{t+1},a_{t+1}) - Q(s_t,a_t) \\right]$$"
      ]
    },
    {
      "attachments": {},
      "cell_type": "markdown",
      "metadata": {},
      "source": [
        "#### 4.1. Implement a random SARSA agent"
      ]
    },
    {
      "attachments": {},
      "cell_type": "markdown",
      "metadata": {},
      "source": [
        "We will first implement a random SARSA agent. This agent will learn the value of its actions but will still choose a random action from the available ones. \n",
        "\n",
        "Although the Random SARSA agent would never survive in a wild gridworld, it will actually learn a very accurate value for each action and state in the gridworld. This is because it will randomly visit each state-action pair many times."
      ]
    },
    {
      "cell_type": "code",
      "execution_count": 66,
      "metadata": {
        "id": "2aaZbp7I2vg_"
      },
      "outputs": [],
      "source": [
        "class RandomSARSAAgent:\n",
        "    def __init__(self, action_space, state_space, alpha=0.1, gamma=0.9, epsilon=1):\n",
        "        self.action_space = action_space\n",
        "        self.state_space = state_space\n",
        "        self.alpha = alpha\n",
        "        self.gamma = gamma\n",
        "        self.epsilon = epsilon\n",
        "        self.q_table = np.random.rand(self.state_space[0], self.state_space[1], len(self.action_space))\n",
        "\n",
        "    # INSTRUCTION 3: return the agent's action.\n",
        "    def get_action(self, state):\n",
        "        # INSTRUCTION 3.1: implement random policy\n",
        "        return np.random.choice(self.action_space)\n",
        "    # INSTRUCTION 4: learn from experience\n",
        "    def learn(self, state, action, reward, next_state):\n",
        "        # INSTRUCTION 4.1: get old value from the q-table\n",
        "        old_value = self.q_table[state[0], state[1], action]\n",
        "        # INSTRUCTION 4.2: get action from the q-table\n",
        "        next_action = self.get_action(next_state)\n",
        "        # INSTRUCTION 4.3: get the maximum value from the q-table for the next state and action\n",
        "        next_max = self.q_table[next_state[0], next_state[1], next_action]\n",
        "        # INSTRUCTION 4.4: update the q-table\n",
        "        new_value = (1 - self.alpha) * old_value + self.alpha * (reward + self.gamma * next_max)\n",
        "        self.q_table[state[0], state[1], action] = new_value\n",
        "    def get_q_table(self):\n",
        "        return self.q_table"
      ]
    },
    {
      "attachments": {},
      "cell_type": "markdown",
      "metadata": {},
      "source": [
        "##### 4.1.1. Run the random SARSA agent"
      ]
    },
    {
      "cell_type": "code",
      "execution_count": 69,
      "metadata": {},
      "outputs": [
        {
          "name": "stdout",
          "output_type": "stream",
          "text": [
            "Trial: 101, Step: 1, State: (1, 1), Action: 2, Next State: (1, 1),                    Reward: 50, Total Reward: -23, New trial: True\n",
            "Trial: 201, Step: 1, State: (1, 1), Action: 1, Next State: (1, 1),                    Reward: -1, Total Reward: -21, New trial: True\n",
            "Trial: 301, Step: 1, State: (1, 1), Action: 3, Next State: (1, 1),                    Reward: -1, Total Reward: -21, New trial: True\n",
            "Trial: 401, Step: 1, State: (1, 1), Action: 1, Next State: (1, 1),                    Reward: -1, Total Reward: -21, New trial: True\n",
            "Trial: 501, Step: 1, State: (1, 1), Action: 1, Next State: (1, 1),                    Reward: -1, Total Reward: -21, New trial: True\n",
            "Trial: 601, Step: 1, State: (1, 1), Action: 0, Next State: (1, 1),                    Reward: -1, Total Reward: -23, New trial: True\n",
            "Trial: 701, Step: 1, State: (1, 1), Action: 1, Next State: (1, 1),                    Reward: -1, Total Reward: -22, New trial: True\n",
            "Trial: 801, Step: 1, State: (1, 1), Action: 1, Next State: (1, 1),                    Reward: -1, Total Reward: -20, New trial: True\n",
            "Trial: 901, Step: 1, State: (1, 1), Action: 3, Next State: (1, 1),                    Reward: -1, Total Reward: -20, New trial: True\n",
            "Trial: 1001, Step: 1, State: (1, 1), Action: 1, Next State: (1, 1),                    Reward: -1, Total Reward: -21, New trial: True\n"
          ]
        },
        {
          "data": {
            "image/png": "[encoded data removed]",
            "text/plain": [
              "<Figure size 720x720 with 8 Axes>"
            ]
          },
          "metadata": {
            "needs_background": "light"
          },
          "output_type": "display_data"
        }
      ],
      "source": [
        "max_num_tr = 1000\n",
        "state_space = (grid_size, grid_size)\n",
        "epsilon = 0.1\n",
        "agent = RandomSARSAAgent(action_space=action_space, state_space=state_space, epsilon=epsilon)\n",
        "reward_per_episode_randomsarsa =\\\n",
        "      train_agent(agent=agent, grid_size=grid_size, start=start, goal=goal,\n",
        "                  obstacles=obstacles, max_num_tr=max_num_tr,\n",
        "                  verbose=verbose, max_steps_per_trial=max_steps_per_trial)\n",
        "# plot_reward_per_episode(reward_per_episode_sarsa) you can plot the reward per episode if you want, but it will not be very informative since the agent is not learning\n",
        "plot_q_table(agent, action_space)"
      ]
    },
    {
      "attachments": {},
      "cell_type": "markdown",
      "metadata": {},
      "source": [
        "Check the values of the actions. Do they make sense?"
      ]
    },
    {
      "attachments": {},
      "cell_type": "markdown",
      "metadata": {},
      "source": [
        "#### 4.2. Implement an e-greedy SARSA agent\n",
        "\n",
        "We will now implement the whole agent, which will learn a good-enough q-table so it can choose the best action in each state. Remember that following an e-greedy policy means that choosing the best action with probability 1-epsilon and a random action with probability epsilon.\n",
        "\n",
        "COPY AND PASTE THE CODE FROM THE PREVIOUS CELL BELOW AND MODIFY IT."
      ]
    },
    {
      "cell_type": "code",
      "execution_count": 70,
      "metadata": {},
      "outputs": [],
      "source": [
        "class SARSAAgent:\n",
        "    def __init__(self, action_space, state_space, alpha=0.1, gamma=0.9, epsilon=1):\n",
        "        self.action_space = action_space\n",
        "        self.state_space = state_space\n",
        "        self.alpha = alpha\n",
        "        self.gamma = gamma\n",
        "        self.epsilon = epsilon\n",
        "        self.q_table = np.random.rand(self.state_space[0], self.state_space[1], len(self.action_space))\n",
        "\n",
        "    # INSTRUCTION 5: return the agent's action.\n",
        "    def get_action(self, state):\n",
        "        # INSTRUCTION 5.1: implement epsilon-greedy policy\n",
        "        if state is None or np.random.rand() < self.epsilon:  # Explore: select a random action\n",
        "            return np.random.choice(self.action_space)\n",
        "        else:                                # Exploit: select the action with max value (greedy policy)\n",
        "            return np.argmax(self.q_table[state[0], state[1]])\n",
        "    def learn(self, state, action, reward, next_state):\n",
        "        # get old value from the q-table\n",
        "        old_value = self.q_table[state[0], state[1], action]\n",
        "        # get action from the q-table\n",
        "        next_action = self.get_action(next_state)\n",
        "        # get the maximum value from the q-table for the next state and action\n",
        "        next_max = self.q_table[next_state[0], next_state[1], next_action]\n",
        "        # update the q-table\n",
        "        new_value = (1 - self.alpha) * old_value + self.alpha * (reward + self.gamma * next_max)\n",
        "        self.q_table[state[0], state[1], action] = new_value\n",
        "    def get_q_table(self):\n",
        "        return self.q_table"
      ]
    },
    {
      "attachments": {},
      "cell_type": "markdown",
      "metadata": {},
      "source": [
        "##### 4.2.1. Run the e-greedy SARSA agent"
      ]
    },
    {
      "cell_type": "code",
      "execution_count": 82,
      "metadata": {
        "colab": {
          "base_uri": "https://localhost:8080/",
          "height": 1000
        },
        "id": "rXdoS5JE2vhA",
        "outputId": "f63537e5-777a-4f98-a246-bd7fd769a23c"
      },
      "outputs": [
        {
          "name": "stderr",
          "output_type": "stream",
          "text": [
            "/home/manuel/anaconda3/lib/python3.7/site-packages/gym/logger.py:30: UserWarning: \u001b[33mWARN: Box bound precision lowered by casting to float32\u001b[0m\n",
            "  warnings.warn(colorize('%s: %s'%('WARN', msg % args), 'yellow'))\n"
          ]
        },
        {
          "name": "stdout",
          "output_type": "stream",
          "text": [
            "Trial: 101, Step: 1, State: (1, 1), Action: 1, Next State: (1, 1),                    Reward: 50, Total Reward: -5, New trial: True\n",
            "Trial: 201, Step: 1, State: (1, 1), Action: 1, Next State: (1, 1),                    Reward: 50, Total Reward: -5, New trial: True\n",
            "Trial: 301, Step: 1, State: (1, 1), Action: 1, Next State: (1, 1),                    Reward: 50, Total Reward: -9, New trial: True\n",
            "Trial: 401, Step: 1, State: (1, 1), Action: 1, Next State: (1, 1),                    Reward: 50, Total Reward: -5, New trial: True\n",
            "Trial: 501, Step: 1, State: (1, 1), Action: 1, Next State: (1, 1),                    Reward: 50, Total Reward: -12, New trial: True\n",
            "Trial: 601, Step: 1, State: (1, 1), Action: 1, Next State: (1, 1),                    Reward: 50, Total Reward: -5, New trial: True\n",
            "Trial: 701, Step: 1, State: (1, 1), Action: 1, Next State: (1, 1),                    Reward: 50, Total Reward: -5, New trial: True\n",
            "Trial: 801, Step: 1, State: (1, 1), Action: 1, Next State: (1, 1),                    Reward: 50, Total Reward: -5, New trial: True\n",
            "Trial: 901, Step: 1, State: (1, 1), Action: 1, Next State: (1, 1),                    Reward: 50, Total Reward: -5, New trial: True\n",
            "Trial: 1001, Step: 1, State: (1, 1), Action: 1, Next State: (1, 1),                    Reward: 50, Total Reward: -5, New trial: True\n"
          ]
        },
        {
          "data": {
            "image/png": "[encoded data removed]",
            "text/plain": [
              "<Figure size 432x432 with 1 Axes>"
            ]
          },
          "metadata": {
            "needs_background": "light"
          },
          "output_type": "display_data"
        },
        {
          "data": {
            "image/png": "[encoded data removed]",
            "text/plain": [
              "<Figure size 720x720 with 8 Axes>"
            ]
          },
          "metadata": {
            "needs_background": "light"
          },
          "output_type": "display_data"
        }
      ],
      "source": [
        "state_space = (grid_size, grid_size)\n",
        "epsilon = 0.1\n",
        "agent = SARSAAgent(action_space=action_space, state_space=state_space, epsilon=epsilon)\n",
        "reward_per_episode_egreedysarsa =\\\n",
        "      train_agent(agent=agent, grid_size=grid_size, start=start, goal=goal,\n",
        "                  obstacles=obstacles, max_num_tr=max_num_tr,\n",
        "                  verbose=verbose, max_steps_per_trial=max_steps_per_trial)\n",
        "plot_reward_per_episode(reward_per_episode_egreedysarsa)\n",
        "plot_q_table(agent, action_space)"
      ]
    },
    {
      "attachments": {},
      "cell_type": "markdown",
      "metadata": {},
      "source": [
        "It seems the e-greddy SARSA agent is doing a better job than the random SARSA agent, but do the q-tables make sense? What do you think is happening?\n",
        "(hint: increase the epsilon value and see what happens)."
      ]
    },
    {
      "attachments": {},
      "cell_type": "markdown",
      "metadata": {},
      "source": [
        "#### 4.2. 2. See what the agent has learned"
      ]
    },
    {
      "attachments": {},
      "cell_type": "markdown",
      "metadata": {},
      "source": [
        "Let's check the policy the agent has learned. We set the learn_flag to zero and run it for 10 trials."
      ]
    },
    {
      "cell_type": "code",
      "execution_count": 79,
      "metadata": {},
      "outputs": [
        {
          "data": {
            "image/png": "[encoded data removed]",
            "text/plain": [
              "<Figure size 432x288 with 1 Axes>"
            ]
          },
          "metadata": {},
          "output_type": "display_data"
        }
      ],
      "source": [
        "reward_per_episode_sarsa =\\\n",
        "      train_agent(agent=agent, grid_size=grid_size, start=start, goal=goal,\n",
        "                  obstacles=obstacles, max_num_tr=10, learn_flag=False, render_flag=True,\n",
        "                  verbose=verbose, max_steps_per_trial=max_steps_per_trial)"
      ]
    },
    {
      "attachments": {},
      "cell_type": "markdown",
      "metadata": {},
      "source": [
        "What differences do you see between the random SARSA agent and the e-greedy SARSA agent? Who would you trust more to navigate the gridworld? And to know about the gridworld?"
      ]
    },
    {
      "attachments": {},
      "cell_type": "markdown",
      "metadata": {
        "id": "N7QChttg2vhA"
      },
      "source": [
        "### 5. Q-Learning Agent"
      ]
    },
    {
      "attachments": {},
      "cell_type": "markdown",
      "metadata": {
        "id": "dnTGeGjs2vhA"
      },
      "source": [
        "The Q-learning agent uses an off-line policy to learn about the environment. As the SARSA algorithm, it works by maintaining a table of action-value estimates Q(s, a). The difference between the two is in the way they update the q-table. The Q-learning agent uses the following learning rule:\n",
        "\n",
        "$$Q(s_t,a_t) \\leftarrow Q(s_t,a_t) + \\alpha \\left[ r_{t+1} + \\gamma \\max_a Q(s_{t+1},a) - Q(s_t,a_t) \\right]$$\n",
        "\n",
        "Thus, the Q-learning agent uses the q-value of the **best** action in the next state, instead of choosing an action and using the q-value of the resulting next state."
      ]
    },
    {
      "cell_type": "code",
      "execution_count": 73,
      "metadata": {
        "id": "uxAlrPLZ36Bn"
      },
      "outputs": [],
      "source": [
        "class QLearningAgent:\n",
        "    def __init__(self, action_space, state_space, alpha=0.1, gamma=0.9, epsilon=0.1):\n",
        "        self.action_space = action_space\n",
        "        self.state_space = state_space\n",
        "        self.alpha = alpha\n",
        "        self.gamma = gamma\n",
        "        self.epsilon = epsilon\n",
        "        self.q_table = np.random.rand(self.state_space[0], self.state_space[1], len(self.action_space))\n",
        "    def get_action(self, state):\n",
        "        # Implement epsilon-greedy policy\n",
        "        if state is None or np.random.rand() < self.epsilon:  # Explore: select a random action\n",
        "            return np.random.choice(self.action_space)\n",
        "        else:                                # Exploit: select the action with max value (greedy policy)\n",
        "            return np.argmax(self.q_table[state[0], state[1]])\n",
        "    # INSTRUCTION 6: learn from experience\n",
        "    def learn(self, state, action, reward, next_state):\n",
        "        # INSTRUCTION 6.1: get old value from the q-table\n",
        "        old_value = self.q_table[state[0], state[1], action]\n",
        "        # INSTRUCTION 6.2: get the maximum value from the q-table for the next state and action. This is different from SARSA!\n",
        "        next_max = np.max(self.q_table[next_state[0], next_state[1]])\n",
        "        # INSTRUCTION 6.3: update the q-table\n",
        "        new_value = (1 - self.alpha) * old_value + self.alpha * (reward + self.gamma * next_max)\n",
        "        self.q_table[state[0], state[1], action] = new_value\n",
        "    def get_q_table(self):\n",
        "        return self.q_table"
      ]
    },
    {
      "attachments": {},
      "cell_type": "markdown",
      "metadata": {},
      "source": [
        "#### 5.1. Run the Q-learning agent"
      ]
    },
    {
      "cell_type": "code",
      "execution_count": 74,
      "metadata": {
        "colab": {
          "base_uri": "https://localhost:8080/"
        },
        "id": "jENQKFXM2vhB",
        "outputId": "5da6123a-c03a-47c9-abca-7afaab29ef49"
      },
      "outputs": [
        {
          "name": "stderr",
          "output_type": "stream",
          "text": [
            "/home/manuel/anaconda3/lib/python3.7/site-packages/gym/logger.py:30: UserWarning: \u001b[33mWARN: Box bound precision lowered by casting to float32\u001b[0m\n",
            "  warnings.warn(colorize('%s: %s'%('WARN', msg % args), 'yellow'))\n"
          ]
        },
        {
          "name": "stdout",
          "output_type": "stream",
          "text": [
            "Trial: 101, Step: 1, State: (1, 1), Action: 1, Next State: (1, 1),                    Reward: 50, Total Reward: -7, New trial: True\n",
            "Trial: 201, Step: 1, State: (1, 1), Action: 1, Next State: (1, 1),                    Reward: 50, Total Reward: -7, New trial: True\n",
            "Trial: 301, Step: 1, State: (1, 1), Action: 1, Next State: (1, 1),                    Reward: 50, Total Reward: -5, New trial: True\n",
            "Trial: 401, Step: 1, State: (1, 1), Action: 1, Next State: (1, 1),                    Reward: 50, Total Reward: -5, New trial: True\n",
            "Trial: 501, Step: 1, State: (1, 1), Action: 1, Next State: (1, 1),                    Reward: 50, Total Reward: -5, New trial: True\n",
            "Trial: 601, Step: 1, State: (1, 1), Action: 1, Next State: (1, 1),                    Reward: 50, Total Reward: -9, New trial: True\n",
            "Trial: 701, Step: 1, State: (1, 1), Action: 1, Next State: (1, 1),                    Reward: 50, Total Reward: -5, New trial: True\n",
            "Trial: 801, Step: 1, State: (1, 1), Action: 1, Next State: (1, 1),                    Reward: 50, Total Reward: -5, New trial: True\n",
            "Trial: 901, Step: 1, State: (1, 1), Action: 1, Next State: (1, 1),                    Reward: 50, Total Reward: -5, New trial: True\n",
            "Trial: 1001, Step: 1, State: (1, 1), Action: 1, Next State: (1, 1),                    Reward: 50, Total Reward: -6, New trial: True\n"
          ]
        },
        {
          "data": {
            "image/png": "[encoded data removed]",
            "text/plain": [
              "<Figure size 432x432 with 1 Axes>"
            ]
          },
          "metadata": {
            "needs_background": "light"
          },
          "output_type": "display_data"
        },
        {
          "data": {
            "image/png": "[encoded data removed]",
            "text/plain": [
              "<Figure size 720x720 with 8 Axes>"
            ]
          },
          "metadata": {
            "needs_background": "light"
          },
          "output_type": "display_data"
        }
      ],
      "source": [
        "state_space = (grid_size, grid_size)\n",
        "epsilon = 0.1\n",
        "agent = QLearningAgent(action_space=action_space, state_space=state_space, epsilon=epsilon)\n",
        "\n",
        "reward_per_episode_ql =\\\n",
        "      train_agent(agent=agent, grid_size=grid_size, start=start, goal=goal,\n",
        "                  obstacles=obstacles, max_num_tr=max_num_tr,\n",
        "                  verbose=verbose, max_steps_per_trial=max_steps_per_trial)\n",
        "plot_reward_per_episode(reward_per_episode_ql)\n",
        "plot_q_table(agent, action_space)"
      ]
    },
    {
      "attachments": {},
      "cell_type": "markdown",
      "metadata": {
        "id": "k63mh6kn2vhB"
      },
      "source": [
        "### 6. Q-Learning Agent with elegibility trace"
      ]
    },
    {
      "attachments": {},
      "cell_type": "markdown",
      "metadata": {},
      "source": [
        "Finally, we will implement a Q-learning agent with elegibility traces. The formula of the learning rule is:\n",
        "$$Q(s_t,a_t) \\leftarrow Q(s_t,a_t) + \\alpha \\delta_t e_t$$\n",
        "\n",
        "where $\\delta_t = r_{t+1} + \\gamma \\max_a Q(s_{t+1},a) - Q(s_t,a_t)$ and $e_t$ is the elegibility trace. The elegibility trace is updated as follows:\n",
        "\n",
        "$$e_t = \\gamma \\lambda e_{t-1} + \\mathbb{1}(s_t,a_t)$$\n",
        "\n",
        "where $\\mathbb{1}(s_t,a_t)$ is the indicator function that is 1 if the agent is in state $s_t$ and takes action $a_t$ and 0 otherwise."
      ]
    },
    {
      "cell_type": "code",
      "execution_count": 75,
      "metadata": {
        "id": "0MO7qwlW3_7s"
      },
      "outputs": [],
      "source": [
        "class QLearningAgent_with_eligibility:\n",
        "    def __init__(self, action_space, state_space, alpha=0.1, gamma=0.9, epsilon=0.1, lambda_=0.9):\n",
        "        self.action_space = action_space\n",
        "        self.state_space = state_space\n",
        "        self.alpha = alpha\n",
        "        self.gamma = gamma\n",
        "        self.epsilon = epsilon\n",
        "        self.lambda_ = lambda_\n",
        "        self.q_table = np.random.rand(self.state_space[0], self.state_space[1], len(self.action_space))\n",
        "        self.eligibility_trace = np.zeros((self.state_space[0], self.state_space[1]))\n",
        "    def get_action(self, state):\n",
        "        if state is None or np.random.rand() < self.epsilon:  # Explore: select a random action\n",
        "            return np.random.choice(self.action_space)\n",
        "        else:  # Exploit: select the action with max value (greedy policy)\n",
        "            return np.argmax(self.q_table[state[0], state[1]])\n",
        "    # INSTRUCTION 7: learn from experience\n",
        "    def learn(self, state, action, reward, next_state):\n",
        "        # INSTRUCTION 7.1: get old value from the q-table\n",
        "        old_value = self.q_table[state[0], state[1], action]\n",
        "        # INSTRUCTION 7.2: update eligibility trace\n",
        "        self.eligibility_trace *= self.gamma * self.lambda_\n",
        "        # INSTRUCTION 7.3: update eligibility trace for the current state and action\n",
        "        self.eligibility_trace[state[0], state[1]] += 1\n",
        "        # INSTRUCTION 7.4: get the maximum value from the q-table for the next state and action\n",
        "        next_max = np.max(self.q_table[next_state[0], next_state[1]])\n",
        "\n",
        "        # INSTRUCTION 7.5: calculate the temporal difference delta\n",
        "        delta = reward + self.gamma * next_max - old_value\n",
        "\n",
        "        # INSRTUCTION 7.6: Update Q-value using eligibility trace\n",
        "        self.q_table[state[0], state[1], action] += self.alpha * delta * self.eligibility_trace[state[0], state[1]]\n",
        "    def get_q_table(self):\n",
        "        return self.q_table\n"
      ]
    },
    {
      "attachments": {},
      "cell_type": "markdown",
      "metadata": {},
      "source": [
        "#### 6.1. Run the Q-learning agent with elegibility trace"
      ]
    },
    {
      "cell_type": "code",
      "execution_count": 76,
      "metadata": {
        "id": "eGaggLJm1hG7"
      },
      "outputs": [
        {
          "name": "stderr",
          "output_type": "stream",
          "text": [
            "/home/manuel/anaconda3/lib/python3.7/site-packages/gym/logger.py:30: UserWarning: \u001b[33mWARN: Box bound precision lowered by casting to float32\u001b[0m\n",
            "  warnings.warn(colorize('%s: %s'%('WARN', msg % args), 'yellow'))\n"
          ]
        },
        {
          "name": "stdout",
          "output_type": "stream",
          "text": [
            "Trial: 101, Step: 1, State: (1, 1), Action: 2, Next State: (1, 1),                    Reward: 50, Total Reward: -5, New trial: True\n",
            "Trial: 201, Step: 1, State: (1, 1), Action: 2, Next State: (1, 1),                    Reward: 50, Total Reward: -5, New trial: True\n",
            "Trial: 301, Step: 1, State: (1, 1), Action: 2, Next State: (1, 1),                    Reward: 50, Total Reward: -5, New trial: True\n",
            "Trial: 401, Step: 1, State: (1, 1), Action: 2, Next State: (1, 1),                    Reward: 50, Total Reward: -5, New trial: True\n",
            "Trial: 501, Step: 1, State: (1, 1), Action: 2, Next State: (1, 1),                    Reward: 50, Total Reward: -5, New trial: True\n",
            "Trial: 601, Step: 1, State: (1, 1), Action: 2, Next State: (1, 1),                    Reward: 50, Total Reward: -5, New trial: True\n",
            "Trial: 701, Step: 1, State: (1, 1), Action: 2, Next State: (1, 1),                    Reward: 50, Total Reward: -7, New trial: True\n",
            "Trial: 801, Step: 1, State: (1, 1), Action: 2, Next State: (1, 1),                    Reward: 50, Total Reward: -9, New trial: True\n",
            "Trial: 901, Step: 1, State: (1, 1), Action: 2, Next State: (1, 1),                    Reward: 50, Total Reward: -5, New trial: True\n",
            "Trial: 1001, Step: 1, State: (1, 1), Action: 2, Next State: (1, 1),                    Reward: 50, Total Reward: -9, New trial: True\n"
          ]
        },
        {
          "data": {
            "image/png": "[encoded data removed]",
            "text/plain": [
              "<Figure size 432x432 with 1 Axes>"
            ]
          },
          "metadata": {
            "needs_background": "light"
          },
          "output_type": "display_data"
        },
        {
          "data": {
            "image/png": "[encoded data removed]",
            "text/plain": [
              "<Figure size 720x720 with 8 Axes>"
            ]
          },
          "metadata": {
            "needs_background": "light"
          },
          "output_type": "display_data"
        }
      ],
      "source": [
        "state_space = (grid_size, grid_size)\n",
        "epsilon = 0.1\n",
        "alpha = 0.1\n",
        "gamma = 0.9\n",
        "lambda_= 0.9\n",
        "agent = QLearningAgent_with_eligibility(action_space=action_space, state_space=state_space, epsilon=epsilon,\n",
        "                                        alpha=alpha, gamma=gamma, lambda_=lambda_)\n",
        "reward_per_episode_et =\\\n",
        "      train_agent(agent=agent, grid_size=grid_size, start=start, goal=goal,\n",
        "                  obstacles=obstacles, max_num_tr=max_num_tr,\n",
        "                  verbose=verbose, max_steps_per_trial=max_steps_per_trial)\n",
        "plot_reward_per_episode(reward_per_episode_et)\n",
        "plot_q_table(agent, action_space)"
      ]
    },
    {
      "attachments": {},
      "cell_type": "markdown",
      "metadata": {
        "id": "2ZuoESmj2vhC"
      },
      "source": [
        "### 7. Compare learning"
      ]
    },
    {
      "attachments": {},
      "cell_type": "markdown",
      "metadata": {},
      "source": [
        "We will now compare the learning of the different agents."
      ]
    },
    {
      "cell_type": "code",
      "execution_count": 77,
      "metadata": {
        "id": "Hw0-GWrV2vhC"
      },
      "outputs": [
        {
          "data": {
            "text/plain": [
              "Text(0, 0.5, 'Total Reward')"
            ]
          },
          "execution_count": 77,
          "metadata": {},
          "output_type": "execute_result"
        },
        {
          "data": {
            "image/png": "[encoded data removed]",
            "text/plain": [
              "<Figure size 432x432 with 1 Axes>"
            ]
          },
          "metadata": {
            "needs_background": "light"
          },
          "output_type": "display_data"
        }
      ],
      "source": [
        "# create figure\n",
        "f, ax = plt.subplots(figsize=(6, 6))\n",
        "plot_reward_per_episode(reward_per_episode_randomsarsa, ax=ax)\n",
        "plot_reward_per_episode(reward_per_episode_egreedysarsa, ax=ax)\n",
        "plot_reward_per_episode(reward_per_episode_ql, ax=ax)\n",
        "plot_reward_per_episode(reward_per_episode_et, ax=ax)\n",
        "# add legend to ax\n",
        "ax.legend(['Random', 'SARSA', 'Q-Learning', 'Q-Learning with Eligibility Trace'])\n",
        "ax.set_title(\"Reward per episode\")\n",
        "ax.set_xlabel(\"Episode\")\n",
        "ax.set_ylabel(\"Total Reward\")\n",
        "\n"
      ]
    }
  ],
  "metadata": {
    "colab": {
      "provenance": []
    },
    "hide_input": false,
    "kernelspec": {
      "display_name": "Python 3",
      "language": "python",
      "name": "python3"
    },
    "language_info": {
      "codemirror_mode": {
        "name": "ipython",
        "version": 3
      },
      "file_extension": ".py",
      "mimetype": "text/x-python",
      "name": "python",
      "nbconvert_exporter": "python",
      "pygments_lexer": "ipython3",
      "version": "3.7.6"
    },
    "toc": {
      "base_numbering": 1,
      "nav_menu": {},
      "number_sections": true,
      "sideBar": true,
      "skip_h1_title": false,
      "title_cell": "Table of Contents",
      "title_sidebar": "Contents",
      "toc_cell": false,
      "toc_position": {},
      "toc_section_display": true,
      "toc_window_display": false
    },
    "varInspector": {
      "cols": {
        "lenName": 16,
        "lenType": 16,
        "lenVar": 40
      },
      "kernels_config": {
        "python": {
          "delete_cmd_postfix": "",
          "delete_cmd_prefix": "del ",
          "library": "var_list.py",
          "varRefreshCmd": "print(var_dic_list())"
        },
        "r": {
          "delete_cmd_postfix": ") ",
          "delete_cmd_prefix": "rm(",
          "library": "var_list.r",
          "varRefreshCmd": "cat(var_dic_list()) "
        }
      },
      "types_to_exclude": [
        "module",
        "function",
        "builtin_function_or_method",
        "instance",
        "_Feature"
      ],
      "window_display": false
    }
  },
  "nbformat": 4,
  "nbformat_minor": 0
}
