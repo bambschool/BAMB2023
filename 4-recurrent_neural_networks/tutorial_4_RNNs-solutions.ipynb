{
  "cells": [
    {
      "cell_type": "markdown",
      "metadata": {
        "id": "HR0Ss_uQRgmu"
      },
      "source": [
        "[![Open In Colab](https://colab.research.google.com/assets/colab-badge.svg)](https://colab.research.google.com/github/neurogym/ngym_usage/blob/master/supervised/auto_notebooks/supervised/PerceptualDecisionMaking-v0.ipynb)"
      ]
    },
    {
      "cell_type": "markdown",
      "metadata": {
        "id": "nkSBo1a7Rgmy"
      },
      "source": [
        "# Recurrent Neural Networks"
      ]
    },
    {
      "cell_type": "markdown",
      "metadata": {
        "id": "My1AdmUfgUqE"
      },
      "source": [
        "In this tutorial we will learn how to use recurrent neural networks (RNNs) to solve a Perceptual Decision Making task. Here is the index of the tutorial:\n",
        "\n",
        "- Installs, packages, auxiliary functions.\n",
        "- Preparing for the training:\n",
        "    - Training parameters.\n",
        "    - Define the task (sample dataset).\n",
        "    - Define the network.\n",
        "    - Define the algorithm to train the network.\n",
        "    - Save config.\n",
        "- Supervised training of the RNN.\n",
        "- Run the trained network (and save the behavioral data).\n",
        "- Network analysis:\n",
        "    - Behavioral analysis.\n",
        "    - General neural analysis.\n",
        "    - Stimulus and choice decoding from network activity."
      ]
    },
    {
      "cell_type": "markdown",
      "metadata": {
        "id": "vSkRbuZvgUqF"
      },
      "source": [
        "## 0. Installs, packages, auxiliary functions\n",
        "\n",
        "### 0.1. Helper functions\n",
        "\n",
        "We first download the helper modules from the [BAMB2024 Github repository](https://github.com/bambschool/BAMB2024). Just execute the code in the cells below and see if it populates the modules locally and ensure that there are no installation errors.\n"
      ]
    },
    {
      "cell_type": "code",
      "execution_count": 1,
      "metadata": {
        "colab": {
          "base_uri": "https://localhost:8080/"
        },
        "id": "ebGRanfGgUqG",
        "outputId": "3f9373b5-5e70-47c0-89f7-1e4aee7c49df"
      },
      "outputs": [
        {
          "name": "stdout",
          "output_type": "stream",
          "text": [
            "total 16\n",
            "-rw-r--r-- 1 root root 5511 Jul 19 10:22 data.py\n",
            "-rw-r--r-- 1 root root  341 Jul 19 10:22 ops.py\n",
            "drwxr-xr-x 1 root root 4096 Jul 17 13:24 sample_data\n"
          ]
        }
      ],
      "source": [
        "# define the github path and authorization token\n",
        "RAW_GITHUB_PATH = 'https://raw.githubusercontent.com/bambschool/BAMB2023/main/4-recurrent_neural_networks/'\n",
        "\n",
        "# define the list of files to be downloaded\n",
        "files = ['data.py', 'ops.py']\n",
        "\n",
        "for file in files:\n",
        "    result = !wget -O {file} \"{RAW_GITHUB_PATH}{file}\"\n",
        "# List the files in the current directory to verify\n",
        "!ls -l"
      ]
    },
    {
      "cell_type": "markdown",
      "metadata": {
        "id": "0t3deMLagUqI"
      },
      "source": [
        "### 0.2. Neurogym\n",
        "\n",
        "We will use the toolbox [**Neurogym**](https://github.com/neurogym/neurogym/) to define the tasks that our RNNs will have to learn.\n",
        "\n",
        "**NeuroGym** is a curated collection of neuroscience tasks with a common interface. It's main goal is to facilitate training of neural network models on neuroscience tasks."
      ]
    },
    {
      "cell_type": "code",
      "execution_count": 2,
      "metadata": {
        "colab": {
          "base_uri": "https://localhost:8080/"
        },
        "id": "xJTx7XvvgUqJ",
        "outputId": "c03db240-8731-4fb6-e5c9-aa21800e6c5d"
      },
      "outputs": [
        {
          "name": "stdout",
          "output_type": "stream",
          "text": [
            "Requirement already satisfied: gym in /usr/local/lib/python3.10/dist-packages (0.25.2)\n",
            "Requirement already satisfied: numpy>=1.18.0 in /usr/local/lib/python3.10/dist-packages (from gym) (1.25.2)\n",
            "Requirement already satisfied: cloudpickle>=1.2.0 in /usr/local/lib/python3.10/dist-packages (from gym) (2.2.1)\n",
            "Requirement already satisfied: gym-notices>=0.0.4 in /usr/local/lib/python3.10/dist-packages (from gym) (0.0.8)\n",
            "Cloning into 'neurogym'...\n",
            "remote: Enumerating objects: 11100, done.\u001b[K\n",
            "remote: Counting objects: 100% (273/273), done.\u001b[K\n",
            "remote: Compressing objects: 100% (107/107), done.\u001b[K\n",
            "remote: Total 11100 (delta 132), reused 232 (delta 113), pack-reused 10827\u001b[K\n",
            "Receiving objects: 100% (11100/11100), 8.20 MiB | 21.31 MiB/s, done.\n",
            "Resolving deltas: 100% (8318/8318), done.\n",
            "/content/neurogym\n",
            "Obtaining file:///content/neurogym\n",
            "  Preparing metadata (setup.py) ... \u001b[?25l\u001b[?25hdone\n",
            "Requirement already satisfied: numpy in /usr/local/lib/python3.10/dist-packages (from neurogym==0.0.2) (1.25.2)\n",
            "Collecting gym<0.25,>=0.20.0 (from neurogym==0.0.2)\n",
            "  Downloading gym-0.24.1.tar.gz (696 kB)\n",
            "\u001b[2K     \u001b[90m━━━━━━━━━━━━━━━━━━━━━━━━━━━━━━━━━━━━━━━━\u001b[0m \u001b[32m696.4/696.4 kB\u001b[0m \u001b[31m10.1 MB/s\u001b[0m eta \u001b[36m0:00:00\u001b[0m\n",
            "\u001b[?25h  Installing build dependencies ... \u001b[?25l\u001b[?25hdone\n",
            "  Getting requirements to build wheel ... \u001b[?25l\u001b[?25hdone\n",
            "  Preparing metadata (pyproject.toml) ... \u001b[?25l\u001b[?25hdone\n",
            "Requirement already satisfied: matplotlib in /usr/local/lib/python3.10/dist-packages (from neurogym==0.0.2) (3.7.1)\n",
            "Requirement already satisfied: cloudpickle>=1.2.0 in /usr/local/lib/python3.10/dist-packages (from gym<0.25,>=0.20.0->neurogym==0.0.2) (2.2.1)\n",
            "Requirement already satisfied: gym-notices>=0.0.4 in /usr/local/lib/python3.10/dist-packages (from gym<0.25,>=0.20.0->neurogym==0.0.2) (0.0.8)\n",
            "Requirement already satisfied: contourpy>=1.0.1 in /usr/local/lib/python3.10/dist-packages (from matplotlib->neurogym==0.0.2) (1.2.1)\n",
            "Requirement already satisfied: cycler>=0.10 in /usr/local/lib/python3.10/dist-packages (from matplotlib->neurogym==0.0.2) (0.12.1)\n",
            "Requirement already satisfied: fonttools>=4.22.0 in /usr/local/lib/python3.10/dist-packages (from matplotlib->neurogym==0.0.2) (4.53.1)\n",
            "Requirement already satisfied: kiwisolver>=1.0.1 in /usr/local/lib/python3.10/dist-packages (from matplotlib->neurogym==0.0.2) (1.4.5)\n",
            "Requirement already satisfied: packaging>=20.0 in /usr/local/lib/python3.10/dist-packages (from matplotlib->neurogym==0.0.2) (24.1)\n",
            "Requirement already satisfied: pillow>=6.2.0 in /usr/local/lib/python3.10/dist-packages (from matplotlib->neurogym==0.0.2) (9.4.0)\n",
            "Requirement already satisfied: pyparsing>=2.3.1 in /usr/local/lib/python3.10/dist-packages (from matplotlib->neurogym==0.0.2) (3.1.2)\n",
            "Requirement already satisfied: python-dateutil>=2.7 in /usr/local/lib/python3.10/dist-packages (from matplotlib->neurogym==0.0.2) (2.8.2)\n",
            "Requirement already satisfied: six>=1.5 in /usr/local/lib/python3.10/dist-packages (from python-dateutil>=2.7->matplotlib->neurogym==0.0.2) (1.16.0)\n",
            "Building wheels for collected packages: gym\n",
            "  Building wheel for gym (pyproject.toml) ... \u001b[?25l\u001b[?25hdone\n",
            "  Created wheel for gym: filename=gym-0.24.1-py3-none-any.whl size=793123 sha256=9805f1430f4f9e2a574bd6a2b7f16593359643280bbcdd30f877393ce22b0391\n",
            "  Stored in directory: /root/.cache/pip/wheels/c4/fb/19/388995b88cb551717a8dff40c889172cd12fadf994216a0a22\n",
            "Successfully built gym\n",
            "Installing collected packages: gym, neurogym\n",
            "  Attempting uninstall: gym\n",
            "    Found existing installation: gym 0.25.2\n",
            "    Uninstalling gym-0.25.2:\n",
            "      Successfully uninstalled gym-0.25.2\n",
            "  Running setup.py develop for neurogym\n",
            "Successfully installed gym-0.24.1 neurogym-0.0.2\n"
          ]
        }
      ],
      "source": [
        "\n",
        "# Uncomment following lines to install\n",
        "! pip install gym   # Install gym\n",
        "! git clone https://github.com/gyyang/neurogym.git  # Install neurogym\n",
        "%cd neurogym/\n",
        "! pip install -e ."
      ]
    },
    {
      "cell_type": "markdown",
      "metadata": {
        "id": "osuObJRvgUqJ"
      },
      "source": [
        "<p align=\"center\">\n",
        "<img src=\"https://drive.google.com/uc?export=view&id=1Suk5bvKiFqZCmIu4f1pWNghBxrznJ0U_\" alt=\"drawing\" width=\"1000\"/>\n",
        "</p>"
      ]
    },
    {
      "cell_type": "markdown",
      "metadata": {
        "id": "XCv_jh_0Rgmz"
      },
      "source": [
        "### 0.3. Imports"
      ]
    },
    {
      "cell_type": "markdown",
      "metadata": {
        "id": "OiO2HKsWgUqK"
      },
      "source": [
        "Import the packages we need for training and analyzing the RNNs. Especially, we will use the toolbox [pytorch](https://pytorch.org/) to define and train the networks."
      ]
    },
    {
      "cell_type": "code",
      "execution_count": null,
      "metadata": {
        "colab": {
          "base_uri": "https://localhost:8080/"
        },
        "id": "Kof72wUxRgm0",
        "outputId": "7147bd41-6921-4e14-b80e-584b676feb93"
      },
      "outputs": [
        {
          "ename": "",
          "evalue": "",
          "output_type": "error",
          "traceback": [
            "\u001b[1;31mRunning cells with '.venv' requires the ipykernel package.\n",
            "\u001b[1;31mRun the following command to install 'ipykernel' into the Python environment. \n",
            "\u001b[1;31mCommand: '/home/manuel/BAMB2023/4-recurrent_neural_networks/.venv/bin/python -m pip install ipykernel -U --force-reinstall'"
          ]
        }
      ],
      "source": [
        "# packages to save data\n",
        "import os\n",
        "from pathlib import Path\n",
        "import json\n",
        "\n",
        "# packages to handle data\n",
        "import numpy as np\n",
        "import pandas as pd\n",
        "\n",
        "\n",
        "# packages to visualize data\n",
        "import matplotlib.pyplot as plt\n",
        "import matplotlib as mpl\n",
        "\n",
        "# import torch and neural network modules to build RNNs\n",
        "import torch\n",
        "import torch.nn as nn\n",
        "\n",
        "# import gym and neurogym to create tasks\n",
        "import gym\n",
        "import neurogym as ngym\n",
        "from neurogym.utils import plotting\n",
        "\n",
        "# import\n",
        "import data\n",
        "import ops"
      ]
    },
    {
      "cell_type": "markdown",
      "metadata": {
        "id": "aSetQGi2gUqM"
      },
      "source": [
        "## 1. Preparing for the training"
      ]
    },
    {
      "cell_type": "markdown",
      "metadata": {
        "id": "urF6MRnKgUqM"
      },
      "source": [
        "We will first set some parameters for the training.\n",
        "\n",
        "Then we will focus on the 3 important decisions one has to make before training the network:\n",
        "- Define the task.\n",
        "- Define the network.\n",
        "- Define the algorithm to train the network."
      ]
    },
    {
      "cell_type": "markdown",
      "metadata": {
        "id": "oJL3O5-bgUqM"
      },
      "source": [
        "### 1.1. Define the training parameters"
      ]
    },
    {
      "cell_type": "markdown",
      "metadata": {
        "id": "U9zIJLDlgUqM"
      },
      "source": [
        "We need to define some training parameters:\n",
        "- *dt*: time step of the task. The task is defined in discrete time steps of 100 ms.\n",
        "- *lr*: learning rate of the network.\n",
        "- *n_epochs*: number of epochs to train the network.\n",
        "- *seq_len*: number of time steps in each trial. The network will be trained on sequences of 100 time steps.\n",
        "- *batch_size*: number of trials per batch. During training, the network will be trained on batches of trials that contain the inputs to the network and the target outputs (or labels).\n",
        "\n",
        "Some of these parameters might be more clear later, when we define the task."
      ]
    },
    {
      "cell_type": "code",
      "execution_count": 4,
      "metadata": {
        "id": "AXtQLATSgUqN"
      },
      "outputs": [],
      "source": [
        "# check if GPU is available\n",
        "device = 'cuda' if torch.cuda.is_available() else 'cpu'\n",
        "\n",
        "# INSTRUCTION 19 (once you have finished the tutorial): Other tasks to try: 'DelayMatchSample-v0', 'GoNogo-v0', 'ContextDecisionMaking-v0'\n",
        "# Set up config:\n",
        "training_kwargs = {'dt': 100,\n",
        "                   'lr': 1e-2,\n",
        "                   'n_epochs': 2000,\n",
        "                   'batch_size': 16,\n",
        "                   'seq_len': 100}"
      ]
    },
    {
      "cell_type": "markdown",
      "metadata": {
        "id": "oQx5oWHegUqN"
      },
      "source": [
        "### 1.2. Define task"
      ]
    },
    {
      "cell_type": "markdown",
      "metadata": {
        "id": "KYkPjqcsgUqN"
      },
      "source": [
        "We now define the task parameters:\n",
        "- *dt*: already defined above.\n",
        "- *timing*: timing of the different periods of the task: fixation, stimulus, delay, decision.\n",
        "- *sigma*: standard deviation of the Gaussian noise that will be added to the stimulus.\n",
        "- *dim_ring*: number of stimuli. Our task will have 2 stimuli and two corresponding choices, i.e. it will be a two-alternative forced choice (2AFC) task. However, the task can be generalized to any number of stimuli and choices.\n",
        "\n",
        "Once you have your network trained, you can try to change some of these parameters to see how the network performs."
      ]
    },
    {
      "cell_type": "code",
      "execution_count": 14,
      "metadata": {
        "id": "C5ibVrkogUqN"
      },
      "outputs": [],
      "source": [
        "# Set up task parameters\n",
        "envid = 'PerceptualDecisionMaking-v0' # name of the task on the neurogym library\n",
        "if envid == 'PerceptualDecisionMaking-v0':\n",
        "    env_kwargs = {'dt': training_kwargs['dt'],\n",
        "                'timing': {'fixation': 300,\n",
        "                            'stimulus': 500,\n",
        "                            'delay': 0,\n",
        "                            'decision': 100},\n",
        "                'sigma': 1,\n",
        "                'dim_ring': 2}\n",
        "    wrappers_kwargs = {'probs': [[0.8, 0.2], [0.2, 0.8]], 'block_dur': 50}\n",
        "else:\n",
        "    env_kwargs = {'dt': training_kwargs['dt']}"
      ]
    },
    {
      "cell_type": "markdown",
      "metadata": {
        "id": "Cdi4kgIYgUqO"
      },
      "source": [
        "#### 1.2.1. Sample dataset\n",
        "\n",
        "After having defined how the task (*the environment*) is implemented and which are the training hyperparameters, we now define a function that builds the environment. This function also provides a dataset object, from which we will sample the trials and labels (targets) that will be used to train the network."
      ]
    },
    {
      "cell_type": "code",
      "execution_count": 15,
      "metadata": {
        "id": "taONJq8AgUqO"
      },
      "outputs": [],
      "source": [
        "# call function to sample\n",
        "dataset, env = data.get_dataset(envid=envid, env_kwargs=env_kwargs, wrappers_kwargs=wrappers_kwargs, training_kwargs=training_kwargs)"
      ]
    },
    {
      "cell_type": "markdown",
      "metadata": {
        "id": "3s3oCmt_gUqP"
      },
      "source": [
        "The *dataset* object provides the inputs and targets to train the RNN. The inputs are the stimuli that the network will receive at each time step. The targets are the labels that the network will have to predict at each time step. In our case, the labels are the choices that the network will have to make at each time step."
      ]
    },
    {
      "cell_type": "code",
      "execution_count": null,
      "metadata": {
        "id": "-ZEwrT8egUqP",
        "outputId": "b8fd1bd3-7b29-4e83-d061-3f0b9842eb4f"
      },
      "outputs": [
        {
          "ename": "",
          "evalue": "",
          "output_type": "error",
          "traceback": [
            "\u001b[1;31mRunning cells with 'unity' requires the ipykernel package.\n",
            "\u001b[1;31mRun the following command to install 'ipykernel' into the Python environment. \n",
            "\u001b[1;31mCommand: 'conda install -n unity ipykernel --update-deps --force-reinstall'"
          ]
        }
      ],
      "source": [
        "inputs, labels = dataset()\n",
        "print('inputs shape:', inputs.shape)\n",
        "print('labels shape:', labels.shape)\n",
        "print('Example inputs:')\n",
        "print('Fixation     Stimulus Left Stimulus Right')\n",
        "print(inputs[:20, 0, :])\n",
        "print('Example labels:')\n",
        "print(labels[:20, 0])"
      ]
    },
    {
      "cell_type": "markdown",
      "metadata": {
        "id": "2NDGd9n1gUqP"
      },
      "source": [
        "As you see, we will train our RNNs with inputs of shape 100 x 16 x 3, corresponding to the lenght of the samples, the batch size and the number of inputs (stimuli). The targets will have shape 100 x 16, corresponding to the lenght of the samples and the batch size.\n",
        "\n",
        "Let's now plot a few trials for an random agent performing the task. Feel free to run it several times, or explore different agents (random, constant) to get to understand the task."
      ]
    },
    {
      "cell_type": "code",
      "execution_count": null,
      "metadata": {
        "id": "l1YC-vBggUqQ",
        "outputId": "f46bbd30-1833-48c9-a162-24b4e9c2c0fc"
      },
      "outputs": [
        {
          "ename": "",
          "evalue": "",
          "output_type": "error",
          "traceback": [
            "\u001b[1;31mRunning cells with 'unity' requires the ipykernel package.\n",
            "\u001b[1;31mRun the following command to install 'ipykernel' into the Python environment. \n",
            "\u001b[1;31mCommand: 'conda install -n unity ipykernel --update-deps --force-reinstall'"
          ]
        }
      ],
      "source": [
        "# INSTRUCTION 0. Play with the task (run it several times, try random and constant agents) to see how it works.\n",
        "mpl.rcParams['font.family'] = ['DejaVu Serif']\n",
        "num_steps = 2000\n",
        "inputs = []\n",
        "actions = []\n",
        "gt = []\n",
        "perf = []\n",
        "reward = []\n",
        "correct_choice = []\n",
        "trial_count = 0\n",
        "for stp in range(int(num_steps)):\n",
        "    action = env.action_space.sample() # sample a random action from the action space\n",
        "    # You can also try to set the action to one constant value, e.g. action = 1\n",
        "    ob, rew, done, info = env.step(action)\n",
        "    inputs.append(ob)\n",
        "    actions.append(action)\n",
        "    reward.append(rew)\n",
        "    gt.append(info['gt'])\n",
        "    if info['new_trial']:\n",
        "        perf.append(info['performance'])\n",
        "        correct_choice.append(info['gt'])\n",
        "    else:\n",
        "        perf.append(0)\n",
        "\n",
        "inputs = np.array(inputs)\n",
        "actions = np.array(actions)\n",
        "gt = np.array(gt)\n",
        "perf = np.array(perf)\n",
        "reward = np.array(reward)   \n",
        "# Plot first 40 steps\n",
        "num_steps = 20\n",
        "f, ax = plt.subplots(ncols=1, nrows=3, figsize=(8, 4), dpi=150, sharex=True)\n",
        "\n",
        "ax[0].plot(np.arange(1, num_steps+1)*env_kwargs['dt'], inputs[:num_steps, 0], label='Fixation')\n",
        "ax[0].plot(np.arange(1, num_steps+1)*env_kwargs['dt'], inputs[:num_steps, 1], label='Stim. L.')\n",
        "ax[0].plot(np.arange(1, num_steps+1)*env_kwargs['dt'], inputs[:num_steps, 2], label='Stim. R.')\n",
        "ax[0].set_ylabel('Inputs')\n",
        "ax[0].legend()\n",
        "ax[1].plot(np.arange(1, num_steps+1)*env_kwargs['dt'], gt[:num_steps], label='Targets', color='k')\n",
        "ax[1].plot(np.arange(1, num_steps+1)*env_kwargs['dt'], actions[:num_steps], label='Choice', linestyle='--')\n",
        "ax[1].set_ylabel('Actions / Targets')\n",
        "ax[1].legend()\n",
        "ax[2].plot(np.arange(1, num_steps+1)*env_kwargs['dt'], perf[:num_steps], label='Accuracy')\n",
        "ax[2].plot(np.arange(1, num_steps+1)*env_kwargs['dt'], reward[:num_steps], label='reward')\n",
        "ax[2].set_ylabel('Performance')\n",
        "ax[2].set_xlabel('Time (ms)')"
      ]
    },
    {
      "cell_type": "markdown",
      "metadata": {
        "id": "ZQXpqazkgUqQ"
      },
      "source": [
        "As you can see the inputs (observations) have size 3: two stimuli for the left/right choices (green and orange traces) and one fixation cue (blue trace) that indicates when the network should choose. The goal of the RNN will be to identify which of the two stimuli is larger and to choose the corresponding action.\n",
        "\n",
        "In the second panel, the target output (ground-truth) is indicated by the dashed green line and the actions in blue come from a random agent. The bottom panel show the performance of the agent (accuracy) at the end of each trial."
      ]
    },
    {
      "cell_type": "markdown",
      "metadata": {},
      "source": [
        "We now zoom out to see a longer sequence of trials."
      ]
    },
    {
      "cell_type": "code",
      "execution_count": null,
      "metadata": {},
      "outputs": [],
      "source": [
        "# Plot correct choice\n",
        "f = plt.figure(figsize=(8, 4), dpi=150)\n",
        "plt.plot(np.arange(1, len(correct_choice)+1), correct_choice, label='Correct choice')\n",
        "plt.xlabel('Trial')\n",
        "plt.ylabel('Correct choice')\n",
        "plt.legend()"
      ]
    },
    {
      "cell_type": "markdown",
      "metadata": {
        "id": "DkzsKoLkgUqR"
      },
      "source": [
        "### 1.3. Define network\n",
        "\n",
        "We will now define the network that we want to train. As you have seen in the lecture, RNNs are defined by a set of units that are connected to each other.\n",
        "\n",
        "\n",
        "\n",
        "<p align=\"center\">\n",
        "<img src=\"https://drive.google.com/uc?export=view&id=1ENHA_qKp3Cl_D0qagUMAJTLHKdJpA1nb\" alt=\"drawing\" width=\"1000\"/>\n",
        "</p>\n",
        "\n",
        "\n",
        "RNNs can receive an input (x) that changes from timestep to timestep and produce an associated output (y). The activity of their units at any timestep ($h_t$) is passed to the network as an extra input in the next timestep ($h_{t+1}$).\n",
        "\n",
        "The connections between the different units will be defined by a matrix of weights ($W_R$) that is initialized with random values.\n",
        "\n",
        "Then, we need to define the transfer function of the units ($g_h$). We will use rectified linear units which just take the positive part of the input.\n",
        "\n",
        "Finally, we will readout the units activity with a linear projection to the output units ($g_y$).\n",
        "\n",
        "Let's first define the parameters of the network:\n",
        "- the number (*dimensionality*) of inputs.\n",
        "- the number of hidden units (neurons) in the network.\n",
        "- the dimensionality of outputs."
      ]
    },
    {
      "cell_type": "code",
      "execution_count": null,
      "metadata": {
        "id": "wm4jLq8jgUqR",
        "outputId": "89157b84-d069-49ad-b2d6-7babf68065d5"
      },
      "outputs": [
        {
          "ename": "",
          "evalue": "",
          "output_type": "error",
          "traceback": [
            "\u001b[1;31mRunning cells with 'unity' requires the ipykernel package.\n",
            "\u001b[1;31mRun the following command to install 'ipykernel' into the Python environment. \n",
            "\u001b[1;31mCommand: 'conda install -n unity ipykernel --update-deps --force-reinstall'"
          ]
        }
      ],
      "source": [
        "# Set up config:\n",
        "num_neurons = 64\n",
        "\n",
        "net_kwargs = {'hidden_size': num_neurons,\n",
        "              'action_size': env.action_space.n,\n",
        "              'input_size': env.observation_space.shape[0]} # size of the input to the network"
      ]
    },
    {
      "cell_type": "markdown",
      "metadata": {
        "id": "5Jl9cCSngUqR"
      },
      "source": [
        "In the following, we define a `Net` class, which creates our network from standard modules in `pytorch`. As you know from previous tutorials, classes can have associated methods, which are functions specified uniquely for object of the respective class. Our Net class will have:\n",
        "- An `_init_` method that will be run when a new object is created and defines the network architecture.\n",
        "- A `forward` method, that receives the input and returns the output of the network (taking into account the network's architecture)."
      ]
    },
    {
      "cell_type": "code",
      "execution_count": null,
      "metadata": {
        "id": "-vOJnGXSgUqR",
        "outputId": "43034b7c-1b25-45d3-daad-5b443c627168"
      },
      "outputs": [
        {
          "ename": "",
          "evalue": "",
          "output_type": "error",
          "traceback": [
            "\u001b[1;31mRunning cells with 'unity' requires the ipykernel package.\n",
            "\u001b[1;31mRun the following command to install 'ipykernel' into the Python environment. \n",
            "\u001b[1;31mCommand: 'conda install -n unity ipykernel --update-deps --force-reinstall'"
          ]
        }
      ],
      "source": [
        "class Net(nn.Module):\n",
        "    def __init__(self, input_size, hidden_size, output_size):\n",
        "        super(Net, self).__init__()\n",
        "\n",
        "        # INSTRUCTION 1: build a recurrent neural network with a single recurrent layer and rectified linear units\n",
        "        self.vanilla = nn.RNN(input_size, hidden_size, nonlinearity='relu')\n",
        "        self.linear = nn.Linear(hidden_size, output_size)\n",
        "\n",
        "    def forward(self, x):\n",
        "        # INSTRUCTION 2: get the output of the network for a given input\n",
        "        out, _ = self.vanilla(x)\n",
        "        x = self.linear(out)\n",
        "        return x, out"
      ]
    },
    {
      "cell_type": "markdown",
      "metadata": {
        "id": "HulStArXgUqS"
      },
      "source": [
        "We will now create an *instance* of the `Net` class with the desired hyperparameters as defined above. We will then pass this network to our GPU for training."
      ]
    },
    {
      "cell_type": "code",
      "execution_count": null,
      "metadata": {
        "id": "1bq1EFjagUqS",
        "outputId": "25e7b7ad-a9f3-43a4-9895-1def63a1a8f6"
      },
      "outputs": [
        {
          "ename": "",
          "evalue": "",
          "output_type": "error",
          "traceback": [
            "\u001b[1;31mRunning cells with 'unity' requires the ipykernel package.\n",
            "\u001b[1;31mRun the following command to install 'ipykernel' into the Python environment. \n",
            "\u001b[1;31mCommand: 'conda install -n unity ipykernel --update-deps --force-reinstall'"
          ]
        }
      ],
      "source": [
        "# Define network instance from the Net class\n",
        "net = Net(input_size=env.observation_space.shape[0],\n",
        "          hidden_size=net_kwargs['hidden_size'],\n",
        "          output_size=env.action_space.n)\n",
        "\n",
        "# Move network to the device (CPU or GPU)\n",
        "net = net.to(device)"
      ]
    },
    {
      "cell_type": "markdown",
      "metadata": {
        "id": "ri29qL3xgUqS"
      },
      "source": [
        "### 1.4. Define the algorithm to train the network\n",
        "\n"
      ]
    },
    {
      "cell_type": "markdown",
      "metadata": {
        "id": "3AYb9ERzgUqT"
      },
      "source": [
        "To teach the network to perform the task, we will use a supervised learning approach. This means that we will provide the network with the inputs and the target outputs (or labels) and we will train the network to predict the target outputs from the inputs. For that we need a loss function that quantifies the difference between the network's predictions and the target outputs. Here's a screenshot of this morning presentation for you to remember how we train a network using gradient descent on a loss function.\n",
        "\n",
        "<p align=\"center\">\n",
        "<img src=\"https://drive.google.com/uc?export=view&id=1cJjCcgc3jgdrsd2nq0AsDq628nK0eUZA\" alt=\"drawing\" width=\"600\"/>\n",
        "</p>\n",
        "\n",
        "We will use the cross-entropy loss function, which is commonly used for classification tasks (here the network has to classify the stimuli into two categories). The cross-entropy loss function is defined as:\n",
        "\n",
        "$$L = - \\sum_{i=1}^{N} y_i \\log(\\hat{y}_i)$$\n",
        "\n",
        "where L is the loss, $N$ is the number of samples, $y_i$ is the target output and $\\hat{y}_i$ is the network's prediction for the $i$-th sample.\n",
        "\n",
        "We will also define the optimizer that will be used to train the network. We will use Adam, which is a popular optimizer commonly used in deep learning."
      ]
    },
    {
      "cell_type": "code",
      "execution_count": null,
      "metadata": {
        "id": "g0nOOvoogUqT",
        "outputId": "7da68881-e7a9-4e6a-9826-2a5c8c4beea6"
      },
      "outputs": [
        {
          "ename": "",
          "evalue": "",
          "output_type": "error",
          "traceback": [
            "\u001b[1;31mRunning cells with 'unity' requires the ipykernel package.\n",
            "\u001b[1;31mRun the following command to install 'ipykernel' into the Python environment. \n",
            "\u001b[1;31mCommand: 'conda install -n unity ipykernel --update-deps --force-reinstall'"
          ]
        }
      ],
      "source": [
        "# Define loss: instance of the CrossEntropyLoss class\n",
        "criterion = nn.CrossEntropyLoss()\n",
        "\n",
        "# Define optimizer\n",
        "optimizer = torch.optim.Adam(net.parameters(), lr=training_kwargs['lr'])"
      ]
    },
    {
      "cell_type": "markdown",
      "metadata": {
        "id": "mO8il74MgUqT"
      },
      "source": [
        "### 1.5. Save config"
      ]
    },
    {
      "cell_type": "code",
      "execution_count": null,
      "metadata": {
        "id": "70R17uXlgUqT",
        "outputId": "d4c36c22-0590-4e66-80fb-e9bea9e58635"
      },
      "outputs": [
        {
          "ename": "",
          "evalue": "",
          "output_type": "error",
          "traceback": [
            "\u001b[1;31mRunning cells with 'unity' requires the ipykernel package.\n",
            "\u001b[1;31mRun the following command to install 'ipykernel' into the Python environment. \n",
            "\u001b[1;31mCommand: 'conda install -n unity ipykernel --update-deps --force-reinstall'"
          ]
        }
      ],
      "source": [
        "training_kwargs['env_kwargs'] = env_kwargs\n",
        "training_kwargs['net_kwargs'] = net_kwargs\n",
        "\n",
        "# Save config\n",
        "with open(ops.get_modelpath(envid) / 'config.json', 'w') as f:\n",
        "    json.dump(training_kwargs, f)"
      ]
    },
    {
      "cell_type": "markdown",
      "metadata": {
        "id": "IP_bEakSRgm2"
      },
      "source": [
        "## 2. Supervised training of the RNN"
      ]
    },
    {
      "cell_type": "code",
      "execution_count": null,
      "metadata": {
        "colab": {
          "base_uri": "https://localhost:8080/"
        },
        "id": "KoNxNIAyRgm3",
        "outputId": "0e1fdba0-6c9f-4c62-da1a-01c31af693a7"
      },
      "outputs": [
        {
          "ename": "",
          "evalue": "",
          "output_type": "error",
          "traceback": [
            "\u001b[1;31mRunning cells with 'unity' requires the ipykernel package.\n",
            "\u001b[1;31mRun the following command to install 'ipykernel' into the Python environment. \n",
            "\u001b[1;31mCommand: 'conda install -n unity ipykernel --update-deps --force-reinstall'"
          ]
        }
      ],
      "source": [
        "print('Training task ', envid)\n",
        "\n",
        "num_epochs = training_kwargs['n_epochs']\n",
        "\n",
        "# We'll keep track of the loss as we train.\n",
        "# It is initialized to zero and then monitored over training interations\n",
        "running_loss = 0.0\n",
        "\n",
        "for i in range(num_epochs):\n",
        "\n",
        "    # get inputs and labels and pass them to the GPU\n",
        "    inputs, labels = dataset()\n",
        "    inputs = torch.from_numpy(inputs).type(torch.float).to(device)\n",
        "    labels = torch.from_numpy(labels.flatten()).type(torch.long).to(device)\n",
        "    # print shapes of inputs and labels\n",
        "    if i == 0:\n",
        "        print('inputs shape: ', inputs.shape)\n",
        "        print('labels shape: ', labels.shape)\n",
        "        print('Max labels: ', labels.max())\n",
        "    # we need zero the parameter gradients to re-initialize and avoid they accumulate across epochs\n",
        "    optimizer.zero_grad()\n",
        "\n",
        "    # INSTRUCTION 3: FORWARD PASS: get the output of the network for a given input\n",
        "    outputs, _ = net(inputs)\n",
        "\n",
        "    #reshape outputs so they have the same shape as labels\n",
        "    outputs = outputs.view(-1, env.action_space.n)\n",
        "\n",
        "    #  INSTRUCTION 4: compute loss with respect to the labels\n",
        "    loss = criterion(outputs, labels)\n",
        "\n",
        "    # INSTRUCTION 5: compute gradients\n",
        "    loss.backward()\n",
        "\n",
        "    # INSTRUCTION 6: update weights\n",
        "    optimizer.step()\n",
        "\n",
        "    # print average loss over last 200 training iterations and save the current network\n",
        "    running_loss += loss.item()\n",
        "    if i % 200 == 199:\n",
        "        print('{:d} loss: {:0.5f}'.format(i + 1, running_loss / 200))\n",
        "        running_loss = 0.0\n",
        "\n",
        "        # save current state of network's parameters\n",
        "        torch.save(net.state_dict(), ops.get_modelpath(envid) / 'net.pth')\n",
        "\n",
        "print('Finished Training')"
      ]
    },
    {
      "cell_type": "markdown",
      "metadata": {
        "id": "RweGGCYQRgm4"
      },
      "source": [
        "## 3. Run the trained network\n",
        "### (and save the behavioral data)"
      ]
    },
    {
      "cell_type": "markdown",
      "metadata": {
        "id": "fY9DMlFJgUqa"
      },
      "source": [
        "We will now run the network that we have trained. Importantly, we will record the activity of the network and the task variables for the analysis."
      ]
    },
    {
      "cell_type": "code",
      "execution_count": null,
      "metadata": {
        "id": "WQBTJbKigUqa",
        "outputId": "22486685-fd73-4c7a-d630-4ee0cd10ed71"
      },
      "outputs": [
        {
          "ename": "",
          "evalue": "",
          "output_type": "error",
          "traceback": [
            "\u001b[1;31mRunning cells with 'unity' requires the ipykernel package.\n",
            "\u001b[1;31mRun the following command to install 'ipykernel' into the Python environment. \n",
            "\u001b[1;31mCommand: 'conda install -n unity ipykernel --update-deps --force-reinstall'"
          ]
        }
      ],
      "source": [
        "# load configuration file - we might have run the training on the cloud and might now open the results locally\n",
        "with open(ops.get_modelpath(envid) / 'config.json') as f:\n",
        "    config = json.load(f)"
      ]
    },
    {
      "cell_type": "markdown",
      "metadata": {
        "id": "lA3NxjO8gUqb"
      },
      "source": [
        "First, we will reconstruct the environment from our config file."
      ]
    },
    {
      "cell_type": "code",
      "execution_count": null,
      "metadata": {
        "id": "UCAXKsuVgUqb",
        "outputId": "e64dc6d1-a982-4d85-d72e-90c8aa1d6301"
      },
      "outputs": [
        {
          "ename": "",
          "evalue": "",
          "output_type": "error",
          "traceback": [
            "\u001b[1;31mRunning cells with 'unity' requires the ipykernel package.\n",
            "\u001b[1;31mRun the following command to install 'ipykernel' into the Python environment. \n",
            "\u001b[1;31mCommand: 'conda install -n unity ipykernel --update-deps --force-reinstall'"
          ]
        }
      ],
      "source": [
        "# Environment\n",
        "env = gym.make(envid, **config['env_kwargs'])\n",
        "try:\n",
        "    env.timing = config['env_kwargs']['timing']\n",
        "except KeyError:\n",
        "    timing = {}\n",
        "    for period in env.timing.keys():\n",
        "        period_times = [env.sample_time(period) for _ in range(100)]\n",
        "        timing[period] = np.median(period_times)\n",
        "    env.timing = timing\n",
        "env.reset(no_step=True) # this is to initialize the environment"
      ]
    },
    {
      "cell_type": "markdown",
      "metadata": {
        "id": "xOsGu1e3gUqb"
      },
      "source": [
        "Now, we'll make a new instance of the `Net` class and populate it with hyperparameters from our config file, as well as the trained weights."
      ]
    },
    {
      "cell_type": "code",
      "execution_count": null,
      "metadata": {
        "colab": {
          "base_uri": "https://localhost:8080/"
        },
        "id": "53ea3YbIRgm4",
        "outputId": "01564780-d083-4e81-cbd1-41a15661b809"
      },
      "outputs": [
        {
          "ename": "",
          "evalue": "",
          "output_type": "error",
          "traceback": [
            "\u001b[1;31mRunning cells with 'unity' requires the ipykernel package.\n",
            "\u001b[1;31mRun the following command to install 'ipykernel' into the Python environment. \n",
            "\u001b[1;31mCommand: 'conda install -n unity ipykernel --update-deps --force-reinstall'"
          ]
        }
      ],
      "source": [
        "# Since we will not train the network anymore, we can turn off the gradient computation. The most commun way to do this is to use the context manager torch.no_grad() as follows:\n",
        "with torch.no_grad():\n",
        "    net = Net(input_size=config['net_kwargs']['input_size'],\n",
        "              hidden_size=config['net_kwargs']['hidden_size'],\n",
        "              output_size=config['net_kwargs']['action_size'])\n",
        "\n",
        "    net = net.to(device) # pass to GPU for running forwards steps\n",
        "\n",
        "    # load the trained network's weights from the saved file\n",
        "    net.load_state_dict(torch.load(ops.get_modelpath(envid) / 'net.pth'))\n",
        "\n",
        "    # how many trials to run\n",
        "    num_trial = 1000\n",
        "\n",
        "    # empty lists / dataframe to store activity, choices, and trial information\n",
        "    activity = list()\n",
        "    obs = list()\n",
        "    info = pd.DataFrame()\n",
        "\n",
        "    for i in range(num_trial):\n",
        "\n",
        "        # create new trial\n",
        "        env.new_trial()\n",
        "\n",
        "        # read out the inputs in that trial\n",
        "        inputs = torch.from_numpy(env.ob[:, np.newaxis, :]).type(torch.float)\n",
        "        # as before you can print the shapes of the variables to understand what they are and how to use them\n",
        "        # do this for the rest of the variables as you build the code\n",
        "        if i == 0:\n",
        "            print('Shape of inputs: ' + str(inputs.shape))\n",
        "        # INSTRUCTION 7: get the network's prediction for the current input\n",
        "        action_pred, hidden = net(inputs)\n",
        "        action_pred = action_pred.numpy()\n",
        "\n",
        "        # INSTRUCTION 8: get the network's choice.\n",
        "        # Take into account the shape of action_pred. Remember that the network makes a prediction for each time step in the trial.\n",
        "        # Which is the prediction we really care about when evaluating the network's performance?\n",
        "        choice = np.argmax(action_pred[-1, 0, :])\n",
        "\n",
        "        # INSTRUCTION 9: check if the choice is correct\n",
        "        # Again, which is the target we want when evaluating the network's performance?\n",
        "        correct = choice == env.gt[-1]\n",
        "\n",
        "        # Log trial info\n",
        "        trial_info = env.trial\n",
        "        trial_info.update({'correct': correct, 'choice': choice}) # Update trial_info with additional information\n",
        "        info = pd.concat([info, pd.DataFrame([trial_info])], ignore_index=True)\n",
        "\n",
        "        # Log activity\n",
        "        activity.append(np.array(hidden)[:, 0, :])\n",
        "\n",
        "        # Log the inputs (or observations) received by the network\n",
        "        obs.append(env.ob)\n",
        "\n",
        "    print('Average performance', np.mean(info['correct']))\n",
        "\n",
        "activity = np.array(activity)\n",
        "obs = np.array(obs)\n",
        "\n",
        "# print stats of the activity: max, min, mean, std\n",
        "print('Activity stats:')\n",
        "print('Max: ' + str(np.max(activity)) + \\\n",
        "      ', Min: ' + str(np.min(activity)) + \\\n",
        "      ', Mean: ' + str(np.mean(activity)) + \\\n",
        "      ', Std: ' + str(np.std(activity)) + \\\n",
        "        ', Shape: ' + str(activity.shape))"
      ]
    },
    {
      "cell_type": "markdown",
      "metadata": {
        "id": "8jO8vmavgUqb"
      },
      "source": [
        "### 4. Network analysis"
      ]
    },
    {
      "cell_type": "markdown",
      "metadata": {
        "id": "UAFYD-RhgUqc"
      },
      "source": [
        "#### 4.1. Behavioral analysis\n",
        "\n",
        "First, we will do a simple analysis of the network's behavior. Will the network behave similarly to a human participant? We have seen above that its average fraction of correct is at ~ 0.8-0.9. Let's now calculate the psychometric curve, i.e., performance by evidence levels. Use the `info` dataframe as if it was behavioral data from a participant."
      ]
    },
    {
      "cell_type": "code",
      "execution_count": null,
      "metadata": {
        "id": "btlDgk0tgUqc",
        "outputId": "eecbd187-d518-4403-af26-8ee9a2cd4350"
      },
      "outputs": [
        {
          "ename": "",
          "evalue": "",
          "output_type": "error",
          "traceback": [
            "\u001b[1;31mRunning cells with 'unity' requires the ipykernel package.\n",
            "\u001b[1;31mRun the following command to install 'ipykernel' into the Python environment. \n",
            "\u001b[1;31mCommand: 'conda install -n unity ipykernel --update-deps --force-reinstall'"
          ]
        }
      ],
      "source": [
        "# print the variables in the info dataframe\n",
        "print('Info dataframe:')\n",
        "print(info.head())"
      ]
    },
    {
      "cell_type": "markdown",
      "metadata": {
        "id": "I0grBJ2PgUqc"
      },
      "source": [
        "Plot the psychometric curve. You can use the function you wrote in the first tutorial."
      ]
    },
    {
      "cell_type": "code",
      "execution_count": null,
      "metadata": {
        "id": "6Oghq5l4gUqc",
        "outputId": "30d57938-f306-4f11-f567-6a82757ab161"
      },
      "outputs": [
        {
          "ename": "",
          "evalue": "",
          "output_type": "error",
          "traceback": [
            "\u001b[1;31mRunning cells with 'unity' requires the ipykernel package.\n",
            "\u001b[1;31mRun the following command to install 'ipykernel' into the Python environment. \n",
            "\u001b[1;31mCommand: 'conda install -n unity ipykernel --update-deps --force-reinstall'"
          ]
        }
      ],
      "source": [
        "# plot the probability of choosing right as a function of the signed coherence and then fit a psychometric curve to the data.\n",
        "mpl.rcParams['font.family'] = ['DejaVu Serif']\n",
        "from scipy.optimize import curve_fit\n",
        "from scipy.special import erf\n",
        "def probit(x, beta, alpha):\n",
        "    \"\"\"\n",
        "    Return probit function with parameters alpha and beta.\n",
        "\n",
        "    Parameters\n",
        "    ----------\n",
        "    x : float\n",
        "        independent variable.\n",
        "    beta : float\n",
        "        sensitiviy.\n",
        "    alpha : TYPE\n",
        "        bias term.\n",
        "\n",
        "    Returns\n",
        "    -------\n",
        "    probit : float\n",
        "        probit value for the given x, beta and alpha.\n",
        "\n",
        "    \"\"\"\n",
        "    probit = 1/2*(1+erf((beta*x+alpha)/np.sqrt(2)))\n",
        "    return probit\n",
        "\n",
        "f, ax = plt.subplots(1, 1, figsize=(3, 3), dpi=150)\n",
        "choice = info['choice'].values\n",
        "# translate choice to 0 and 1\n",
        "choice_01 = np.copy(choice)\n",
        "choice_01 -= 1\n",
        "gt = info['ground_truth'].values\n",
        "coherence = info['coh'].values\n",
        "# get signed coherence\n",
        "signed_coherence = np.copy(coherence)\n",
        "signed_coherence[gt == 0] = -signed_coherence[gt == 0]\n",
        "# INSTRUCTION 10: plot the probability of choosing right as a function of the signed coherence\n",
        "for sc in np.unique(signed_coherence):\n",
        "    prob_right = np.mean(choice_01[signed_coherence == sc])\n",
        "    std_right = np.std(choice_01[signed_coherence == sc])/np.sqrt(np.sum(signed_coherence == sc))\n",
        "    ax.errorbar(sc, prob_right, yerr=std_right, color='k')\n",
        "    ax.plot(sc, prob_right, 'o', color='k')\n",
        "    ax.set_xlabel('Signed coherence')\n",
        "    ax.set_ylabel('P(right)')\n",
        "# fit psychometric curve\n",
        "pars, _ = curve_fit(probit, signed_coherence, choice_01, p0=[0, 1])\n",
        "x = np.linspace(-50, 50, 100)\n",
        "ax.plot(x, probit(x, *pars), color='k')\n",
        "plt.show()"
      ]
    },
    {
      "cell_type": "markdown",
      "metadata": {
        "id": "_9lkm4_cRgm5"
      },
      "source": [
        "#### 4.2. neural analysis\n",
        "\n",
        "We will now inspect the network actity and observations. `activity` is of shape (100, 24, 64) (`[ntrials x ntime x nneurons]`), and observations of shape (100, 24, 3) (`[ntrials x ntime x nobs]`)."
      ]
    },
    {
      "cell_type": "markdown",
      "metadata": {
        "id": "wH6VnN8VgUqd"
      },
      "source": [
        "##### Plot an example trial"
      ]
    },
    {
      "cell_type": "code",
      "execution_count": null,
      "metadata": {
        "id": "FFKsJCj3gUqd",
        "outputId": "6b049374-87c2-401c-9cc1-dbfece0ae80c"
      },
      "outputs": [
        {
          "ename": "",
          "evalue": "",
          "output_type": "error",
          "traceback": [
            "\u001b[1;31mRunning cells with 'unity' requires the ipykernel package.\n",
            "\u001b[1;31mRun the following command to install 'ipykernel' into the Python environment. \n",
            "\u001b[1;31mCommand: 'conda install -n unity ipykernel --update-deps --force-reinstall'"
          ]
        }
      ],
      "source": [
        "def plot_activity(activity, obs, config, trial):\n",
        "\n",
        "    # Load and preprocess results\n",
        "    f, ax = plt.subplots(figsize=(5, 4), nrows=2, dpi=150)\n",
        "\n",
        "    # time in ms\n",
        "    t_plot = np.arange(activity.shape[1]) * config['dt']\n",
        "\n",
        "    # plot the observations for one trial. Note that we will visualize the inputs as a matrix instead of traces, as we have done before.\n",
        "    im = ax[0].imshow(obs[trial].T, aspect='auto', vmin=0, vmax=1)\n",
        "    ax[0].set_title('Observations')\n",
        "    ax[0].set_ylabel('Stimuli')\n",
        "\n",
        "    # change the xticks to show time in ms\n",
        "    ax[0].set_xticks(np.arange(0, activity.shape[1], 10))\n",
        "    ax[0].set_xticklabels(t_plot[::10])\n",
        "    plt.colorbar(im, ax=ax[0])\n",
        "    # INSTRUCTION 11: plot the activity for one trial\n",
        "    im = ax[1].imshow(activity[trial].T, aspect='auto', cmap='viridis')\n",
        "    ax[1].set_title('Activity')\n",
        "    ax[1].set_xlabel('Time (ms)')\n",
        "    ax[1].set_ylabel('Neurons')\n",
        "    plt.colorbar(im, ax=ax[1])\n",
        "    # change the xticks to show time in ms\n",
        "    ax[1].set_xticks(np.arange(0, activity.shape[1], 10))\n",
        "    ax[1].set_xticklabels(t_plot[::10])\n",
        "\n",
        "    plt.tight_layout()\n",
        "\n",
        "plot_activity(activity=activity, obs=obs, config=config, trial=0)"
      ]
    },
    {
      "cell_type": "markdown",
      "metadata": {
        "id": "KVY9GNiAgUqe"
      },
      "source": [
        "You can see that many neurons are completely silent. Is this always like this? Let's identify and exclude the silent neurons."
      ]
    },
    {
      "cell_type": "code",
      "execution_count": null,
      "metadata": {
        "id": "TIEItj3JgUqe",
        "outputId": "c3ea1e04-69f9-4f23-d92e-dc0348b21968"
      },
      "outputs": [
        {
          "ename": "",
          "evalue": "",
          "output_type": "error",
          "traceback": [
            "\u001b[1;31mRunning cells with 'unity' requires the ipykernel package.\n",
            "\u001b[1;31mRun the following command to install 'ipykernel' into the Python environment. \n",
            "\u001b[1;31mCommand: 'conda install -n unity ipykernel --update-deps --force-reinstall'"
          ]
        }
      ],
      "source": [
        "silent_idx = np.where(activity.sum(axis=(0, 1))==0)[0]\n",
        "\n",
        "print('fraction of silent neurons:', len(silent_idx)/activity.shape[-1])\n",
        "# INSRTUCTION 12: plot the activity for one trial, but now excluding the silent neurons\n",
        "clean_activity = activity[:,:,np.delete(np.arange(activity.shape[-1]), silent_idx)]\n",
        "plot_activity(activity=clean_activity, obs=obs, config=config, trial=0)"
      ]
    },
    {
      "cell_type": "markdown",
      "metadata": {
        "id": "Igj-AUPBgUqf"
      },
      "source": [
        " You see that 50% of the neurons are silent. Why do you think this happens?\n",
        "\n",
        " Also, as in biological networks, the active units of the RNN have different levels of activity. We will thus normalize the acitvity across all trials (so that all neurons have the same minimum and maximum activity) and plot again."
      ]
    },
    {
      "cell_type": "code",
      "execution_count": null,
      "metadata": {
        "id": "E8AjlVhlgUqf",
        "outputId": "10a40f17-2274-4aaf-cb23-b6c31778cd81"
      },
      "outputs": [
        {
          "ename": "",
          "evalue": "",
          "output_type": "error",
          "traceback": [
            "\u001b[1;31mRunning cells with 'unity' requires the ipykernel package.\n",
            "\u001b[1;31mRun the following command to install 'ipykernel' into the Python environment. \n",
            "\u001b[1;31mCommand: 'conda install -n unity ipykernel --update-deps --force-reinstall'"
          ]
        }
      ],
      "source": [
        "# min_max scaling\n",
        "minmax_activity = np.array([neuron-neuron.min() for neuron in clean_activity.transpose(2,0,1)]).transpose(1,2,0)\n",
        "minmax_activity = np.array([neuron/neuron.max() for neuron in minmax_activity.transpose(2,0,1)]).transpose(1,2,0)\n",
        "\n",
        "plot_activity(activity=minmax_activity, obs=obs, config=config, trial=0)"
      ]
    },
    {
      "cell_type": "markdown",
      "metadata": {
        "id": "CVovFWiQgUqf"
      },
      "source": [
        "We can see that neurons have mixed activtity profiles, corresponding to the different task periods. Can you figure out the role played by some of these neurons?"
      ]
    },
    {
      "cell_type": "markdown",
      "metadata": {
        "id": "78iEb3fagUqg"
      },
      "source": [
        "#### Plot Peristimulus histograms for the different choices"
      ]
    },
    {
      "cell_type": "code",
      "execution_count": null,
      "metadata": {
        "colab": {
          "base_uri": "https://localhost:8080/",
          "height": 1000
        },
        "id": "nGqFPXUoRgm6",
        "outputId": "0892bce5-e128-4ea0-fa54-cfb4066eb8f0"
      },
      "outputs": [
        {
          "ename": "",
          "evalue": "",
          "output_type": "error",
          "traceback": [
            "\u001b[1;31mRunning cells with 'unity' requires the ipykernel package.\n",
            "\u001b[1;31mRun the following command to install 'ipykernel' into the Python environment. \n",
            "\u001b[1;31mCommand: 'conda install -n unity ipykernel --update-deps --force-reinstall'"
          ]
        }
      ],
      "source": [
        "def analysis_activity_by_condition(activity, info, config, conditions=['choice']):\n",
        "    \"\"\"\n",
        "    Plot single neuron activity by condition.\n",
        "    \"\"\"\n",
        "    for condition in conditions:\n",
        "        values = pd.unique(info[condition])\n",
        "        f, ax = plt.subplots(figsize=(10, 3), ncols=len(values), sharex=True, dpi=150)\n",
        "        t_plot = np.arange(activity.shape[1]) * config['dt']\n",
        "        for i_v, value in enumerate(values):\n",
        "            # INSTRUCTION 13: plot the average activity across neurons and trials for each condition\n",
        "            a = activity[info[condition] == value]\n",
        "            ax[i_v].imshow(a.mean(axis=0).T, aspect='auto', cmap='viridis')\n",
        "            ax[i_v].set_xlabel('Time (ms)')\n",
        "            ax[i_v].set_ylabel('Mean activity for ' + condition + ' = ' + str(value))\n",
        "            # change the xticks to show time in ms\n",
        "            ax[1].set_xticks(np.arange(0, activity.shape[1], 10))\n",
        "            ax[1].set_xticklabels(t_plot[::10])\n",
        "\n",
        "        # plt.legend(title=condition, loc='center left', bbox_to_anchor=(1.0, 0.5))\n",
        "\n",
        "analysis_activity_by_condition(minmax_activity, info, config, conditions=['choice']) # other conditions: correct, ground_truth"
      ]
    },
    {
      "cell_type": "markdown",
      "metadata": {
        "id": "ENSXBpeDgUqg"
      },
      "source": [
        "As you can see, there are neurons that are more active for one choice than for the other. And others are active for both, what do you think they are doing?"
      ]
    },
    {
      "cell_type": "markdown",
      "metadata": {
        "id": "8WZa-MLHgUqg"
      },
      "source": [
        "### 4.3. Stimulus and choice decoding from hidden unit activity\n",
        "\n",
        "We will now look at the information content in the hidden layers: How long does it take (after stimulus presentation) until the RNN represents stimuli reliably? We are going to use linear discriminant analysis (`sklda.LinearDiscriminantAnalysis`), which is a simple linear classifier.\n",
        "\n",
        "For each time bin, we will divide the `ntrials x nneurons` activity matrix, as well as the `ntrials` vector of labels (`info.ground_truth.values`) into a train and test set by calling `sklms.train_test_split()`. We will then fit LDA weights on the train set, and predict labels (left vs. right) from the test set activity to calculate the classification accuracy.\n",
        "\n",
        "Repeat that procedure for 100 train-test-splits to calculate the mean classification accuracy for each timepoint, as well as 95% confidence intervals over train-test-splits."
      ]
    },
    {
      "cell_type": "code",
      "execution_count": null,
      "metadata": {
        "id": "QmFcLIWagUqg",
        "outputId": "e8f85831-1511-45a8-906d-a0b920b31e67"
      },
      "outputs": [
        {
          "ename": "",
          "evalue": "",
          "output_type": "error",
          "traceback": [
            "\u001b[1;31mRunning cells with 'unity' requires the ipykernel package.\n",
            "\u001b[1;31mRun the following command to install 'ipykernel' into the Python environment. \n",
            "\u001b[1;31mCommand: 'conda install -n unity ipykernel --update-deps --force-reinstall'"
          ]
        }
      ],
      "source": [
        "import sklearn.model_selection as sklms\n",
        "import sklearn.discriminant_analysis as sklda"
      ]
    },
    {
      "cell_type": "code",
      "execution_count": null,
      "metadata": {
        "id": "1ViKv9vogUqh",
        "outputId": "2d379dc3-9f88-4ab7-9839-e10e090cda44"
      },
      "outputs": [
        {
          "ename": "",
          "evalue": "",
          "output_type": "error",
          "traceback": [
            "\u001b[1;31mRunning cells with 'unity' requires the ipykernel package.\n",
            "\u001b[1;31mRun the following command to install 'ipykernel' into the Python environment. \n",
            "\u001b[1;31mCommand: 'conda install -n unity ipykernel --update-deps --force-reinstall'"
          ]
        }
      ],
      "source": [
        "# number of CV splits\n",
        "n_splits = 100\n",
        "\n",
        "# set\n",
        "mean_acc = np.zeros([n_splits, minmax_activity.shape[1]]) * np.nan\n",
        "\n",
        "for i in range(n_splits):\n",
        "\n",
        "    # transpose tensor to be shape [trials, time, neurons]\n",
        "    for xi,x in enumerate(minmax_activity.transpose(1,0,2)):\n",
        "\n",
        "        # INSTRUCTION 14: split data into train and test sets using sklms.\n",
        "        x_train, x_test, y_train, y_test = sklms.train_test_split(x, info.ground_truth.values, random_state=i)\n",
        "\n",
        "        # INSTRUCTION 15: fit a linear discriminant analysis model to the training data using sklda\n",
        "        lda_fitted = sklda.LinearDiscriminantAnalysis(solver='lsqr').fit(X=x_train, y=y_train)\n",
        "\n",
        "        # INSTRUCTION 16: predict the labels for the test data\n",
        "        y_pred = lda_fitted.predict(x_test)\n",
        "\n",
        "        # INSTRUCTION 17: compute the accuracy of the model\n",
        "        correct = 1 - np.abs(y_pred - y_test)\n",
        "\n",
        "        mean_acc[i,xi] = correct.mean()"
      ]
    },
    {
      "cell_type": "code",
      "execution_count": null,
      "metadata": {
        "id": "g-mXNeOTgUqj",
        "outputId": "0755bc74-28fa-4a73-9ce0-bd4dbffcd68c"
      },
      "outputs": [
        {
          "ename": "",
          "evalue": "",
          "output_type": "error",
          "traceback": [
            "\u001b[1;31mRunning cells with 'unity' requires the ipykernel package.\n",
            "\u001b[1;31mRun the following command to install 'ipykernel' into the Python environment. \n",
            "\u001b[1;31mCommand: 'conda install -n unity ipykernel --update-deps --force-reinstall'"
          ]
        }
      ],
      "source": [
        "# calculate 95% CI\n",
        "ci_acc = np.percentile(mean_acc, [5,95], axis=0)"
      ]
    },
    {
      "cell_type": "markdown",
      "metadata": {
        "id": "56UZIyqkgUqj"
      },
      "source": [
        "Plot the classification accuracy (together with the 95% CI) over the course of time."
      ]
    },
    {
      "cell_type": "code",
      "execution_count": null,
      "metadata": {
        "id": "NGfTgkRJgUqj",
        "outputId": "94a7f08f-1b62-49f9-c3d5-18e9bd324f2e"
      },
      "outputs": [
        {
          "ename": "",
          "evalue": "",
          "output_type": "error",
          "traceback": [
            "\u001b[1;31mRunning cells with 'unity' requires the ipykernel package.\n",
            "\u001b[1;31mRun the following command to install 'ipykernel' into the Python environment. \n",
            "\u001b[1;31mCommand: 'conda install -n unity ipykernel --update-deps --force-reinstall'"
          ]
        }
      ],
      "source": [
        "# for plotting: time axis, stim and resp times\n",
        "t_plot = np.arange(activity.shape[1]) * config['dt']\n",
        "stim_onset = t_plot[np.where(obs[0,:,1]!=0)[0][0]]\n",
        "resp_onset= t_plot[np.where(obs[0,:,0]!=1)[0][0]]\n",
        "\n",
        "# plot linear classification accuracy\n",
        "plt.figure(figsize=(4,3), dpi=150)\n",
        "plt.plot(t_plot, np.zeros(mean_acc.shape[1])+.5, 'k--', alpha=.2)\n",
        "plt.plot(stim_onset, .48, '^', color = 'r', ms=10)\n",
        "plt.plot(resp_onset, .48, '^', color='b', ms=10)\n",
        "plt.plot(t_plot, np.mean(mean_acc, axis=0), 'k')\n",
        "plt.fill_between(t_plot, ci_acc[0], ci_acc[1], color='k', alpha=.2)\n",
        "plt.ylabel('classification accuracy')\n",
        "plt.xlabel('time')\n",
        "plt.xlim(t_plot[0],t_plot[-1])"
      ]
    },
    {
      "cell_type": "markdown",
      "metadata": {
        "id": "-keqgg8ygUqj"
      },
      "source": [
        "We can see that before stimulus presentation, classification accuracy is at chance. In contrast, information about the stimulus rises quickly after.\n",
        "\n",
        "Will these network dynamics look different for stimuli of different coherence levels? Repeat the same analysis for each level of coherence (`info.coh.values`) and plot the mean accuracy with the pre-specified color gradient. To keep the plot clean, skip confidence intervals."
      ]
    },
    {
      "cell_type": "code",
      "execution_count": null,
      "metadata": {
        "id": "-WM0vIOkgUqk",
        "outputId": "8b7fb8e3-27de-43ee-ba4b-128e309bda79"
      },
      "outputs": [
        {
          "ename": "",
          "evalue": "",
          "output_type": "error",
          "traceback": [
            "\u001b[1;31mRunning cells with 'unity' requires the ipykernel package.\n",
            "\u001b[1;31mRun the following command to install 'ipykernel' into the Python environment. \n",
            "\u001b[1;31mCommand: 'conda install -n unity ipykernel --update-deps --force-reinstall'"
          ]
        }
      ],
      "source": [
        "mean_acc = np.zeros([len(np.unique(info.coh.values)), n_splits, minmax_activity.shape[1]])\n",
        "\n",
        "for ci,c in enumerate(np.unique(info.coh.values)):\n",
        "\n",
        "    # INSTRUCTION 18: get the indices of the trials with the current coherence\n",
        "    cidx = np.where(info.coh.values==c)\n",
        "\n",
        "    for i in range(n_splits):\n",
        "\n",
        "        # transpose tensor to be shape [trials, time, neurons]\n",
        "        for xi,x in enumerate(minmax_activity[cidx].transpose(1,0,2)):\n",
        "\n",
        "            # train-test-split\n",
        "            x_train, x_test, y_train, y_test = sklms.train_test_split(x, info.ground_truth.values[cidx], random_state=i)\n",
        "\n",
        "            # fit to train data\n",
        "            lda_fitted = sklda.LinearDiscriminantAnalysis(solver='lsqr').fit(X=x_train, y=y_train)\n",
        "\n",
        "            # predict test set labels\n",
        "            y_pred = lda_fitted.predict(x_test)\n",
        "\n",
        "            # is the response correct for each trial?\n",
        "            correct = 1 - np.abs(y_pred - y_test)\n",
        "\n",
        "            mean_acc[ci,i,xi] = correct.mean()"
      ]
    },
    {
      "cell_type": "code",
      "execution_count": null,
      "metadata": {
        "id": "GHWItUxvgUqk",
        "outputId": "44940519-5c99-437e-cf2f-d0c7fb43bdaa"
      },
      "outputs": [
        {
          "ename": "",
          "evalue": "",
          "output_type": "error",
          "traceback": [
            "\u001b[1;31mRunning cells with 'unity' requires the ipykernel package.\n",
            "\u001b[1;31mRun the following command to install 'ipykernel' into the Python environment. \n",
            "\u001b[1;31mCommand: 'conda install -n unity ipykernel --update-deps --force-reinstall'"
          ]
        }
      ],
      "source": [
        "# colors corresponding to different values of color gradient\n",
        "colors = plt.get_cmap('magma')(np.linspace(0.1,.9, len(np.unique(info.coh.values))))\n",
        "\n",
        "# plot linear classification accuracy\n",
        "plt.figure(figsize=(4,3), dpi=120)\n",
        "\n",
        "# plot mean acc for each coherence level\n",
        "for ci in range(len(np.unique(info.coh.values))):\n",
        "    plt.plot(t_plot, np.mean(mean_acc[ci], axis=0), color=colors[ci], label=np.unique(info.coh.values)[ci])\n",
        "\n",
        "plt.plot(t_plot, np.zeros(mean_acc[ci].shape[1])+.5, 'k--', alpha=.2)\n",
        "plt.plot(stim_onset, .48, '^', color = 'k', ms=10)\n",
        "plt.plot(resp_onset, .48, '^', color='k', ms=10)\n",
        "plt.ylabel('classification accuracy')\n",
        "plt.xlabel('time')\n",
        "plt.xlim(t_plot[0], t_plot[-1])\n",
        "plt.legend(frameon=False)"
      ]
    }
  ],
  "metadata": {
    "colab": {
      "provenance": []
    },
    "kernelspec": {
      "display_name": "Python 3 (ipykernel)",
      "language": "python",
      "name": "python3"
    },
    "language_info": {
      "codemirror_mode": {
        "name": "ipython",
        "version": 3
      },
      "file_extension": ".py",
      "mimetype": "text/x-python",
      "name": "python",
      "nbconvert_exporter": "python",
      "pygments_lexer": "ipython3",
      "version": "3.11.4"
    }
  },
  "nbformat": 4,
  "nbformat_minor": 0
}
