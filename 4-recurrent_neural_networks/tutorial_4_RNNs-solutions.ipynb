{
  "cells": [
    {
      "attachments": {},
      "cell_type": "markdown",
      "metadata": {
        "id": "HR0Ss_uQRgmu"
      },
      "source": [
        "[![Open In Colab](https://colab.research.google.com/assets/colab-badge.svg)](https://colab.research.google.com/github/neurogym/ngym_usage/blob/master/supervised/auto_notebooks/supervised/PerceptualDecisionMaking-v0.ipynb)"
      ]
    },
    {
      "attachments": {},
      "cell_type": "markdown",
      "metadata": {
        "id": "nkSBo1a7Rgmy"
      },
      "source": [
        "### Training a Recurrent Neural Network"
      ]
    },
    {
      "attachments": {},
      "cell_type": "markdown",
      "metadata": {},
      "source": [
        "In this tutorial, we will train a Recurrent Neural Network (RNN) on a two-alternative forced choice task in which the network must integrate two stimuli to decide which one is higher on average."
      ]
    },
    {
      "attachments": {},
      "cell_type": "markdown",
      "metadata": {},
      "source": [
        "### Install Neurogym"
      ]
    },
    {
      "attachments": {},
      "cell_type": "markdown",
      "metadata": {},
      "source": [
        "We will use the toolbox [**Neurogym**](https://github.com/neurogym/neurogym/) to define the tasks that our RNNs will have to learn. \n",
        "**NeuroGym** is a curated collection of neuroscience tasks with a common interface whose main goal is to facilitate training of neural network models on neuroscience tasks."
      ]
    },
    {
      "cell_type": "code",
      "execution_count": 96,
      "metadata": {
        "colab": {
          "base_uri": "https://localhost:8080/"
        },
        "id": "_wnFMsN7Rgmy",
        "outputId": "158ac108-a83a-4e35-cc13-b683443439d3"
      },
      "outputs": [],
      "source": [
        "# Uncomment following lines to install\n",
        "# ! pip install gym   # Install gym\n",
        "# ! git clone https://github.com/gyyang/neurogym.git  # Install neurogym\n",
        "# %cd neurogym/\n",
        "# ! pip install -e ."
      ]
    },
    {
      "attachments": {},
      "cell_type": "markdown",
      "metadata": {
        "id": "XCv_jh_0Rgmz"
      },
      "source": [
        "### Imports"
      ]
    },
    {
      "attachments": {},
      "cell_type": "markdown",
      "metadata": {},
      "source": [
        "Import the packages we need for training and analyzing the RNNs. Especially, we will use the toolbox [pytorch](https://pytorch.org/) to define and train the networks."
      ]
    },
    {
      "cell_type": "code",
      "execution_count": 97,
      "metadata": {
        "id": "Kof72wUxRgm0"
      },
      "outputs": [],
      "source": [
        "# packages to save data\n",
        "import os\n",
        "from pathlib import Path\n",
        "import json\n",
        "# packages to handle data\n",
        "import numpy as np\n",
        "import pandas as pd\n",
        "from sklearn.decomposition import PCA\n",
        "# packages to visualize data\n",
        "import matplotlib.pyplot as plt\n",
        "\n",
        "# import torch and neural network modules to build RNNs\n",
        "import torch\n",
        "import torch.nn as nn\n",
        "\n",
        "# import gym and neurogym to create tasks\n",
        "import gym\n",
        "import neurogym as ngym\n",
        "\n",
        "# check if GPU is available\n",
        "device = 'cuda' if torch.cuda.is_available() else 'cpu'\n",
        "\n",
        "# name of the task on the neurogym library\n",
        "envid = 'PerceptualDecisionMaking-v0'"
      ]
    },
    {
      "attachments": {},
      "cell_type": "markdown",
      "metadata": {},
      "source": [
        "### Auxiliary functions"
      ]
    },
    {
      "attachments": {},
      "cell_type": "markdown",
      "metadata": {},
      "source": [
        "We need to create a path to save the data from the network that we will analize."
      ]
    },
    {
      "cell_type": "code",
      "execution_count": 98,
      "metadata": {
        "id": "Zt9f-MqxRgm0"
      },
      "outputs": [],
      "source": [
        "def get_modelpath(envid):\n",
        "    # Make a local file directories\n",
        "    path = Path('.') / 'files'\n",
        "    os.makedirs(path, exist_ok=True)\n",
        "    path = path / envid\n",
        "    os.makedirs(path, exist_ok=True)\n",
        "    return path"
      ]
    },
    {
      "attachments": {},
      "cell_type": "markdown",
      "metadata": {},
      "source": [
        "And a function to infer the periods of the task"
      ]
    },
    {
      "cell_type": "code",
      "execution_count": 99,
      "metadata": {},
      "outputs": [],
      "source": [
        "def infer_test_timing(env):\n",
        "    \"\"\"Infer timing of environment for testing.\"\"\"\n",
        "    timing = {}\n",
        "    for period in env.timing.keys():\n",
        "        period_times = [env.sample_time(period) for _ in range(100)]\n",
        "        timing[period] = np.median(period_times)\n",
        "    return timing"
      ]
    },
    {
      "attachments": {},
      "cell_type": "markdown",
      "metadata": {},
      "source": [
        "### Training parameters"
      ]
    },
    {
      "cell_type": "code",
      "execution_count": 100,
      "metadata": {},
      "outputs": [],
      "source": [
        "# Set up config:\n",
        "# dt: time step in ms\n",
        "# batch_size: number of trials per batch\n",
        "# lr: learning rate\n",
        "# seq_len: number of time steps for the gradient update\n",
        "training_kwargs = {'dt': 100, 'lr': 1e-2, 'batch_size': 16,\n",
        "                   'seq_len': 100, 'envid': envid}"
      ]
    },
    {
      "attachments": {},
      "cell_type": "markdown",
      "metadata": {},
      "source": [
        "### Task's parameters"
      ]
    },
    {
      "cell_type": "code",
      "execution_count": 101,
      "metadata": {},
      "outputs": [],
      "source": [
        "# Set up task parameters\n",
        "# timing: duration of each trial period in ms\n",
        "# rewards: reward values for correct, abort (fixation break), and fail trials\n",
        "# sigma: standard deviation of the Gaussian noise\n",
        "# dim_ring: number of stimuli / choices\n",
        "env_kwargs = {'dt': training_kwargs['dt'],\n",
        "              'timing': {'fixation': 100, 'stimulus': 2000, 'delay': 200, 'decision': 200},\n",
        "              'rewards': {'abort': -0.1, 'correct': +1., 'fail': 0.},\n",
        "              'sigma': 1.0,\n",
        "              'dim_ring': 2}\n",
        "# Make supervised dataset using neurogym's Dataset class\n",
        "dataset = ngym.Dataset(envid, env_kwargs=env_kwargs, batch_size=training_kwargs['batch_size'],\n",
        "                       seq_len=training_kwargs['seq_len'])\n",
        "env = dataset.env"
      ]
    },
    {
      "attachments": {},
      "cell_type": "markdown",
      "metadata": {},
      "source": [
        "### Define network"
      ]
    },
    {
      "cell_type": "code",
      "execution_count": 102,
      "metadata": {},
      "outputs": [],
      "source": [
        "class Net(nn.Module):\n",
        "    def __init__(self, input_size, hidden_size, output_size):\n",
        "        super(Net, self).__init__()\n",
        "        # INSTRUCTION 1: build a recurrent neural network with a single recurrent layer\n",
        "        self.vanilla = nn.RNN(input_size, hidden_size)\n",
        "        self.linear = nn.Linear(hidden_size, output_size)\n",
        "\n",
        "    def forward(self, x):\n",
        "        # INSTRUCTION 2: get the output of the network for a given input\n",
        "        out, _ = self.vanilla(x)\n",
        "        x = self.linear(out)\n",
        "        return x, out\n"
      ]
    },
    {
      "attachments": {},
      "cell_type": "markdown",
      "metadata": {},
      "source": [
        "##### Network's parameters"
      ]
    },
    {
      "cell_type": "code",
      "execution_count": 103,
      "metadata": {},
      "outputs": [],
      "source": [
        "# Get path to save model data\n",
        "modelpath = get_modelpath(envid)\n",
        "# Set up config:\n",
        "act_size = env.action_space.n\n",
        "net_kwargs = {'hidden_size': 64,\n",
        "              'action_size': act_size,\n",
        "              'input_size': env.observation_space.shape[0]}\n",
        "# Define network\n",
        "net = Net(input_size=env.observation_space.shape[0],\n",
        "          hidden_size=net_kwargs['hidden_size'],\n",
        "          output_size=act_size)\n",
        "net = net.to(device)\n",
        "criterion = nn.CrossEntropyLoss()\n",
        "optimizer = torch.optim.Adam(net.parameters(), lr=training_kwargs['lr'])"
      ]
    },
    {
      "attachments": {},
      "cell_type": "markdown",
      "metadata": {},
      "source": [
        "### Save config"
      ]
    },
    {
      "cell_type": "code",
      "execution_count": 104,
      "metadata": {},
      "outputs": [],
      "source": [
        "training_kwargs['env_kwargs'] = env_kwargs\n",
        "training_kwargs['net_kwargs'] = net_kwargs\n",
        "\n",
        "# Save config\n",
        "with open(modelpath / 'config.json', 'w') as f:\n",
        "    json.dump(training_kwargs, f)"
      ]
    },
    {
      "attachments": {},
      "cell_type": "markdown",
      "metadata": {
        "id": "IP_bEakSRgm2"
      },
      "source": [
        "### Supervised training of network"
      ]
    },
    {
      "attachments": {},
      "cell_type": "markdown",
      "metadata": {},
      "source": [
        "[Explanation of training](https://pytorch.org/tutorials/beginner/blitz/neural_networks_tutorial.html#define-the-network).\n",
        "\n",
        "[Clarifications regarding zero_grad](https://discuss.pytorch.org/t/model-zero-grad-or-optimizer-zero-grad/28426).\n",
        "\n",
        "[Clarifications regarding why we can make a forward pass calling net](https://discuss.pytorch.org/t/about-the-nn-module-forward/20858)."
      ]
    },
    {
      "cell_type": "code",
      "execution_count": 105,
      "metadata": {
        "colab": {
          "base_uri": "https://localhost:8080/"
        },
        "id": "KoNxNIAyRgm3",
        "outputId": "0e1fdba0-6c9f-4c62-da1a-01c31af693a7"
      },
      "outputs": [
        {
          "name": "stdout",
          "output_type": "stream",
          "text": [
            "Training task  PerceptualDecisionMaking-v0\n",
            "200 loss: 0.17412\n",
            "400 loss: 0.05670\n",
            "600 loss: 0.05535\n",
            "800 loss: 0.04019\n",
            "1000 loss: 0.03448\n",
            "1200 loss: 0.03066\n",
            "1400 loss: 0.03146\n",
            "1600 loss: 0.03066\n",
            "1800 loss: 0.03208\n",
            "2000 loss: 0.03313\n",
            "Finished Training\n"
          ]
        }
      ],
      "source": [
        "\n",
        "print('Training task ', envid)\n",
        "num_epochs = 2000\n",
        "running_loss = 0.0\n",
        "for i in range(num_epochs):\n",
        "    # get inputs and labels\n",
        "    inputs, labels = dataset()\n",
        "    inputs = torch.from_numpy(inputs).type(torch.float).to(device)\n",
        "    labels = torch.from_numpy(labels.flatten()).type(torch.long).to(device)\n",
        "\n",
        "    # zero the parameter gradients to avoid they accumulate\n",
        "    optimizer.zero_grad()\n",
        "\n",
        "    # INSTRUCTION 3: get the output of the network for a given input\n",
        "    outputs, _ = net(inputs)\n",
        "    #reshape outputs\n",
        "    outputs = outputs.view(-1, act_size)\n",
        "    #  INSTRUCTION 4: compute loss with respect to the labels\n",
        "    loss = criterion(outputs, labels)\n",
        "    # INSTRUCTION 5: compute gradients\n",
        "    loss.backward()\n",
        "    # INSTRUCTION 6: update weights\n",
        "    optimizer.step()\n",
        "\n",
        "    # print statistics\n",
        "    running_loss += loss.item()\n",
        "    if i % 200 == 199:\n",
        "        print('{:d} loss: {:0.5f}'.format(i + 1, running_loss / 200))\n",
        "        running_loss = 0.0\n",
        "        # save current state of network's parameters\n",
        "        torch.save(net.state_dict(), modelpath / 'net.pth')\n",
        "\n",
        "print('Finished Training')"
      ]
    },
    {
      "attachments": {},
      "cell_type": "markdown",
      "metadata": {
        "id": "RweGGCYQRgm4"
      },
      "source": [
        "### Run network after training for analysis"
      ]
    },
    {
      "cell_type": "code",
      "execution_count": 106,
      "metadata": {
        "colab": {
          "base_uri": "https://localhost:8080/"
        },
        "id": "53ea3YbIRgm4",
        "outputId": "01564780-d083-4e81-cbd1-41a15661b809"
      },
      "outputs": [
        {
          "name": "stdout",
          "output_type": "stream",
          "text": [
            "Average performance 0.9\n"
          ]
        }
      ],
      "source": [
        "modelpath = get_modelpath(envid)\n",
        "with open(modelpath / 'config.json') as f:\n",
        "    config = json.load(f)\n",
        "\n",
        "env_kwargs = config['env_kwargs']\n",
        "net_kwargs = config['net_kwargs']\n",
        "# Run network to get activity and info\n",
        "# Environment\n",
        "env = gym.make(envid, **env_kwargs)\n",
        "env.timing = infer_test_timing(env)\n",
        "env.reset(no_step=True)\n",
        "\n",
        "# Instantiate the network and print information\n",
        "with torch.no_grad():\n",
        "    net = Net(input_size=env.observation_space.shape[0],\n",
        "              hidden_size=net_kwargs['hidden_size'],\n",
        "              output_size=env.action_space.n)\n",
        "    net = net.to(device)\n",
        "    net.load_state_dict(torch.load(modelpath / 'net.pth'))\n",
        "\n",
        "    perf = 0\n",
        "    num_trial = 100\n",
        "\n",
        "    activity = list()\n",
        "    info = pd.DataFrame()\n",
        "\n",
        "    for i in range(num_trial):\n",
        "        env.new_trial()\n",
        "        ob, gt = env.ob, env.gt\n",
        "        inputs = torch.from_numpy(ob[:, np.newaxis, :]).type(torch.float)\n",
        "        action_pred, hidden = net(inputs)\n",
        "\n",
        "        # Compute performance\n",
        "        action_pred = action_pred.detach().numpy()\n",
        "        choice = np.argmax(action_pred[-1, 0, :])\n",
        "        correct = choice == gt[-1]\n",
        "\n",
        "        # Log trial info\n",
        "        trial_info = env.trial\n",
        "        trial_info.update({'correct': correct, 'choice': choice})\n",
        "        info = info.append(trial_info, ignore_index=True)\n",
        "\n",
        "        # Log stimulus period activity\n",
        "        activity.append(np.array(hidden)[:, 0, :])\n",
        "\n",
        "    print('Average performance', np.mean(info['correct']))\n",
        "\n",
        "activity = np.array(activity)\n"
      ]
    },
    {
      "attachments": {},
      "cell_type": "markdown",
      "metadata": {
        "id": "_9lkm4_cRgm5"
      },
      "source": [
        "### General analysis"
      ]
    },
    {
      "cell_type": "code",
      "execution_count": 107,
      "metadata": {
        "colab": {
          "base_uri": "https://localhost:8080/",
          "height": 614
        },
        "id": "gX9BXzCeRgm5",
        "outputId": "1d98c5f9-22e3-49e8-cf99-9ba70b2a9d4e"
      },
      "outputs": [
        {
          "data": {
            "image/png": "[encoded data removed]",
            "text/plain": [
              "<Figure size 86.4x57.6 with 1 Axes>"
            ]
          },
          "metadata": {
            "needs_background": "light"
          },
          "output_type": "display_data"
        }
      ],
      "source": [
        "def analysis_average_activity(activity, info, config):\n",
        "    # Load and preprocess results\n",
        "    plt.figure(figsize=(1.2, 0.8))\n",
        "    t_plot = np.arange(activity.shape[1]) * config['dt']\n",
        "    plt.plot(t_plot, activity.mean(axis=0).mean(axis=-1))\n",
        "\n",
        "analysis_average_activity(activity, info, config)"
      ]
    },
    {
      "cell_type": "code",
      "execution_count": 108,
      "metadata": {
        "id": "ciBoJRORRgm6"
      },
      "outputs": [],
      "source": [
        "def get_conditions(info):\n",
        "    \"\"\"Get a list of task conditions to plot.\"\"\"\n",
        "    conditions = info.columns\n",
        "    # This condition's unique value should be less than 5\n",
        "    new_conditions = list()\n",
        "    for c in conditions:\n",
        "        try:\n",
        "            n_cond = len(pd.unique(info[c]))\n",
        "            if 1 < n_cond < 5:\n",
        "                new_conditions.append(c)\n",
        "        except TypeError:\n",
        "            pass\n",
        "\n",
        "    return new_conditions\n"
      ]
    },
    {
      "cell_type": "code",
      "execution_count": 109,
      "metadata": {
        "colab": {
          "base_uri": "https://localhost:8080/",
          "height": 1000
        },
        "id": "nGqFPXUoRgm6",
        "outputId": "0892bce5-e128-4ea0-fa54-cfb4066eb8f0"
      },
      "outputs": [
        {
          "data": {
            "image/png": "[encoded data removed]",
            "text/plain": [
              "<Figure size 86.4x57.6 with 1 Axes>"
            ]
          },
          "metadata": {
            "needs_background": "light"
          },
          "output_type": "display_data"
        },
        {
          "data": {
            "image/png": "[encoded data removed]",
            "text/plain": [
              "<Figure size 86.4x57.6 with 1 Axes>"
            ]
          },
          "metadata": {
            "needs_background": "light"
          },
          "output_type": "display_data"
        },
        {
          "data": {
            "image/png": "[encoded data removed]",
            "text/plain": [
              "<Figure size 86.4x57.6 with 1 Axes>"
            ]
          },
          "metadata": {
            "needs_background": "light"
          },
          "output_type": "display_data"
        }
      ],
      "source": [
        "def analysis_activity_by_condition(activity, info, config):\n",
        "    conditions = get_conditions(info)\n",
        "    for condition in conditions:\n",
        "        values = pd.unique(info[condition])\n",
        "        plt.figure(figsize=(1.2, 0.8))\n",
        "        t_plot = np.arange(activity.shape[1]) * config['dt']\n",
        "        for value in values:\n",
        "            a = activity[info[condition] == value]\n",
        "            plt.plot(t_plot, a.mean(axis=0).mean(axis=-1), label=str(value))\n",
        "        plt.legend(title=condition, loc='center left', bbox_to_anchor=(1.0, 0.5))\n",
        "\n",
        "analysis_activity_by_condition(activity, info, config)"
      ]
    },
    {
      "cell_type": "code",
      "execution_count": 110,
      "metadata": {
        "colab": {
          "base_uri": "https://localhost:8080/",
          "height": 1000
        },
        "id": "9ir0wRLkRgm6",
        "outputId": "df30e2b2-ad17-401a-9640-e7b1031d8f7f"
      },
      "outputs": [
        {
          "data": {
            "image/png": "[encoded data removed]",
            "text/plain": [
              "<Figure size 86.4x172.8 with 3 Axes>"
            ]
          },
          "metadata": {
            "needs_background": "light"
          },
          "output_type": "display_data"
        },
        {
          "data": {
            "image/png": "[encoded data removed]",
            "text/plain": [
              "<Figure size 86.4x172.8 with 3 Axes>"
            ]
          },
          "metadata": {
            "needs_background": "light"
          },
          "output_type": "display_data"
        }
      ],
      "source": [
        "def analysis_example_units_by_condition(activity, info, config):\n",
        "    conditions = get_conditions(info)\n",
        "    if len(conditions) < 1:\n",
        "        return\n",
        "\n",
        "    example_ids = np.array([0, 1])\n",
        "    for example_id in example_ids:\n",
        "        example_activity = activity[:, :, example_id]\n",
        "        fig, axes = plt.subplots(\n",
        "                len(conditions), 1,  figsize=(1.2, 0.8 * len(conditions)),\n",
        "                sharex=True)\n",
        "        for i, condition in enumerate(conditions):\n",
        "            ax = axes[i]\n",
        "            values = pd.unique(info[condition])\n",
        "            t_plot = np.arange(activity.shape[1]) * config['dt']\n",
        "            for value in values:\n",
        "                a = example_activity[info[condition] == value]\n",
        "                ax.plot(t_plot, a.mean(axis=0), label=str(value))\n",
        "            ax.legend(title=condition, loc='center left', bbox_to_anchor=(1.0, 0.5))\n",
        "            ax.set_ylabel('Activity')\n",
        "            if i == len(conditions) - 1:\n",
        "                ax.set_xlabel('Time (ms)')\n",
        "            if i == 0:\n",
        "                ax.set_title('Unit {:d}'.format(example_id + 1))\n",
        "\n",
        "analysis_example_units_by_condition(activity, info, config)"
      ]
    },
    {
      "cell_type": "code",
      "execution_count": 111,
      "metadata": {
        "colab": {
          "base_uri": "https://localhost:8080/",
          "height": 1000
        },
        "id": "tKkIPrv4Rgm7",
        "outputId": "128f4ba1-2a09-47a0-c510-6e57f9a215ea"
      },
      "outputs": [
        {
          "data": {
            "image/png": "[encoded data removed]",
            "text/plain": [
              "<Figure size 180x180 with 1 Axes>"
            ]
          },
          "metadata": {
            "needs_background": "light"
          },
          "output_type": "display_data"
        },
        {
          "data": {
            "image/png": "[encoded data removed]",
            "text/plain": [
              "<Figure size 180x180 with 1 Axes>"
            ]
          },
          "metadata": {
            "needs_background": "light"
          },
          "output_type": "display_data"
        },
        {
          "data": {
            "image/png": "[encoded data removed]",
            "text/plain": [
              "<Figure size 180x180 with 1 Axes>"
            ]
          },
          "metadata": {
            "needs_background": "light"
          },
          "output_type": "display_data"
        }
      ],
      "source": [
        "def analysis_pca_by_condition(activity, info, config):\n",
        "    # Reshape activity to (N_trial x N_time, N_neuron)\n",
        "    activity_reshape = np.reshape(activity, (-1, activity.shape[-1]))\n",
        "    pca = PCA(n_components=2)\n",
        "    pca.fit(activity_reshape)\n",
        "\n",
        "    conditions = get_conditions(info)\n",
        "    for condition in conditions:\n",
        "        values = pd.unique(info[condition])\n",
        "        fig = plt.figure(figsize=(2.5, 2.5))\n",
        "        ax = fig.add_axes([0.2, 0.2, 0.7, 0.7])\n",
        "        for value in values:\n",
        "            # Get relevant trials, and average across them\n",
        "            a = activity[info[condition] == value].mean(axis=0)\n",
        "            a = pca.transform(a)  # (N_time, N_PC)\n",
        "            plt.plot(a[:, 0], a[:, 1], label=str(value))\n",
        "        plt.legend(title=condition, loc='center left', bbox_to_anchor=(1.0, 0.5))\n",
        "\n",
        "        plt.xlabel('PC 1')\n",
        "        plt.ylabel('PC 2')\n",
        "\n",
        "analysis_pca_by_condition(activity, info, config)"
      ]
    }
  ],
  "metadata": {
    "colab": {
      "provenance": []
    },
    "kernelspec": {
      "display_name": "Python 3",
      "name": "python3"
    },
    "language_info": {
      "codemirror_mode": {
        "name": "ipython",
        "version": 3
      },
      "file_extension": ".py",
      "mimetype": "text/x-python",
      "name": "python",
      "nbconvert_exporter": "python",
      "pygments_lexer": "ipython3",
      "version": "3.7.4"
    }
  },
  "nbformat": 4,
  "nbformat_minor": 0
}
