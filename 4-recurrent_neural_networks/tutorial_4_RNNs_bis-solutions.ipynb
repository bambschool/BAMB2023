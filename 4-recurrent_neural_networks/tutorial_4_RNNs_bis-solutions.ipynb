{
  "cells": [
    {
      "cell_type": "markdown",
      "metadata": {
        "id": "HR0Ss_uQRgmu"
      },
      "source": [
        "[![Open In Colab](https://colab.research.google.com/assets/colab-badge.svg)](https://colab.research.google.com/github/neurogym/ngym_usage/blob/master/supervised/auto_notebooks/supervised/PerceptualDecisionMaking-v0.ipynb)"
      ]
    },
    {
      "cell_type": "markdown",
      "metadata": {
        "id": "nkSBo1a7Rgmy"
      },
      "source": [
        "# Recurrent Neural Networks"
      ]
    },
    {
      "cell_type": "markdown",
      "metadata": {
        "id": "My1AdmUfgUqE"
      },
      "source": [
        "Index:\n",
        "\n",
        "- Installs, packages, auxiliary functions.\n",
        "- Preparing for the training:\n",
        "- Supervised training of the RNN.\n",
        "- Network analysis:\n",
        "    - Behavioral analysis."
      ]
    },
    {
      "cell_type": "markdown",
      "metadata": {
        "id": "vSkRbuZvgUqF"
      },
      "source": [
        "## 0. Installs, packages, auxiliary functions\n",
        "\n",
        "### 0.1. Helper functions\n",
        "\n",
        "We first download the helper modules from the [BAMB2024 Github repository](https://github.com/bambschool/BAMB2024). Just execute the code in the cells below and see if it populates the modules locally and ensure that there are no installation errors.\n"
      ]
    },
    {
      "cell_type": "code",
      "execution_count": 1,
      "metadata": {
        "colab": {
          "base_uri": "https://localhost:8080/"
        },
        "id": "ebGRanfGgUqG",
        "outputId": "014619e1-e248-4f97-bf73-5f430d06b5e1"
      },
      "outputs": [
        {
          "name": "stdout",
          "output_type": "stream",
          "text": [
            "total 16\n",
            "-rw-r--r-- 1 root root 5910 Jul 21 09:02 data.py\n",
            "-rw-r--r-- 1 root root  341 Jul 21 09:02 ops.py\n",
            "drwxr-xr-x 1 root root 4096 Jul 18 13:22 sample_data\n"
          ]
        }
      ],
      "source": [
        "# define the github path and authorization token\n",
        "RAW_GITHUB_PATH = 'https://raw.githubusercontent.com/bambschool/BAMB2023/main/4-recurrent_neural_networks/'\n",
        "\n",
        "# define the list of files to be downloaded\n",
        "files = ['data.py', 'ops.py']\n",
        "\n",
        "for file in files:\n",
        "    result = !wget -O {file} \"{RAW_GITHUB_PATH}{file}\"\n",
        "# List the files in the current directory to verify\n",
        "!ls -l"
      ]
    },
    {
      "cell_type": "markdown",
      "metadata": {
        "id": "0t3deMLagUqI"
      },
      "source": [
        "### 0.2. Neurogym\n",
        "\n",
        "We will use the toolbox [**Neurogym**](https://github.com/neurogym/neurogym/) to define the tasks that our RNNs will have to learn.\n",
        "\n",
        "**NeuroGym** is a curated collection of neuroscience tasks with a common interface. It's main goal is to facilitate training of neural network models on neuroscience tasks."
      ]
    },
    {
      "cell_type": "code",
      "execution_count": 2,
      "metadata": {
        "colab": {
          "base_uri": "https://localhost:8080/"
        },
        "id": "xJTx7XvvgUqJ",
        "outputId": "742d92b2-bdca-48a7-f369-b88554026abd"
      },
      "outputs": [
        {
          "name": "stdout",
          "output_type": "stream",
          "text": [
            "Requirement already satisfied: gym in /usr/local/lib/python3.10/dist-packages (0.25.2)\n",
            "Requirement already satisfied: numpy>=1.18.0 in /usr/local/lib/python3.10/dist-packages (from gym) (1.25.2)\n",
            "Requirement already satisfied: cloudpickle>=1.2.0 in /usr/local/lib/python3.10/dist-packages (from gym) (2.2.1)\n",
            "Requirement already satisfied: gym-notices>=0.0.4 in /usr/local/lib/python3.10/dist-packages (from gym) (0.0.8)\n",
            "Cloning into 'neurogym'...\n",
            "remote: Enumerating objects: 11100, done.\u001b[K\n",
            "remote: Counting objects: 100% (273/273), done.\u001b[K\n",
            "remote: Compressing objects: 100% (112/112), done.\u001b[K\n",
            "remote: Total 11100 (delta 132), reused 222 (delta 108), pack-reused 10827\u001b[K\n",
            "Receiving objects: 100% (11100/11100), 8.20 MiB | 21.05 MiB/s, done.\n",
            "Resolving deltas: 100% (8318/8318), done.\n",
            "/content/neurogym\n",
            "Obtaining file:///content/neurogym\n",
            "  Preparing metadata (setup.py) ... \u001b[?25l\u001b[?25hdone\n",
            "Requirement already satisfied: numpy in /usr/local/lib/python3.10/dist-packages (from neurogym==0.0.2) (1.25.2)\n",
            "Collecting gym<0.25,>=0.20.0 (from neurogym==0.0.2)\n",
            "  Downloading gym-0.24.1.tar.gz (696 kB)\n",
            "\u001b[2K     \u001b[90m━━━━━━━━━━━━━━━━━━━━━━━━━━━━━━━━━━━━━━━━\u001b[0m \u001b[32m696.4/696.4 kB\u001b[0m \u001b[31m6.2 MB/s\u001b[0m eta \u001b[36m0:00:00\u001b[0m\n",
            "\u001b[?25h  Installing build dependencies ... \u001b[?25l\u001b[?25hdone\n",
            "  Getting requirements to build wheel ... \u001b[?25l\u001b[?25hdone\n",
            "  Preparing metadata (pyproject.toml) ... \u001b[?25l\u001b[?25hdone\n",
            "Requirement already satisfied: matplotlib in /usr/local/lib/python3.10/dist-packages (from neurogym==0.0.2) (3.7.1)\n",
            "Requirement already satisfied: cloudpickle>=1.2.0 in /usr/local/lib/python3.10/dist-packages (from gym<0.25,>=0.20.0->neurogym==0.0.2) (2.2.1)\n",
            "Requirement already satisfied: gym-notices>=0.0.4 in /usr/local/lib/python3.10/dist-packages (from gym<0.25,>=0.20.0->neurogym==0.0.2) (0.0.8)\n",
            "Requirement already satisfied: contourpy>=1.0.1 in /usr/local/lib/python3.10/dist-packages (from matplotlib->neurogym==0.0.2) (1.2.1)\n",
            "Requirement already satisfied: cycler>=0.10 in /usr/local/lib/python3.10/dist-packages (from matplotlib->neurogym==0.0.2) (0.12.1)\n",
            "Requirement already satisfied: fonttools>=4.22.0 in /usr/local/lib/python3.10/dist-packages (from matplotlib->neurogym==0.0.2) (4.53.1)\n",
            "Requirement already satisfied: kiwisolver>=1.0.1 in /usr/local/lib/python3.10/dist-packages (from matplotlib->neurogym==0.0.2) (1.4.5)\n",
            "Requirement already satisfied: packaging>=20.0 in /usr/local/lib/python3.10/dist-packages (from matplotlib->neurogym==0.0.2) (24.1)\n",
            "Requirement already satisfied: pillow>=6.2.0 in /usr/local/lib/python3.10/dist-packages (from matplotlib->neurogym==0.0.2) (9.4.0)\n",
            "Requirement already satisfied: pyparsing>=2.3.1 in /usr/local/lib/python3.10/dist-packages (from matplotlib->neurogym==0.0.2) (3.1.2)\n",
            "Requirement already satisfied: python-dateutil>=2.7 in /usr/local/lib/python3.10/dist-packages (from matplotlib->neurogym==0.0.2) (2.8.2)\n",
            "Requirement already satisfied: six>=1.5 in /usr/local/lib/python3.10/dist-packages (from python-dateutil>=2.7->matplotlib->neurogym==0.0.2) (1.16.0)\n",
            "Building wheels for collected packages: gym\n",
            "  Building wheel for gym (pyproject.toml) ... \u001b[?25l\u001b[?25hdone\n",
            "  Created wheel for gym: filename=gym-0.24.1-py3-none-any.whl size=793126 sha256=ed1f52a5ae3d0b078ff5aeed75478d99d45e3381f5958a480aa713b0ffe3a45e\n",
            "  Stored in directory: /root/.cache/pip/wheels/c4/fb/19/388995b88cb551717a8dff40c889172cd12fadf994216a0a22\n",
            "Successfully built gym\n",
            "Installing collected packages: gym, neurogym\n",
            "  Attempting uninstall: gym\n",
            "    Found existing installation: gym 0.25.2\n",
            "    Uninstalling gym-0.25.2:\n",
            "      Successfully uninstalled gym-0.25.2\n",
            "  Running setup.py develop for neurogym\n",
            "Successfully installed gym-0.24.1 neurogym-0.0.2\n"
          ]
        }
      ],
      "source": [
        "\n",
        "# Uncomment following lines to install\n",
        "! pip install gym   # Install gym\n",
        "! git clone https://github.com/gyyang/neurogym.git  # Install neurogym\n",
        "%cd neurogym/\n",
        "! pip install -e ."
      ]
    },
    {
      "cell_type": "markdown",
      "metadata": {
        "id": "osuObJRvgUqJ"
      },
      "source": [
        "<p align=\"center\">\n",
        "<img src=\"https://drive.google.com/uc?export=view&id=1Suk5bvKiFqZCmIu4f1pWNghBxrznJ0U_\" alt=\"drawing\" width=\"1000\"/>\n",
        "</p>"
      ]
    },
    {
      "cell_type": "markdown",
      "metadata": {
        "id": "XCv_jh_0Rgmz"
      },
      "source": [
        "### 0.3. Imports"
      ]
    },
    {
      "cell_type": "markdown",
      "metadata": {
        "id": "OiO2HKsWgUqK"
      },
      "source": [
        "Import the packages we need for training and analyzing the RNNs. Especially, we will use the toolbox [pytorch](https://pytorch.org/) to define and train the networks."
      ]
    },
    {
      "cell_type": "code",
      "execution_count": 3,
      "metadata": {
        "colab": {
          "base_uri": "https://localhost:8080/"
        },
        "id": "Kof72wUxRgm0",
        "outputId": "9ad7c7da-1689-48b5-82bb-43dadd3cd6cc"
      },
      "outputs": [
        {
          "name": "stderr",
          "output_type": "stream",
          "text": [
            "Warning: Gym version v0.24.1 has a number of critical issues with `gym.make` such that environment observation and action spaces are incorrectly evaluated, raising incorrect errors and warning . It is recommend to downgrading to v0.23.1 or upgrading to v0.25.1\n",
            "/usr/local/lib/python3.10/dist-packages/gym/envs/registration.py:396: UserWarning: \u001b[33mWARN: The `registry.all` method is deprecated. Please use `registry.values` instead.\u001b[0m\n",
            "  logger.warn(\n"
          ]
        }
      ],
      "source": [
        "# packages to save data\n",
        "import os\n",
        "from pathlib import Path\n",
        "import json\n",
        "\n",
        "# packages to handle data\n",
        "import numpy as np\n",
        "import pandas as pd\n",
        "\n",
        "\n",
        "# packages to visualize data\n",
        "import matplotlib.pyplot as plt\n",
        "import matplotlib as mpl\n",
        "\n",
        "# import torch and neural network modules to build RNNs\n",
        "import torch\n",
        "import torch.nn as nn\n",
        "\n",
        "# import gym and neurogym to create tasks\n",
        "import gym\n",
        "import neurogym as ngym\n",
        "from neurogym.utils import plotting\n",
        "\n",
        "# import\n",
        "import data\n",
        "import ops"
      ]
    },
    {
      "cell_type": "markdown",
      "metadata": {
        "id": "aSetQGi2gUqM"
      },
      "source": [
        "## 1. Preparing for the training"
      ]
    },
    {
      "cell_type": "markdown",
      "metadata": {
        "id": "urF6MRnKgUqM"
      },
      "source": [
        "We will first set some parameters for the training.\n",
        "\n",
        "Then we will focus on the 3 important decisions one has to make before training the network:\n",
        "- Define the task.\n",
        "- Define the network.\n",
        "- Define the algorithm to train the network."
      ]
    },
    {
      "cell_type": "markdown",
      "metadata": {
        "id": "oJL3O5-bgUqM"
      },
      "source": [
        "### 1.1. Define the training parameters"
      ]
    },
    {
      "cell_type": "code",
      "execution_count": 4,
      "metadata": {
        "colab": {
          "base_uri": "https://localhost:8080/"
        },
        "id": "AXtQLATSgUqN",
        "outputId": "b2f5c2ba-3e06-4981-a774-9e11c8eef9bd"
      },
      "outputs": [
        {
          "name": "stderr",
          "output_type": "stream",
          "text": [
            "/usr/local/lib/python3.10/dist-packages/ipykernel/ipkernel.py:283: DeprecationWarning: `should_run_async` will not call `transform_cell` automatically in the future. Please pass the result to `transformed_cell` argument and any exception that happen during thetransform in `preprocessing_exc_tuple` in IPython 7.17 and above.\n",
            "  and should_run_async(code)\n"
          ]
        }
      ],
      "source": [
        "# check if GPU is available\n",
        "device = 'cuda' if torch.cuda.is_available() else 'cpu'\n",
        "\n",
        "# INSTRUCTION 19 (once you have finished the tutorial): Other tasks to try: 'DelayMatchSample-v0', 'GoNogo-v0', 'ContextDecisionMaking-v0'\n",
        "# Set up config:\n",
        "training_kwargs = {'dt': 100,\n",
        "                   'lr': 1e-2,\n",
        "                   'n_epochs': 8000,\n",
        "                   'batch_size': 16,\n",
        "                   'seq_len': 100}"
      ]
    },
    {
      "cell_type": "markdown",
      "metadata": {
        "id": "oQx5oWHegUqN"
      },
      "source": [
        "### 1.2. Define task"
      ]
    },
    {
      "cell_type": "code",
      "execution_count": 5,
      "metadata": {
        "id": "C5ibVrkogUqN"
      },
      "outputs": [],
      "source": [
        "# Set up task parameters\n",
        "envid = 'PerceptualDecisionMaking-v0' # name of the task on the neurogym library\n",
        "if envid == 'PerceptualDecisionMaking-v0':\n",
        "    env_kwargs = {'dt': training_kwargs['dt'],\n",
        "                'timing': {'fixation': 300,\n",
        "                            'stimulus': 500,\n",
        "                            'delay': 0,\n",
        "                            'decision': 100},\n",
        "                'sigma': 1,\n",
        "                'dim_ring': 2}\n",
        "    wrappers_kwargs = {'probs': [[0.8, 0.2], [0.2, 0.8]], 'block_dur': 50}\n",
        "else:\n",
        "    env_kwargs = {'dt': training_kwargs['dt']}"
      ]
    },
    {
      "cell_type": "markdown",
      "metadata": {
        "id": "Cdi4kgIYgUqO"
      },
      "source": [
        "#### 1.2.1. Sample dataset"
      ]
    },
    {
      "cell_type": "code",
      "execution_count": 6,
      "metadata": {
        "colab": {
          "base_uri": "https://localhost:8080/"
        },
        "id": "taONJq8AgUqO",
        "outputId": "512f1b22-4214-4f3b-acea-9650f6c96b07"
      },
      "outputs": [
        {
          "name": "stderr",
          "output_type": "stream",
          "text": [
            "/usr/local/lib/python3.10/dist-packages/gym/utils/passive_env_checker.py:69: UserWarning: \u001b[33mWARN: Agent's minimum action space value is -infinity. This is probably too low.\u001b[0m\n",
            "  logger.warn(\n",
            "/usr/local/lib/python3.10/dist-packages/gym/utils/passive_env_checker.py:73: UserWarning: \u001b[33mWARN: Agent's maximum action space value is infinity. This is probably too high\u001b[0m\n",
            "  logger.warn(\n",
            "/usr/local/lib/python3.10/dist-packages/gym/utils/passive_env_checker.py:97: UserWarning: \u001b[33mWARN: We recommend you to use a symmetric and normalized Box action space (range=[-1, 1]) https://stable-baselines3.readthedocs.io/en/master/guide/rl_tips.html\u001b[0m\n",
            "  logger.warn(\n"
          ]
        }
      ],
      "source": [
        "# call function to sample\n",
        "_, env = data.get_dataset(envid=envid, env_kwargs=env_kwargs, wrappers_kwargs=wrappers_kwargs, training_kwargs=training_kwargs)"
      ]
    },
    {
      "cell_type": "markdown",
      "metadata": {
        "id": "sGefh3mQNqjl"
      },
      "source": [
        "We now zoom out and plot the ground truth and the blocks, to see how the task is structured."
      ]
    },
    {
      "cell_type": "markdown",
      "metadata": {
        "id": "DkzsKoLkgUqR"
      },
      "source": [
        "### 1.3. Define network"
      ]
    },
    {
      "cell_type": "code",
      "execution_count": 10,
      "metadata": {
        "id": "wm4jLq8jgUqR"
      },
      "outputs": [],
      "source": [
        "# Set up config:\n",
        "num_neurons = 64\n",
        "\n",
        "net_kwargs = {'hidden_size': num_neurons,\n",
        "              'action_size': env.action_space.n,\n",
        "              'input_size': env.observation_space.shape[0]} # size of the input to the network\n",
        "# Define network instance\n",
        "net = ops.RLNet(input_size=env.observation_space.shape[0],\n",
        "                hidden_size=net_kwargs['hidden_size'],\n",
        "                output_size=env.action_space.n)\n",
        "# Faster alternative: import ops.efficieNet as Net and do net = Net(input_size=env.observation_space.shape[0],...\n",
        "# efficieNet is the same implementation as Net but using PyTorch's built-in RNN module\n",
        "# Move network to the device (CPU or GPU)\n",
        "net = net.to(device)"
      ]
    },
    {
      "cell_type": "markdown",
      "metadata": {
        "id": "ri29qL3xgUqS"
      },
      "source": [
        "### 1.4. Define the algorithm to train the network\n",
        "\n"
      ]
    },
    {
      "cell_type": "code",
      "execution_count": 13,
      "metadata": {
        "id": "g0nOOvoogUqT"
      },
      "outputs": [],
      "source": [
        "# Define loss: instance of the CrossEntropyLoss class\n",
        "criterion = nn.CrossEntropyLoss()\n",
        "\n",
        "# Define optimizer\n",
        "optimizer = torch.optim.Adam(net.parameters(), lr=training_kwargs['lr'])"
      ]
    },
    {
      "cell_type": "markdown",
      "metadata": {
        "id": "mO8il74MgUqT"
      },
      "source": [
        "### 1.5. Save config"
      ]
    },
    {
      "cell_type": "code",
      "execution_count": 14,
      "metadata": {
        "colab": {
          "base_uri": "https://localhost:8080/"
        },
        "id": "70R17uXlgUqT",
        "outputId": "734e674e-cc4b-44f8-e87f-585640007b92"
      },
      "outputs": [
        {
          "name": "stderr",
          "output_type": "stream",
          "text": [
            "/usr/local/lib/python3.10/dist-packages/ipykernel/ipkernel.py:283: DeprecationWarning: `should_run_async` will not call `transform_cell` automatically in the future. Please pass the result to `transformed_cell` argument and any exception that happen during thetransform in `preprocessing_exc_tuple` in IPython 7.17 and above.\n",
            "  and should_run_async(code)\n"
          ]
        }
      ],
      "source": [
        "training_kwargs['env_kwargs'] = env_kwargs\n",
        "training_kwargs['net_kwargs'] = net_kwargs\n",
        "\n",
        "# Save config\n",
        "with open(ops.get_modelpath(envid) / 'config.json', 'w') as f:\n",
        "    json.dump(training_kwargs, f)"
      ]
    },
    {
      "cell_type": "markdown",
      "metadata": {
        "id": "IP_bEakSRgm2"
      },
      "source": [
        "## 2. Supervised training of the RNN"
      ]
    },
    {
      "cell_type": "code",
      "execution_count": null,
      "metadata": {},
      "outputs": [],
      "source": [
        "def run_RL_sim(net, env, num_steps):\n",
        "    actions = []\n",
        "    gt = []\n",
        "    action = env.action_space.sample() # sample a random action from the action space\n",
        "    ob, rew, _, info = env.step(action)\n",
        "    for _ in range(int(num_steps)):\n",
        "        # concatenate ob with reward and action\n",
        "        ob = np.concatenate([ob, [rew], [action]])\n",
        "        # read out the inputs in that trial\n",
        "        inputs = torch.from_numpy(ob[:, np.newaxis, :]).type(torch.float)\n",
        "        action_pred, _ = net(inputs)\n",
        "        action_pred = action_pred.numpy()\n",
        "        action = np.argmax(action_pred[:, 0, :], axis=1)\n",
        "        # You can also try to set the action to one constant value, e.g. action = 1\n",
        "        ob, rew, _, info = env.step(action)\n",
        "        actions.append(action)\n",
        "        gt.append(info['gt'])\n",
        "    return actions, gt"
      ]
    },
    {
      "cell_type": "code",
      "execution_count": 15,
      "metadata": {
        "colab": {
          "base_uri": "https://localhost:8080/"
        },
        "id": "KoNxNIAyRgm3",
        "outputId": "73ec1ba0-f963-4cff-ad86-d66c28015887"
      },
      "outputs": [
        {
          "name": "stdout",
          "output_type": "stream",
          "text": [
            "Training task  PerceptualDecisionMaking-v0\n",
            "inputs shape:  torch.Size([100, 16, 3])\n",
            "labels shape:  torch.Size([1600])\n",
            "Max labels:  tensor(2)\n",
            "200 loss: 0.39359\n",
            "400 loss: 0.14278\n",
            "600 loss: 0.10490\n",
            "800 loss: 0.09161\n",
            "1000 loss: 0.08593\n",
            "1200 loss: 0.08294\n",
            "1400 loss: 0.08122\n",
            "1600 loss: 0.08016\n",
            "1800 loss: 0.07937\n",
            "2000 loss: 0.07884\n",
            "2200 loss: 0.07849\n",
            "2400 loss: 0.07815\n",
            "2600 loss: 0.07793\n",
            "2800 loss: 0.07777\n",
            "3000 loss: 0.07759\n",
            "3200 loss: 0.07746\n",
            "3400 loss: 0.07741\n",
            "3600 loss: 0.07729\n",
            "3800 loss: 0.07722\n",
            "4000 loss: 0.07719\n",
            "4200 loss: 0.07711\n",
            "4400 loss: 0.07706\n",
            "4600 loss: 0.07706\n",
            "4800 loss: 0.07700\n",
            "5000 loss: 0.07697\n",
            "Finished Training\n"
          ]
        }
      ],
      "source": [
        "print('Training task ', envid)\n",
        "\n",
        "num_epochs = training_kwargs['n_epochs']\n",
        "num_steps = training_kwargs['seq_len']\n",
        "# We'll keep track of the loss as we train.\n",
        "# It is initialized to zero and then monitored over training interations\n",
        "running_loss = 0.0\n",
        "\n",
        "for i in range(num_epochs):\n",
        "\n",
        "    # get inputs and labels and pass them to the GPU\n",
        "    actions, ground_truth = run_RL_sim(net, env, num_steps)\n",
        "    inputs = torch.from_numpy(inputs).type(torch.float).to(device)\n",
        "    labels = torch.from_numpy(labels.flatten()).type(torch.long).to(device)\n",
        "    # print shapes of inputs and labels\n",
        "    if i == 0:\n",
        "        print('inputs shape: ', inputs.shape)\n",
        "        print('labels shape: ', labels.shape)\n",
        "        print('Max labels: ', labels.max())\n",
        "    # we need zero the parameter gradients to re-initialize and avoid they accumulate across epochs\n",
        "    optimizer.zero_grad()\n",
        "\n",
        "    # INSTRUCTION 3: FORWARD PASS: get the output of the network for a given input\n",
        "    outputs, _ = net(inputs)\n",
        "\n",
        "    #reshape outputs so they have the same shape as labels\n",
        "    outputs = outputs.view(-1, env.action_space.n)\n",
        "\n",
        "    #  INSTRUCTION 4: compute loss with respect to the labels\n",
        "    loss = criterion(outputs, labels)\n",
        "\n",
        "    # INSTRUCTION 5: compute gradients\n",
        "    loss.backward()\n",
        "\n",
        "    # INSTRUCTION 6: update weights\n",
        "    optimizer.step()\n",
        "\n",
        "    # print average loss over last 200 training iterations and save the current network\n",
        "    running_loss += loss.item()\n",
        "    if i % 200 == 199:\n",
        "        print('{:d} loss: {:0.5f}'.format(i + 1, running_loss / 200))\n",
        "        running_loss = 0.0\n",
        "\n",
        "        # save current state of network's parameters\n",
        "        torch.save(net.state_dict(), ops.get_modelpath(envid) / 'net.pth')\n",
        "\n",
        "print('Finished Training')"
      ]
    },
    {
      "cell_type": "markdown",
      "metadata": {
        "id": "RweGGCYQRgm4"
      },
      "source": [
        "## 3. Run the trained network\n",
        "### (and save the behavioral data)"
      ]
    },
    {
      "cell_type": "markdown",
      "metadata": {
        "id": "fY9DMlFJgUqa"
      },
      "source": [
        "We will now run the network that we have trained. Importantly, we will record the activity of the network and the task variables for the analysis."
      ]
    },
    {
      "cell_type": "code",
      "execution_count": 16,
      "metadata": {
        "id": "WQBTJbKigUqa"
      },
      "outputs": [],
      "source": [
        "# load configuration file - we might have run the training on the cloud and might now open the results locally\n",
        "with open(ops.get_modelpath(envid) / 'config.json') as f:\n",
        "    config = json.load(f)"
      ]
    },
    {
      "cell_type": "markdown",
      "metadata": {
        "id": "xOsGu1e3gUqb"
      },
      "source": [
        "Now, we'll make a new instance of the `Net` class and populate it with hyperparameters from our config file, as well as the trained weights."
      ]
    },
    {
      "cell_type": "code",
      "execution_count": 17,
      "metadata": {
        "colab": {
          "base_uri": "https://localhost:8080/"
        },
        "id": "53ea3YbIRgm4",
        "outputId": "a6bc40d4-6183-49c6-ebe4-6dfb1ec0f11b"
      },
      "outputs": [
        {
          "name": "stdout",
          "output_type": "stream",
          "text": [
            "Shape of inputs: torch.Size([9, 1, 3])\n",
            "Average performance 0.49\n",
            "Activity stats:\n",
            "Max: 1.6003311, Min: 0.0, Mean: 0.25122955, Std: 0.45956355, Shape: (1000, 9, 64)\n"
          ]
        }
      ],
      "source": [
        "# Since we will not train the network anymore, we can turn off the gradient computation. The most commun way to do this is to use the context manager torch.no_grad() as follows:\n",
        "with torch.no_grad():\n",
        "    net = Net(input_size=config['net_kwargs']['input_size'],\n",
        "              hidden_size=config['net_kwargs']['hidden_size'],\n",
        "              output_size=config['net_kwargs']['action_size'])\n",
        "\n",
        "    net = net.to(device) # pass to GPU for running forwards steps\n",
        "\n",
        "    # load the trained network's weights from the saved file\n",
        "    net.load_state_dict(torch.load(ops.get_modelpath(envid) / 'net.pth'))\n",
        "\n",
        "    # how many trials to run\n",
        "    num_trial = 1000\n",
        "\n",
        "    # empty lists / dataframe to store activity, choices, and trial information\n",
        "    activity = []\n",
        "    obs = []\n",
        "    actions = []\n",
        "    gt = []\n",
        "    perf = []\n",
        "    info = pd.DataFrame()\n",
        "\n",
        "    for i in range(num_trial):\n",
        "\n",
        "        # create new trial\n",
        "        env.new_trial()\n",
        "\n",
        "        # read out the inputs in that trial\n",
        "        inputs = torch.from_numpy(env.ob[:, np.newaxis, :]).type(torch.float)\n",
        "        # as before you can print the shapes of the variables to understand what they are and how to use them\n",
        "        # do this for the rest of the variables as you build the code\n",
        "        if i == 0:\n",
        "            print('Shape of inputs: ' + str(inputs.shape))\n",
        "        # INSTRUCTION 7: get the network's prediction for the current input\n",
        "        action_pred, hidden = net(inputs)\n",
        "        action_pred = action_pred.numpy()\n",
        "\n",
        "        # INSTRUCTION 8: get the network's choice.\n",
        "        # Take into account the shape of action_pred. Remember that the network makes a prediction for each time step in the trial.\n",
        "        # Which is the prediction we really care about when evaluating the network's performance?\n",
        "        choice = np.argmax(action_pred[:, 0, :], axis=1)\n",
        "        # INSTRUCTION 9: check if the choice is correct\n",
        "        # Again, which is the target we want when evaluating the network's performance?\n",
        "        correct = choice[-1] == env.gt[-1]\n",
        "\n",
        "        # Log trial info\n",
        "        trial_info = env.trial\n",
        "        trial_info.update({'correct': correct, 'choice': choice[-1], 'block': env.curr_block}) # Update trial_info with additional information\n",
        "        info = pd.concat([info, pd.DataFrame([trial_info])], ignore_index=True)\n",
        "\n",
        "        # Log activity\n",
        "        activity.append(np.array(hidden)[:, 0, :])\n",
        "\n",
        "        # Log the inputs (or observations) received by the network\n",
        "        obs.append(env.ob)\n",
        "        actions.append(choice)\n",
        "        gt.append(env.gt)\n",
        "        perf.append(choice == env.gt)\n",
        "\n",
        "\n",
        "    print('Average performance', np.mean(info['correct']))\n",
        "\n",
        "activity = np.array(activity)\n",
        "obs = np.array(obs)\n",
        "print(obs.shape)\n",
        "print(actions[0])\n",
        "ops.plot_trials_timestep(inputs=obs[0], actions=actions[0], gt=gt[0], perf=perf[0], env_kwargs=env_kwargs)   \n",
        "# print stats of the activity: max, min, mean, std\n",
        "print('Activity stats:')\n",
        "print('Max: ' + str(np.max(activity)) + \\\n",
        "      ', Min: ' + str(np.min(activity)) + \\\n",
        "      ', Mean: ' + str(np.mean(activity)) + \\\n",
        "      ', Std: ' + str(np.std(activity)) + \\\n",
        "        ', Shape: ' + str(activity.shape))"
      ]
    },
    {
      "cell_type": "markdown",
      "metadata": {
        "id": "8jO8vmavgUqb"
      },
      "source": [
        "### 4. Network analysis"
      ]
    },
    {
      "cell_type": "markdown",
      "metadata": {
        "id": "UAFYD-RhgUqc"
      },
      "source": [
        "#### 4.1. Behavioral analysis\n",
        "\n",
        "First, we will do a simple analysis of the network's behavior. Will the network behave similarly to a human participant? We have seen above that its average fraction of correct is at ~ 0.8-0.9. Let's now calculate the psychometric curve, i.e., performance by evidence levels. Use the `info` dataframe as if it was behavioral data from a participant."
      ]
    },
    {
      "cell_type": "code",
      "execution_count": 18,
      "metadata": {
        "colab": {
          "base_uri": "https://localhost:8080/"
        },
        "id": "btlDgk0tgUqc",
        "outputId": "14d0d2c9-075b-4b9b-90e7-b6ef812016e4"
      },
      "outputs": [
        {
          "name": "stdout",
          "output_type": "stream",
          "text": [
            "Info dataframe:\n",
            "   ground_truth   coh  correct  choice  block\n",
            "0             1  25.6    False       1      0\n",
            "1             1  51.2    False       1      0\n",
            "2             1   6.4    False       1      0\n",
            "3             1  51.2    False       1      0\n",
            "4             0   6.4     True       1      0\n"
          ]
        },
        {
          "name": "stderr",
          "output_type": "stream",
          "text": [
            "/usr/local/lib/python3.10/dist-packages/ipykernel/ipkernel.py:283: DeprecationWarning: `should_run_async` will not call `transform_cell` automatically in the future. Please pass the result to `transformed_cell` argument and any exception that happen during thetransform in `preprocessing_exc_tuple` in IPython 7.17 and above.\n",
            "  and should_run_async(code)\n"
          ]
        }
      ],
      "source": [
        "# print the variables in the info dataframe\n",
        "print('Info dataframe:')\n",
        "print(info.head())"
      ]
    },
    {
      "cell_type": "markdown",
      "metadata": {
        "id": "I0grBJ2PgUqc"
      },
      "source": [
        "Plot the psychometric curve. You can use the function you wrote in the first tutorial."
      ]
    },
    {
      "cell_type": "code",
      "execution_count": 19,
      "metadata": {
        "colab": {
          "base_uri": "https://localhost:8080/",
          "height": 550
        },
        "id": "6Oghq5l4gUqc",
        "outputId": "32188ef8-c623-4fe1-b4f1-ecc8ad41d944"
      },
      "outputs": [
        {
          "name": "stderr",
          "output_type": "stream",
          "text": [
            "/usr/local/lib/python3.10/dist-packages/ipykernel/ipkernel.py:283: DeprecationWarning: `should_run_async` will not call `transform_cell` automatically in the future. Please pass the result to `transformed_cell` argument and any exception that happen during thetransform in `preprocessing_exc_tuple` in IPython 7.17 and above.\n",
            "  and should_run_async(code)\n",
            "/usr/local/lib/python3.10/dist-packages/scipy/optimize/_minpack_py.py:1010: OptimizeWarning: Covariance of the parameters could not be estimated\n",
            "  warnings.warn('Covariance of the parameters could not be estimated',\n"
          ]
        },
        {
          "data": {
            "image/png": "[encoded data removed]",
            "text/plain": [
              "<Figure size 450x450 with 1 Axes>"
            ]
          },
          "metadata": {},
          "output_type": "display_data"
        }
      ],
      "source": [
        "# plot the probability of choosing right as a function of the signed coherence and then fit a psychometric curve to the data.\n",
        "mpl.rcParams['font.family'] = ['DejaVu Serif']\n",
        "from scipy.optimize import curve_fit\n",
        "block_colors = ['m', 'c']\n",
        "def plot_psychometric_curve(info):\n",
        "    f, ax = plt.subplots(1, 1, figsize=(3, 3), dpi=150)\n",
        "    choice = info['choice'].values\n",
        "    # translate choice to 0 and 1\n",
        "    choice_01 = np.copy(choice)\n",
        "    choice_01 -= 1\n",
        "    gt = info['ground_truth'].values\n",
        "    coherence = info['coh'].values\n",
        "    # get signed coherence\n",
        "    signed_coherence = np.copy(coherence)\n",
        "    signed_coherence[gt == 0] = -signed_coherence[gt == 0]\n",
        "    block = info['block'].values\n",
        "\n",
        "    for i_blk, blk in enumerate(np.unique(block)):\n",
        "        idx = block == blk\n",
        "        print(blk)\n",
        "        # filter trials by block\n",
        "        choice_01_block = choice_01[idx]\n",
        "        signed_coherence_block = signed_coherence[idx]\n",
        "        # INSTRUCTION 10: plot the probability of choosing right as a function of the signed coherence\n",
        "        for sc in np.unique(signed_coherence_block):\n",
        "            prob_right = np.mean(choice_01_block[signed_coherence_block == sc])\n",
        "            std_right = np.std(choice_01_block[signed_coherence_block == sc])/np.sqrt(np.sum(signed_coherence_block == sc))\n",
        "            ax.errorbar(sc, prob_right, yerr=std_right, color=block_colors[i_blk])\n",
        "            ax.plot(sc, prob_right, 'o', color='k')\n",
        "            ax.set_xlabel('Signed coherence')\n",
        "            ax.set_ylabel('P(right)')\n",
        "        # fit psychometric curve\n",
        "        pars, _ = curve_fit(ops.probit, signed_coherence_block, choice_01_block, p0=[0, 1])\n",
        "        x = np.linspace(-50, 50, 100)\n",
        "        ax.plot(x, ops.probit(x, *pars), color=block_colors[i_blk], label='Block ' + str(blk) + ' slope: ' + str(np.round(pars[1], 2)))\n",
        "    plt.legend()\n",
        "    plt.show()\n",
        "plot_psychometric_curve(info)"
      ]
    },
    {
      "cell_type": "markdown",
      "metadata": {
        "id": "_9lkm4_cRgm5"
      },
      "source": [
        "#### 4.2. neural analysis\n",
        "\n",
        "We will now inspect the network actity and observations. `activity` is of shape (100, 24, 64) (`[ntrials x ntime x nneurons]`), and observations of shape (100, 24, 3) (`[ntrials x ntime x nobs]`)."
      ]
    },
    {
      "cell_type": "markdown",
      "metadata": {
        "id": "wH6VnN8VgUqd"
      },
      "source": [
        "##### Plot an example trial"
      ]
    },
    {
      "cell_type": "code",
      "execution_count": 20,
      "metadata": {
        "colab": {
          "base_uri": "https://localhost:8080/",
          "height": 670
        },
        "id": "FFKsJCj3gUqd",
        "outputId": "ed5ade5d-b03d-4dc6-f13d-facca4e5d8c5"
      },
      "outputs": [
        {
          "name": "stderr",
          "output_type": "stream",
          "text": [
            "/usr/local/lib/python3.10/dist-packages/ipykernel/ipkernel.py:283: DeprecationWarning: `should_run_async` will not call `transform_cell` automatically in the future. Please pass the result to `transformed_cell` argument and any exception that happen during thetransform in `preprocessing_exc_tuple` in IPython 7.17 and above.\n",
            "  and should_run_async(code)\n"
          ]
        },
        {
          "data": {
            "image/png": "[encoded data removed]",
            "text/plain": [
              "<Figure size 750x600 with 4 Axes>"
            ]
          },
          "metadata": {},
          "output_type": "display_data"
        }
      ],
      "source": [
        "def plot_activity(activity, obs, config, trial):\n",
        "\n",
        "    # Load and preprocess results\n",
        "    f, ax = plt.subplots(figsize=(5, 4), nrows=2, dpi=150)\n",
        "\n",
        "    # time in ms\n",
        "    t_plot = np.arange(activity.shape[1]) * config['dt']\n",
        "\n",
        "    # plot the observations for one trial. Note that we will visualize the inputs as a matrix instead of traces, as we have done before.\n",
        "    im = ax[0].imshow(obs[trial].T, aspect='auto', vmin=0, vmax=1)\n",
        "    ax[0].set_title('Observations')\n",
        "    ax[0].set_ylabel('Stimuli')\n",
        "\n",
        "    # change the xticks to show time in ms\n",
        "    ax[0].set_xticks(np.arange(0, activity.shape[1], 10))\n",
        "    ax[0].set_xticklabels(t_plot[::10])\n",
        "    plt.colorbar(im, ax=ax[0])\n",
        "    # INSTRUCTION 11: plot the activity for one trial\n",
        "    im = ax[1].imshow(activity[trial].T, aspect='auto', cmap='viridis')\n",
        "    ax[1].set_title('Activity')\n",
        "    ax[1].set_xlabel('Time (ms)')\n",
        "    ax[1].set_ylabel('Neurons')\n",
        "    plt.colorbar(im, ax=ax[1])\n",
        "    # change the xticks to show time in ms\n",
        "    ax[1].set_xticks(np.arange(0, activity.shape[1], 10))\n",
        "    ax[1].set_xticklabels(t_plot[::10])\n",
        "\n",
        "    plt.tight_layout()\n",
        "\n",
        "plot_activity(activity=activity, obs=obs, config=config, trial=0)"
      ]
    },
    {
      "cell_type": "markdown",
      "metadata": {
        "id": "KVY9GNiAgUqe"
      },
      "source": [
        "You can see that many neurons are completely silent. Is this always like this? Let's identify and exclude the silent neurons."
      ]
    },
    {
      "cell_type": "code",
      "execution_count": 21,
      "metadata": {
        "colab": {
          "base_uri": "https://localhost:8080/",
          "height": 632
        },
        "id": "TIEItj3JgUqe",
        "outputId": "997a1b77-2c50-42e1-b77a-36363ddb2e1b"
      },
      "outputs": [
        {
          "name": "stdout",
          "output_type": "stream",
          "text": [
            "fraction of silent neurons: 0.734375\n"
          ]
        },
        {
          "data": {
            "image/png": "[encoded data removed]",
            "text/plain": [
              "<Figure size 750x600 with 4 Axes>"
            ]
          },
          "metadata": {},
          "output_type": "display_data"
        }
      ],
      "source": [
        "silent_idx = np.where(activity.sum(axis=(0, 1))==0)[0]\n",
        "\n",
        "print('fraction of silent neurons:', len(silent_idx)/activity.shape[-1])\n",
        "# INSRTUCTION 12: plot the activity for one trial, but now excluding the silent neurons\n",
        "clean_activity = activity[:,:,np.delete(np.arange(activity.shape[-1]), silent_idx)]\n",
        "plot_activity(activity=clean_activity, obs=obs, config=config, trial=0)"
      ]
    },
    {
      "cell_type": "markdown",
      "metadata": {
        "id": "Igj-AUPBgUqf"
      },
      "source": [
        " You see that 50% of the neurons are silent. Why do you think this happens?\n",
        "\n",
        " Also, as in biological networks, the active units of the RNN have different levels of activity. We will thus normalize the acitvity across all trials (so that all neurons have the same minimum and maximum activity) and plot again."
      ]
    },
    {
      "cell_type": "code",
      "execution_count": 22,
      "metadata": {
        "colab": {
          "base_uri": "https://localhost:8080/",
          "height": 615
        },
        "id": "E8AjlVhlgUqf",
        "outputId": "c2a7881c-d43f-49e7-a02f-2629cfe7a2a5"
      },
      "outputs": [
        {
          "data": {
            "image/png": "[encoded data removed]",
            "text/plain": [
              "<Figure size 750x600 with 4 Axes>"
            ]
          },
          "metadata": {},
          "output_type": "display_data"
        }
      ],
      "source": [
        "# min_max scaling\n",
        "minmax_activity = np.array([neuron-neuron.min() for neuron in clean_activity.transpose(2,0,1)]).transpose(1,2,0)\n",
        "minmax_activity = np.array([neuron/neuron.max() for neuron in minmax_activity.transpose(2,0,1)]).transpose(1,2,0)\n",
        "\n",
        "plot_activity(activity=minmax_activity, obs=obs, config=config, trial=0)"
      ]
    },
    {
      "cell_type": "markdown",
      "metadata": {
        "id": "CVovFWiQgUqf"
      },
      "source": [
        "We can see that neurons have mixed activtity profiles, corresponding to the different task periods. Can you figure out the role played by some of these neurons?"
      ]
    },
    {
      "cell_type": "markdown",
      "metadata": {
        "id": "78iEb3fagUqg"
      },
      "source": [
        "#### Plot Peristimulus histograms for the different choices"
      ]
    },
    {
      "cell_type": "code",
      "execution_count": 25,
      "metadata": {
        "colab": {
          "base_uri": "https://localhost:8080/",
          "height": 962
        },
        "id": "nGqFPXUoRgm6",
        "outputId": "7cad291b-df3c-4379-f014-ea60222d0a34"
      },
      "outputs": [
        {
          "name": "stderr",
          "output_type": "stream",
          "text": [
            "/usr/local/lib/python3.10/dist-packages/ipykernel/ipkernel.py:283: DeprecationWarning: `should_run_async` will not call `transform_cell` automatically in the future. Please pass the result to `transformed_cell` argument and any exception that happen during thetransform in `preprocessing_exc_tuple` in IPython 7.17 and above.\n",
            "  and should_run_async(code)\n"
          ]
        },
        {
          "name": "stdout",
          "output_type": "stream",
          "text": [
            "     ground_truth   coh  correct  choice  block\n",
            "0               1  25.6    False       1      0\n",
            "1               1  51.2    False       1      0\n",
            "2               1   6.4    False       1      0\n",
            "3               1  51.2    False       1      0\n",
            "4               0   6.4     True       1      0\n",
            "..            ...   ...      ...     ...    ...\n",
            "995             1   0.0    False       1      0\n",
            "996             0   6.4     True       1      0\n",
            "997             1   6.4    False       1      0\n",
            "998             0   0.0     True       1      0\n",
            "999             0   0.0     True       1      0\n",
            "\n",
            "[1000 rows x 5 columns]\n"
          ]
        },
        {
          "ename": "TypeError",
          "evalue": "'Axes' object is not subscriptable",
          "output_type": "error",
          "traceback": [
            "\u001b[0;31m---------------------------------------------------------------------------\u001b[0m",
            "\u001b[0;31mTypeError\u001b[0m                                 Traceback (most recent call last)",
            "\u001b[0;32m<ipython-input-25-2554cdf58c24>\u001b[0m in \u001b[0;36m<cell line: 22>\u001b[0;34m()\u001b[0m\n\u001b[1;32m     20\u001b[0m         \u001b[0;31m# plt.legend(title=condition, loc='center left', bbox_to_anchor=(1.0, 0.5))\u001b[0m\u001b[0;34m\u001b[0m\u001b[0;34m\u001b[0m\u001b[0m\n\u001b[1;32m     21\u001b[0m \u001b[0;34m\u001b[0m\u001b[0m\n\u001b[0;32m---> 22\u001b[0;31m \u001b[0manalysis_activity_by_condition\u001b[0m\u001b[0;34m(\u001b[0m\u001b[0mminmax_activity\u001b[0m\u001b[0;34m,\u001b[0m \u001b[0minfo\u001b[0m\u001b[0;34m,\u001b[0m \u001b[0mconfig\u001b[0m\u001b[0;34m,\u001b[0m \u001b[0mconditions\u001b[0m\u001b[0;34m=\u001b[0m\u001b[0;34m[\u001b[0m\u001b[0;34m'choice'\u001b[0m\u001b[0;34m]\u001b[0m\u001b[0;34m)\u001b[0m \u001b[0;31m# other conditions: correct, ground_truth\u001b[0m\u001b[0;34m\u001b[0m\u001b[0;34m\u001b[0m\u001b[0m\n\u001b[0m",
            "\u001b[0;32m<ipython-input-25-2554cdf58c24>\u001b[0m in \u001b[0;36manalysis_activity_by_condition\u001b[0;34m(activity, info, config, conditions)\u001b[0m\n\u001b[1;32m     11\u001b[0m             \u001b[0;31m# INSTRUCTION 13: plot the average activity across neurons and trials for each condition\u001b[0m\u001b[0;34m\u001b[0m\u001b[0;34m\u001b[0m\u001b[0m\n\u001b[1;32m     12\u001b[0m             \u001b[0ma\u001b[0m \u001b[0;34m=\u001b[0m \u001b[0mactivity\u001b[0m\u001b[0;34m[\u001b[0m\u001b[0minfo\u001b[0m\u001b[0;34m[\u001b[0m\u001b[0mcondition\u001b[0m\u001b[0;34m]\u001b[0m \u001b[0;34m==\u001b[0m \u001b[0mvalue\u001b[0m\u001b[0;34m]\u001b[0m\u001b[0;34m\u001b[0m\u001b[0;34m\u001b[0m\u001b[0m\n\u001b[0;32m---> 13\u001b[0;31m             \u001b[0max\u001b[0m\u001b[0;34m[\u001b[0m\u001b[0mi_v\u001b[0m\u001b[0;34m]\u001b[0m\u001b[0;34m.\u001b[0m\u001b[0mimshow\u001b[0m\u001b[0;34m(\u001b[0m\u001b[0ma\u001b[0m\u001b[0;34m.\u001b[0m\u001b[0mmean\u001b[0m\u001b[0;34m(\u001b[0m\u001b[0maxis\u001b[0m\u001b[0;34m=\u001b[0m\u001b[0;36m0\u001b[0m\u001b[0;34m)\u001b[0m\u001b[0;34m.\u001b[0m\u001b[0mT\u001b[0m\u001b[0;34m,\u001b[0m \u001b[0maspect\u001b[0m\u001b[0;34m=\u001b[0m\u001b[0;34m'auto'\u001b[0m\u001b[0;34m,\u001b[0m \u001b[0mcmap\u001b[0m\u001b[0;34m=\u001b[0m\u001b[0;34m'viridis'\u001b[0m\u001b[0;34m)\u001b[0m\u001b[0;34m\u001b[0m\u001b[0;34m\u001b[0m\u001b[0m\n\u001b[0m\u001b[1;32m     14\u001b[0m             \u001b[0max\u001b[0m\u001b[0;34m[\u001b[0m\u001b[0mi_v\u001b[0m\u001b[0;34m]\u001b[0m\u001b[0;34m.\u001b[0m\u001b[0mset_xlabel\u001b[0m\u001b[0;34m(\u001b[0m\u001b[0;34m'Time (ms)'\u001b[0m\u001b[0;34m)\u001b[0m\u001b[0;34m\u001b[0m\u001b[0;34m\u001b[0m\u001b[0m\n\u001b[1;32m     15\u001b[0m             \u001b[0max\u001b[0m\u001b[0;34m[\u001b[0m\u001b[0mi_v\u001b[0m\u001b[0;34m]\u001b[0m\u001b[0;34m.\u001b[0m\u001b[0mset_ylabel\u001b[0m\u001b[0;34m(\u001b[0m\u001b[0;34m'Mean activity for '\u001b[0m \u001b[0;34m+\u001b[0m \u001b[0mcondition\u001b[0m \u001b[0;34m+\u001b[0m \u001b[0;34m' = '\u001b[0m \u001b[0;34m+\u001b[0m \u001b[0mstr\u001b[0m\u001b[0;34m(\u001b[0m\u001b[0mvalue\u001b[0m\u001b[0;34m)\u001b[0m\u001b[0;34m)\u001b[0m\u001b[0;34m\u001b[0m\u001b[0;34m\u001b[0m\u001b[0m\n",
            "\u001b[0;31mTypeError\u001b[0m: 'Axes' object is not subscriptable"
          ]
        },
        {
          "data": {
            "image/png": "[encoded data removed]",
            "text/plain": [
              "<Figure size 1500x450 with 1 Axes>"
            ]
          },
          "metadata": {},
          "output_type": "display_data"
        }
      ],
      "source": [
        "def analysis_activity_by_condition(activity, info, config, conditions=['choice']):\n",
        "    \"\"\"\n",
        "    Plot single neuron activity by condition.\n",
        "    \"\"\"\n",
        "    for condition in conditions:\n",
        "        values = pd.unique(info[condition])\n",
        "        print(info)\n",
        "        f, ax = plt.subplots(figsize=(10, 3), ncols=len(values), sharex=True, dpi=150)\n",
        "        t_plot = np.arange(activity.shape[1]) * config['dt']\n",
        "        for i_v, value in enumerate(values):\n",
        "            # INSTRUCTION 13: plot the average activity across neurons and trials for each condition\n",
        "            a = activity[info[condition] == value]\n",
        "            ax[i_v].imshow(a.mean(axis=0).T, aspect='auto', cmap='viridis')\n",
        "            ax[i_v].set_xlabel('Time (ms)')\n",
        "            ax[i_v].set_ylabel('Mean activity for ' + condition + ' = ' + str(value))\n",
        "            # change the xticks to show time in ms\n",
        "            ax[1].set_xticks(np.arange(0, activity.shape[1], 10))\n",
        "            ax[1].set_xticklabels(t_plot[::10])\n",
        "\n",
        "        # plt.legend(title=condition, loc='center left', bbox_to_anchor=(1.0, 0.5))\n",
        "\n",
        "analysis_activity_by_condition(minmax_activity, info, config, conditions=['choice']) # other conditions: correct, ground_truth"
      ]
    },
    {
      "cell_type": "markdown",
      "metadata": {
        "id": "ENSXBpeDgUqg"
      },
      "source": [
        "As you can see, there are neurons that are more active for one choice than for the other. And others are active for both, what do you think they are doing?"
      ]
    },
    {
      "cell_type": "markdown",
      "metadata": {
        "id": "8WZa-MLHgUqg"
      },
      "source": [
        "### 4.3. Stimulus and choice decoding from hidden unit activity\n",
        "\n",
        "We will now look at the information content in the hidden layers: How long does it take (after stimulus presentation) until the RNN represents stimuli reliably? We are going to use linear discriminant analysis (`sklda.LinearDiscriminantAnalysis`), which is a simple linear classifier.\n",
        "\n",
        "For each time bin, we will divide the `ntrials x nneurons` activity matrix, as well as the `ntrials` vector of labels (`info.ground_truth.values`) into a train and test set by calling `sklms.train_test_split()`. We will then fit LDA weights on the train set, and predict labels (left vs. right) from the test set activity to calculate the classification accuracy.\n",
        "\n",
        "Repeat that procedure for 100 train-test-splits to calculate the mean classification accuracy for each timepoint, as well as 95% confidence intervals over train-test-splits."
      ]
    },
    {
      "cell_type": "code",
      "execution_count": null,
      "metadata": {
        "id": "QmFcLIWagUqg"
      },
      "outputs": [],
      "source": [
        "import sklearn.model_selection as sklms\n",
        "import sklearn.discriminant_analysis as sklda"
      ]
    },
    {
      "cell_type": "code",
      "execution_count": null,
      "metadata": {
        "id": "1ViKv9vogUqh"
      },
      "outputs": [],
      "source": [
        "# number of CV splits\n",
        "n_splits = 100\n",
        "\n",
        "# set\n",
        "mean_acc = np.zeros([n_splits, minmax_activity.shape[1]]) * np.nan\n",
        "\n",
        "for i in range(n_splits):\n",
        "\n",
        "    # transpose tensor to be shape [trials, time, neurons]\n",
        "    for xi,x in enumerate(minmax_activity.transpose(1,0,2)):\n",
        "\n",
        "        # INSTRUCTION 14: split data into train and test sets using sklms.\n",
        "        x_train, x_test, y_train, y_test = sklms.train_test_split(x, info.ground_truth.values, random_state=i)\n",
        "\n",
        "        # INSTRUCTION 15: fit a linear discriminant analysis model to the training data using sklda\n",
        "        lda_fitted = sklda.LinearDiscriminantAnalysis(solver='lsqr').fit(X=x_train, y=y_train)\n",
        "\n",
        "        # INSTRUCTION 16: predict the labels for the test data\n",
        "        y_pred = lda_fitted.predict(x_test)\n",
        "\n",
        "        # INSTRUCTION 17: compute the accuracy of the model\n",
        "        correct = 1 - np.abs(y_pred - y_test)\n",
        "\n",
        "        mean_acc[i,xi] = correct.mean()"
      ]
    },
    {
      "cell_type": "code",
      "execution_count": null,
      "metadata": {
        "id": "g-mXNeOTgUqj"
      },
      "outputs": [],
      "source": [
        "# calculate 95% CI\n",
        "ci_acc = np.percentile(mean_acc, [5,95], axis=0)"
      ]
    },
    {
      "cell_type": "markdown",
      "metadata": {
        "id": "56UZIyqkgUqj"
      },
      "source": [
        "Plot the classification accuracy (together with the 95% CI) over the course of time."
      ]
    },
    {
      "cell_type": "code",
      "execution_count": null,
      "metadata": {
        "id": "NGfTgkRJgUqj"
      },
      "outputs": [],
      "source": [
        "# for plotting: time axis, stim and resp times\n",
        "t_plot = np.arange(activity.shape[1]) * config['dt']\n",
        "stim_onset = t_plot[np.where(obs[0,:,1]!=0)[0][0]]\n",
        "resp_onset= t_plot[np.where(obs[0,:,0]!=1)[0][0]]\n",
        "\n",
        "# plot linear classification accuracy\n",
        "plt.figure(figsize=(4,3), dpi=150)\n",
        "plt.plot(t_plot, np.zeros(mean_acc.shape[1])+.5, 'k--', alpha=.2)\n",
        "plt.plot(stim_onset, .48, '^', color = 'r', ms=10)\n",
        "plt.plot(resp_onset, .48, '^', color='b', ms=10)\n",
        "plt.plot(t_plot, np.mean(mean_acc, axis=0), 'k')\n",
        "plt.fill_between(t_plot, ci_acc[0], ci_acc[1], color='k', alpha=.2)\n",
        "plt.ylabel('classification accuracy')\n",
        "plt.xlabel('time')\n",
        "plt.xlim(t_plot[0],t_plot[-1])"
      ]
    },
    {
      "cell_type": "markdown",
      "metadata": {
        "id": "-keqgg8ygUqj"
      },
      "source": [
        "We can see that before stimulus presentation, classification accuracy is at chance. In contrast, information about the stimulus rises quickly after.\n",
        "\n",
        "Will these network dynamics look different for stimuli of different coherence levels? Repeat the same analysis for each level of coherence (`info.coh.values`) and plot the mean accuracy with the pre-specified color gradient. To keep the plot clean, skip confidence intervals."
      ]
    },
    {
      "cell_type": "code",
      "execution_count": null,
      "metadata": {
        "id": "-WM0vIOkgUqk"
      },
      "outputs": [],
      "source": [
        "mean_acc = np.zeros([len(np.unique(info.coh.values)), n_splits, minmax_activity.shape[1]])\n",
        "\n",
        "for ci,c in enumerate(np.unique(info.coh.values)):\n",
        "\n",
        "    # INSTRUCTION 18: get the indices of the trials with the current coherence\n",
        "    cidx = np.where(info.coh.values==c)\n",
        "\n",
        "    for i in range(n_splits):\n",
        "\n",
        "        # transpose tensor to be shape [trials, time, neurons]\n",
        "        for xi,x in enumerate(minmax_activity[cidx].transpose(1,0,2)):\n",
        "\n",
        "            # train-test-split\n",
        "            x_train, x_test, y_train, y_test = sklms.train_test_split(x, info.ground_truth.values[cidx], random_state=i)\n",
        "\n",
        "            # fit to train data\n",
        "            lda_fitted = sklda.LinearDiscriminantAnalysis(solver='lsqr').fit(X=x_train, y=y_train)\n",
        "\n",
        "            # predict test set labels\n",
        "            y_pred = lda_fitted.predict(x_test)\n",
        "\n",
        "            # is the response correct for each trial?\n",
        "            correct = 1 - np.abs(y_pred - y_test)\n",
        "\n",
        "            mean_acc[ci,i,xi] = correct.mean()"
      ]
    },
    {
      "cell_type": "code",
      "execution_count": null,
      "metadata": {
        "id": "GHWItUxvgUqk"
      },
      "outputs": [],
      "source": [
        "# colors corresponding to different values of color gradient\n",
        "colors = plt.get_cmap('magma')(np.linspace(0.1,.9, len(np.unique(info.coh.values))))\n",
        "\n",
        "# plot linear classification accuracy\n",
        "plt.figure(figsize=(4,3), dpi=120)\n",
        "\n",
        "# plot mean acc for each coherence level\n",
        "for ci in range(len(np.unique(info.coh.values))):\n",
        "    plt.plot(t_plot, np.mean(mean_acc[ci], axis=0), color=colors[ci], label=np.unique(info.coh.values)[ci])\n",
        "\n",
        "plt.plot(t_plot, np.zeros(mean_acc[ci].shape[1])+.5, 'k--', alpha=.2)\n",
        "plt.plot(stim_onset, .48, '^', color = 'k', ms=10)\n",
        "plt.plot(resp_onset, .48, '^', color='k', ms=10)\n",
        "plt.ylabel('classification accuracy')\n",
        "plt.xlabel('time')\n",
        "plt.xlim(t_plot[0], t_plot[-1])\n",
        "plt.legend(frameon=False)"
      ]
    },
    {
      "cell_type": "code",
      "execution_count": null,
      "metadata": {},
      "outputs": [],
      "source": [
        "env.reset()"
      ]
    }
  ],
  "metadata": {
    "colab": {
      "provenance": [],
      "toc_visible": true
    },
    "kernelspec": {
      "display_name": "Python 3 (ipykernel)",
      "language": "python",
      "name": "python3"
    },
    "language_info": {
      "codemirror_mode": {
        "name": "ipython",
        "version": 3
      },
      "file_extension": ".py",
      "mimetype": "text/x-python",
      "name": "python",
      "nbconvert_exporter": "python",
      "pygments_lexer": "ipython3",
      "version": "3.11.4"
    }
  },
  "nbformat": 4,
  "nbformat_minor": 0
}
