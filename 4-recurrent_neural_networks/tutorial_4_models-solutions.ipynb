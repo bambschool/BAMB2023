{
 "cells": [
  {
   "cell_type": "markdown",
   "metadata": {},
   "source": [
    "# Introduction to Neural Networks: Perceptron and Multi-Layer Perceptron\n",
    "\n",
    "In this tutorial, we will learn how to use Perceptron and Multi-Layer Perceptron (MLP) neural networks to solve simple classification tasks. We will walk through the necessary steps to implement and train these networks using PyTorch.\n",
    "\n",
    "## Index\n",
    "1. Installs, Packages, and Auxiliary Functions\n",
    "2. Preparing for the Training\n",
    "    - Training Parameters\n",
    "    - Define the Task (Sample Dataset)\n",
    "    - Define the Network\n",
    "    - Define the Algorithm to Train the Network\n",
    "    - Save Config\n",
    "3. Supervised Training of the Network\n",
    "4. Run the Trained Network (and Save the Behavioral Data)\n",
    "5. Network Analysis\n",
    "    - Behavioral Analysis\n",
    "    - General Neural Analysis\n",
    "    - Stimulus and Choice Decoding from Network Activity"
   ]
  },
  {
   "cell_type": "markdown",
   "metadata": {},
   "source": [
    "## 1. Installs, Packages, and Auxiliary Functions"
   ]
  },
  {
   "cell_type": "code",
   "execution_count": null,
   "metadata": {},
   "outputs": [],
   "source": [
    "# Install necessary packages\n",
    "!pip install torch numpy matplotlib"
   ]
  },
  {
   "cell_type": "code",
   "execution_count": null,
   "metadata": {},
   "outputs": [],
   "source": [
    "# Import required packages\n",
    "import torch\n",
    "import torch.nn as nn\n",
    "import torch.optim as optim\n",
    "import numpy as np\n",
    "import matplotlib.pyplot as plt"
   ]
  },
  {
   "cell_type": "markdown",
   "metadata": {},
   "source": [
    "## 2. Preparing for the Training\n",
    "\n",
    "### a. Training Parameters\n",
    "First, we will set up the parameters that will be used throughout the training process, such as learning rates, batch sizes, and the number of epochs."
   ]
  },
  {
   "cell_type": "code",
   "execution_count": null,
   "metadata": {},
   "outputs": [],
   "source": [
    "# Training parameters\n",
    "learning_rate = 0.01\n",
    "num_epochs = 1000\n",
    "hidden_size = 2\n",
    "input_size = 2\n",
    "output_size = 1"
   ]
  },
  {
   "cell_type": "markdown",
   "metadata": {},
   "source": [
    "### b. Define the Task (Sample Dataset)\n",
    "We will define two tasks: a linearly separable task and the XOR task. These tasks will be used to train and evaluate our Perceptron and MLP models."
   ]
  },
  {
   "cell_type": "code",
   "execution_count": null,
   "metadata": {},
   "outputs": [],
   "source": [
    "def generate_linear_data(N=100, D=2):\n",
    "    X = np.random.randn(N, D)\n",
    "    X[:N//2, :] += 1\n",
    "    X[N//2:, :] -= 1\n",
    "    Y = np.concatenate((np.zeros(N//2), np.ones(N//2)))\n",
    "    X = torch.tensor(X, dtype=torch.float32)\n",
    "    Y = torch.tensor(Y, dtype=torch.float32)\n",
    "    return X, Y\n",
    "\n",
    "def generate_xor_data():\n",
    "    X = np.array([[0, 0], [0, 1], [1, 0], [1, 1]], dtype=np.float32)\n",
    "    Y = np.array([0, 1, 1, 0], dtype=np.float32)\n",
    "    X = torch.tensor(X)\n",
    "    Y = torch.tensor(Y)\n",
    "    return X, Y"
   ]
  },
  {
   "cell_type": "markdown",
   "metadata": {},
   "source": [
    "### c. Define the Network\n",
    "Next, we define our Perceptron and MLP models."
   ]
  },
  {
   "cell_type": "code",
   "execution_count": null,
   "metadata": {},
   "outputs": [],
   "source": [
    "class Perceptron(nn.Module):\n",
    "    def __init__(self, input_size, output_size):\n",
    "        super(Perceptron, self).__init__()\n",
    "        self.W = nn.Parameter(torch.randn(output_size, input_size) * 0.01)\n",
    "        self.b = nn.Parameter(torch.zeros(output_size))\n",
    "\n",
    "    def forward(self, x):\n",
    "        x = torch.matmul(x, self.W.T) + self.b\n",
    "        return x\n",
    "\n",
    "class MLP(nn.Module):\n",
    "    def __init__(self, input_size, hidden_size, output_size):\n",
    "        super(MLP, self).__init__()\n",
    "        self.W_ih = nn.Parameter(torch.randn(hidden_size, input_size) * 0.01)\n",
    "        self.b_ih = nn.Parameter(torch.zeros(hidden_size))\n",
    "        self.W_ho = nn.Parameter(torch.randn(output_size, hidden_size) * 0.01)\n",
    "        self.b_ho = nn.Parameter(torch.zeros(output_size))\n",
    "\n",
    "    def forward(self, x):\n",
    "        h = torch.relu(torch.matmul(x, self.W_ih.T) + self.b_ih)\n",
    "        x = torch.matmul(h, self.W_ho.T) + self.b_ho\n",
    "        return x"
   ]
  },
  {
   "cell_type": "markdown",
   "metadata": {},
   "source": [
    "### d. Define the Algorithm to Train the Network\n",
    "We will create functions to train and evaluate our networks."
   ]
  },
  {
   "cell_type": "code",
   "execution_count": null,
   "metadata": {},
   "outputs": [],
   "source": [
    "def train_model(model, criterion, optimizer, X, Y, num_epochs=1000, print_interval=100):\n",
    "    for epoch in range(num_epochs):\n",
    "        optimizer.zero_grad()\n",
    "        outputs = model(X)\n",
    "        loss = criterion(outputs.squeeze(), Y.view(-1, 1))\n",
    "        loss.backward()\n",
    "        optimizer.step()\n",
    "        if (epoch + 1) % print_interval == 0:\n",
    "            print(f'Epoch [{epoch + 1}/{num_epochs}], Loss: {loss.item():.4f}')\n",
    "\n",
    "def evaluate_model(model, X):\n",
    "    with torch.no_grad():\n",
    "        outputs = model(X)\n",
    "        predicted = (torch.sigmoid(outputs.squeeze()) > 0.5).float()\n",
    "    return predicted"
   ]
  },
  {
   "cell_type": "markdown",
   "metadata": {},
   "source": [
    "### e. Save Config\n",
    "You can save your configuration settings for reproducibility."
   ]
  },
  {
   "cell_type": "code",
   "execution_count": null,
   "metadata": {},
   "outputs": [],
   "source": [
    "config = {\n",
    "    'learning_rate': learning_rate,\n",
    "    'num_epochs': num_epochs,\n",
    "    'hidden_size': hidden_size,\n",
    "    'input_size': input_size,\n",
    "    'output_size': output_size\n",
    "}"
   ]
  },
  {
   "cell_type": "markdown",
   "metadata": {},
   "source": [
    "## 3. Supervised Training of the Network\n",
    "We will train our Perceptron and MLP on the defined tasks."
   ]
  },
  {
   "cell_type": "code",
   "execution_count": null,
   "metadata": {},
   "outputs": [],
   "source": [
    "# Training Perceptron on linear data\n",
    "X_linear, Y_linear = generate_linear_data()\n",
    "model_perceptron = Perceptron(input_size, output_size)\n",
    "criterion = nn.BCEWithLogitsLoss()\n",
    "optimizer = optim.SGD(model_perceptron.parameters(), lr=learning_rate)\n",
    "train_model(model_perceptron, criterion, optimizer, X_linear, Y_linear)"
   ]
  },
  {
   "cell_type": "code",
   "execution_count": null,
   "metadata": {},
   "outputs": [],
   "source": [
    "# Training MLP on XOR data\n",
    "X_xor, Y_xor = generate_xor_data()\n",
    "model_mlp = MLP(input_size, hidden_size, output_size)\n",
    "optimizer = optim.SGD(model_mlp.parameters(), lr=learning_rate)\n",
    "train_model(model_mlp, criterion, optimizer, X_xor, Y_xor, num_epochs=10000)"
   ]
  },
  {
   "cell_type": "markdown",
   "metadata": {},
   "source": [
    "## 4. Run the Trained Network (and Save the Behavioral Data)\n",
    "Run the trained models on test data and save the predictions."
   ]
  },
  {
   "cell_type": "code",
   "execution_count": null,
   "metadata": {},
   "outputs": [],
   "source": [
    "# Evaluate Perceptron\n",
    "predictions_perceptron = evaluate_model(model_perceptron, X_linear)\n",
    "print(\"Perceptron Predictions on Linear Data:\", predictions_perceptron)"
   ]
  },
  {
   "cell_type": "code",
   "execution_count": null,
   "metadata": {},
   "outputs": [],
   "source": [
    "# Evaluate MLP\n",
    "predictions_mlp = evaluate_model(model_mlp, X_xor)\n",
    "print(\"MLP Predictions on XOR Data:\", predictions_mlp)"
   ]
  },
  {
   "cell_type": "markdown",
   "metadata": {},
   "source": [
    "## 5. Network Analysis\n",
    "\n",
    "### a. Behavioral Analysis\n",
    "Analyze the accuracy of the models."
   ]
  },
  {
   "cell_type": "code",
   "execution_count": null,
   "metadata": {},
   "outputs": [],
   "source": [
    "def accuracy(predictions, labels):\n",
    "    return (predictions == labels).float().mean()\n",
    "\n",
    "acc_perceptron = accuracy(predictions_perceptron, Y_linear)\n",
    "acc_mlp = accuracy(predictions_mlp, Y_xor)\n",
    "print(f'Perceptron Accuracy on Linear Data: {acc_perceptron * 100:.2f}%')\n",
    "print(f'MLP Accuracy on XOR Data: {acc_mlp * 100:.2f}%')"
   ]
  },
  {
   "cell_type": "markdown",
   "metadata": {},
   "source": [
    "### b. General Neural Analysis\n",
    "Plot the decision boundaries to visualize how the models are classifying the data."
   ]
  },
  {
   "cell_type": "code",
   "execution_count": null,
   "metadata": {},
   "outputs": [],
   "source": [
    "def plot_decision_boundary(model, X, Y, title):\n",
    "    x_min, x_max = X[:, 0].min() - 1, X[:, 0].max() + 1\n",
    "    y_min, y_max = X[:, 1].min() - 1, X[:, 1].max() + 1\n",
    "    xx, yy = np.meshgrid(np.arange(x_min, x_max, 0.01),\n",
    "                         np.arange(y_min, y_max, 0.01))\n",
    "    grid = torch.tensor(np.c_[xx.ravel(), yy.ravel()], dtype=torch.float32)\n",
    "    with torch.no_grad():\n",
    "        Z = model(grid)\n",
    "        Z = torch.sigmoid(Z).numpy()\n",
    "        Z = (Z > 0.5).astype(int)\n",
    "    Z = Z.reshape(xx.shape)\n",
    "    plt.contourf(xx, yy, Z, alpha=0.8)\n",
    "    plt.scatter(X[:, 0], X[:, 1], c=Y, edgecolors='k', marker='o')\n",
    "    plt.title(title)\n",
    "    plt.show()\n",
    "\n",
    "plot_decision_boundary(model_perceptron, X_linear, Y_linear, 'Perceptron - Linear Data')\n",
    "plot_decision_boundary(model_mlp, X_xor, Y_xor, 'MLP - XOR Data')"
   ]
  }
 ],
 "metadata": {
  "kernelspec": {
   "display_name": "Python 3",
   "language": "python",
   "name": "python3"
  },
  "language_info": {
   "codemirror_mode": {
    "name": "ipython",
    "version": 3
   },
   "file_extension": ".py",
   "mimetype": "text/x-python",
   "name": "python",
   "nbconvert_exporter": "python",
   "pygments_lexer": "ipython3",
   "version": "3.8.8"
  }
 },
 "nbformat": 4,
 "nbformat_minor": 4
}
